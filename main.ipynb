{
 "cells": [
  {
   "cell_type": "markdown",
   "metadata": {},
   "source": [
    "# Objective #1"
   ]
  },
  {
   "cell_type": "code",
   "execution_count": 638,
   "metadata": {},
   "outputs": [],
   "source": [
    "from itertools import product\n",
    "import json\n",
    "\n",
    "from matplotlib import pyplot as plt\n",
    "import numpy as np\n",
    "import pandas as pd\n",
    "from sklearn import tree, linear_model\n",
    "from sklearn.metrics import *\n",
    "from scipy.stats import pearsonr\n",
    "\n",
    "import random\n",
    "np.random.seed(0)\n",
    "random.seed(0)"
   ]
  },
  {
   "cell_type": "code",
   "execution_count": 639,
   "metadata": {},
   "outputs": [],
   "source": [
    "df = pd.read_csv(\"parkinsons_updrs.data\")\n",
    "n, m = df.shape"
   ]
  },
  {
   "cell_type": "markdown",
   "metadata": {},
   "source": [
    "## 1.1. Dataset preparation\n",
    "### 1.1.1. Shuffle and Split into training and IVS\n",
    "- `train_df` -- training set for model training/selection\n",
    "- `ivs_df` -- independet validation set (IVS) for the final benchmark"
   ]
  },
  {
   "cell_type": "code",
   "execution_count": 640,
   "metadata": {},
   "outputs": [],
   "source": [
    "df = df.sample(frac=1)\n",
    "train_size = int(0.8 * n)\n",
    "train_df = df.iloc[:train_size]\n",
    "ivs_df = df.iloc[train_size:]"
   ]
  },
  {
   "cell_type": "code",
   "execution_count": 641,
   "metadata": {},
   "outputs": [],
   "source": [
    "#train_x = np.array(train_df[['Jitter(%)', 'Shimmer', 'NHR', 'HNR', 'RPDE', 'DFA', 'PPE']])\n",
    "train_x = np.array(train_df[['age', 'sex', 'Jitter(%)', 'Shimmer', 'HNR', 'RPDE', 'DFA', 'PPE']])\n",
    "train_y = np.array(train_df[\"motor_UPDRS\"])\n",
    "\n",
    "#ivs_x = np.array(ivs_df[['Jitter(%)', 'Shimmer', 'NHR', 'HNR', 'RPDE', 'DFA', 'PPE']])\n",
    "ivs_x = np.array(ivs_df[['age', 'sex', 'Jitter(%)', 'Shimmer', 'HNR', 'RPDE', 'DFA', 'PPE']])\n",
    "ivs_y = np.array(ivs_df[\"motor_UPDRS\"])"
   ]
  },
  {
   "cell_type": "markdown",
   "metadata": {},
   "source": [
    "### 1.1.2. Scale data"
   ]
  },
  {
   "cell_type": "code",
   "execution_count": 642,
   "metadata": {},
   "outputs": [],
   "source": [
    "x_mean  = np.mean(train_x, axis=0)\n",
    "x_std   = np.std(train_x, axis=0)\n",
    "train_x = (train_x - x_mean) / x_std\n",
    "y_mean  = np.mean(train_y, axis=0)\n",
    "y_std  = np.std(train_y, axis=0)\n",
    "train_y = (train_y - y_mean) / y_std\n",
    "ivs_x_scaled = (ivs_x - np.mean(ivs_x, axis=0)) / np.std(ivs_x, axis=0)"
   ]
  },
  {
   "cell_type": "markdown",
   "metadata": {},
   "source": [
    "### 1.2.Validation techniques (shared for regression and classification)"
   ]
  },
  {
   "cell_type": "code",
   "execution_count": 643,
   "metadata": {},
   "outputs": [],
   "source": [
    "def simple_cross_validation(*, model, x, y, train_partition=(0, 0.8), metrics={\"mae\": mean_absolute_error}):\n",
    "    n, m = x.shape\n",
    "    \n",
    "    start = int(train_partition[0] * n)\n",
    "    end = int(train_partition[1] * n)\n",
    "    \n",
    "    x_train = x[start:end, :]\n",
    "    y_train = y[start:end]\n",
    "    x_test = np.concatenate((x[:start, :], x[end:, :]))\n",
    "    y_test = np.concatenate((y[:start], y[end:]))\n",
    "    \n",
    "    model.fit(x_train, y_train)\n",
    "    y_pred = model.predict(x_test)\n",
    "    \n",
    "    return {metric_name: metric_f(y_test, y_pred) for (metric_name, metric_f) in metrics.items()}\n",
    "\n",
    "\n",
    "def kfold(*, model, x, y, k=5, metrics={\"mae\": mean_absolute_error}):\n",
    "    n, m = x.shape\n",
    "    results = {metric: 0 for metric in metrics.keys()}\n",
    "    \n",
    "    for i in range(k):\n",
    "        start = i * (1/k)\n",
    "        end = start + (1/k)\n",
    "        if (i + 1) == k:\n",
    "            end = 1.0\n",
    "            \n",
    "        iteration_results = simple_cross_validation(model=model, x=x, y=y, train_partition=(start, end), metrics=metrics)\n",
    "        \n",
    "        for metric in metrics.keys():\n",
    "            results[metric] += iteration_results[metric]\n",
    "    \n",
    "    for metric in results.keys():\n",
    "        results[metric] /= k\n",
    "    \n",
    "    return results"
   ]
  },
  {
   "cell_type": "markdown",
   "metadata": {},
   "source": [
    "### 1.3. Model Selection"
   ]
  },
  {
   "cell_type": "code",
   "execution_count": 644,
   "metadata": {},
   "outputs": [
    {
     "name": "stdout",
     "output_type": "stream",
     "text": [
      "\\begin{tabular}{lllrrr}\n",
      " &  &  & mae & rve & r2 \\\\\n",
      "criterion & splitter & max_depth &  &  &  \\\\\n",
      "\\multirow[c]{5}{*}{squared\\_error} & \\multirow[c]{5}{*}{best} & 5.000000 & 4.570 & 0.437 & 0.436 \\\\\n",
      " &  & 10.000000 & 3.669 & 0.483 & 0.481 \\\\\n",
      " &  & 20.000000 & 3.716 & 0.458 & 0.456 \\\\\n",
      " &  & 50.000000 & 3.721 & 0.457 & 0.455 \\\\\n",
      " &  & nan & 3.687 & 0.467 & 0.465 \\\\\n",
      "\\multirow[c]{5}{*}{friedman\\_mse} & \\multirow[c]{5}{*}{best} & 5.000000 & 4.565 & 0.439 & 0.438 \\\\\n",
      " &  & 10.000000 & 3.682 & 0.483 & 0.481 \\\\\n",
      " &  & 20.000000 & 3.721 & 0.458 & 0.457 \\\\\n",
      " &  & 50.000000 & 3.722 & 0.458 & 0.457 \\\\\n",
      " &  & nan & 3.706 & 0.463 & 0.461 \\\\\n",
      "\\end{tabular}\n",
      "\n",
      "Linear regression results: {'mae': 6.46717699377926, 'rve': 0.10947448002201532, 'r2': 0.10833629033940603}\n",
      "\\begin{tabular}{lrrr}\n",
      " & mae & rve & r2 \\\\\n",
      "alpha &  &  &  \\\\\n",
      "0.000010 & 6.467 & 0.109 & 0.108 \\\\\n",
      "0.000100 & 6.467 & 0.109 & 0.108 \\\\\n",
      "0.001000 & 6.467 & 0.109 & 0.108 \\\\\n",
      "0.010000 & 6.467 & 0.109 & 0.108 \\\\\n",
      "0.100000 & 6.467 & 0.109 & 0.108 \\\\\n",
      "1.000000 & 6.467 & 0.110 & 0.109 \\\\\n",
      "10.000000 & 6.469 & 0.111 & 0.110 \\\\\n",
      "\\end{tabular}\n",
      "\n",
      "\\begin{tabular}{lrrr}\n",
      " & mae & rve & r2 \\\\\n",
      "alpha &  &  &  \\\\\n",
      "0.000010 & 6.467 & 0.109 & 0.108 \\\\\n",
      "0.000100 & 6.467 & 0.110 & 0.108 \\\\\n",
      "0.001000 & 6.468 & 0.110 & 0.109 \\\\\n",
      "0.010000 & 6.479 & 0.112 & 0.111 \\\\\n",
      "0.100000 & 6.697 & 0.077 & 0.077 \\\\\n",
      "1.000000 & 6.939 & 0.000 & -0.001 \\\\\n",
      "10.000000 & 6.939 & 0.000 & -0.001 \\\\\n",
      "\\end{tabular}\n",
      "\n",
      "Best Model: tree-friedman_mse-best-10\n",
      "Best Model Results: {'mae': 3.6816969055180424, 'rve': 0.48328103203971634, 'r2': 0.48139765533907247}\n"
     ]
    }
   ],
   "source": [
    "def results2df(hyperparams_names, hyperparams_values, results, metrics):\n",
    "    if len(hyperparams_names) > 1:\n",
    "        index = pd.MultiIndex.from_tuples(hyperparams_values, names=hyperparams_names)\n",
    "    else:\n",
    "        index = pd.Index(hyperparams_values, name=hyperparams_names[0])\n",
    "    data = [[m for m in v[\"evaluation\"].values()] for v in results.values()]\n",
    "    results = pd.DataFrame(data, index=index, columns=metrics.keys())\n",
    "    results = results.style.format({m: '{:.3f}' for m in metrics.keys()}, escape=\"latex\").format_index(escape=\"latex\")\n",
    "    print(results.to_latex())\n",
    "    return results\n",
    "\n",
    "\n",
    "def tree_regressor_selection(x: np.ndarray, y: np.ndarray, metrics, validation):\n",
    "    # Hyperparameters\n",
    "    criterions = [\"squared_error\", \"friedman_mse\"]\n",
    "    splitters = [\"best\"]\n",
    "    max_depths = [5, 10, 20, 50, None]\n",
    "    hyper_parameters = list(product(criterions, splitters, max_depths))\n",
    "    \n",
    "    results = {}\n",
    "    \n",
    "    for p in hyper_parameters:\n",
    "        criterion, splitter, max_depth = p\n",
    "        \n",
    "        model = tree.DecisionTreeRegressor(criterion=criterion,\n",
    "                                           splitter=splitter,\n",
    "                                           max_depth=max_depth)\n",
    "        model_results = validation(model, x, y, metrics)\n",
    "        model_name = \"tree-\" + \"-\".join([str(param) for param in p])\n",
    "        results[model_name] = {\"model\": model, \"evaluation\": model_results}\n",
    "\n",
    "    results2df([\"criterion\", \"splitter\", \"max_depth\"], hyper_parameters, results, metrics)\n",
    "        \n",
    "    return results\n",
    "\n",
    "\n",
    "def linear_regression_selection(x: np.ndarray, y: np.ndarray, metrics, validation):\n",
    "    results = {}\n",
    "\n",
    "    model = linear_model.LinearRegression()\n",
    "    model_results = validation(model, x, y, metrics)\n",
    "    results[f\"lineareg\"] = {\"model\": model, \"evaluation\": model_results}\n",
    "    \n",
    "    print(f\"Linear regression results: {results[f'lineareg']['evaluation']}\")\n",
    "\n",
    "    return results\n",
    "\n",
    "\n",
    "def ridge_selection(x: np.ndarray, y: np.ndarray, metrics, validation):\n",
    "    results = {}\n",
    "    \n",
    "    alphas = [*[10**p for p in range(-5,2)], *[]]\n",
    "    for alpha in alphas:\n",
    "        model = linear_model.Ridge(alpha=alpha)\n",
    "        model_results = validation(model, x, y, metrics)\n",
    "        results[f\"ridge-{alpha}\"] = {\"model\": model, \"evaluation\": model_results}\n",
    "        \n",
    "    results2df([\"alpha\"], alphas, results, metrics)\n",
    "        \n",
    "    return results\n",
    "\n",
    "def lasso_selection(x: np.ndarray, y: np.ndarray, metrics, validation):\n",
    "    results = {}\n",
    "    \n",
    "    alphas = [*[10**p for p in range(-5,2)], *[]]\n",
    "    for alpha in alphas:\n",
    "        model = linear_model.Lasso(alpha=alpha)\n",
    "        model_results = validation(model, x, y, metrics)\n",
    "        results[f\"lasso-{alpha}\"] = {\"model\": model, \"evaluation\": model_results}\n",
    "        \n",
    "    results2df([\"alpha\"], alphas, results, metrics)\n",
    "    return results\n",
    "\n",
    "        \n",
    "def model_selection(x: np.ndarray, y: np.ndarray):\n",
    "    metrics = {\"mae\": lambda y_true, y_pred: y_std * mean_absolute_error(y_true, y_pred), \"rve\": explained_variance_score, \"r2\": r2_score}\n",
    "    validation_technique = lambda model, x, y, metrics: kfold(model=model, x=x, y=y, k=10, metrics=metrics)\n",
    "    \n",
    "    results = {}\n",
    "    results |= tree_regressor_selection(x, y, metrics, validation_technique)\n",
    "    results |= linear_regression_selection(x, y, metrics, validation_technique)\n",
    "    results |= ridge_selection(x, y, metrics, validation_technique)\n",
    "    results |= lasso_selection(x, y, metrics, validation_technique)\n",
    "    \n",
    "    best_model_name = max(results, key=lambda model: results[model][\"evaluation\"][\"rve\"])\n",
    "    best_model = results[best_model_name] | {\"name\": best_model_name}\n",
    "        \n",
    "    return best_model, results\n",
    "\n",
    "best_regressor, other_regressors = model_selection(train_x, train_y)\n",
    "print(f\"Best Model: {best_regressor['name']}\")\n",
    "print(f\"Best Model Results: {best_regressor['evaluation']}\")\n",
    "# print(json.dumps({\"-\".join([str(p) for p in k]): v[\"avg_evaluation\"] for (k, v) in results.items()}, indent=4))"
   ]
  },
  {
   "cell_type": "markdown",
   "metadata": {},
   "source": [
    "## 1.4. Validate against IVS"
   ]
  },
  {
   "cell_type": "code",
   "execution_count": 645,
   "metadata": {},
   "outputs": [
    {
     "name": "stdout",
     "output_type": "stream",
     "text": [
      "--- Regressor ---\n",
      "Model: tree-friedman_mse-best-10\n",
      "21.29284085106383\n",
      "[19.84  22.88  20.827 ... 15.    18.    11.117]\n",
      "Performance on IVS: {'mae': 3.5193063192464606, 'rve': 0.5551174398743989, 'r2': 0.5500932527203127, 'pearson_corr': (0.7691670707137763, 2.352284756602611e-230)}\n",
      "MAE: 3.5193063192464606 \n",
      "RVE: 0.5551174398743989\n",
      "Pearson Correlation Score: (0.7691670707137763, 2.352284756602611e-230)\n"
     ]
    },
    {
     "data": {
      "image/png": "[encoded data removed]",
      "text/plain": [
       "<Figure size 640x480 with 1 Axes>"
      ]
     },
     "metadata": {},
     "output_type": "display_data"
    }
   ],
   "source": [
    "def validate_regressor_agains_ivs(*, model, ivs_x, ivs_y, metrics):\n",
    "    y_pred = model.predict(ivs_x)\n",
    "    print(y_mean)\n",
    "    y_pred = y_pred * y_std + y_mean\n",
    "    print(ivs_y)\n",
    "    plot = plt.figure()\n",
    "    plt.xlim(0, 45)\n",
    "    plt.ylim(0, 45)\n",
    "    plt.axline((0, 0), slope=1, color=\"black\")\n",
    "    plt.plot(y_pred, ivs_y, \".\")\n",
    "    plt.xlabel('$\\hat{y}$')\n",
    "    plt.ylabel('y')\n",
    "    plt.savefig('residuals.png')\n",
    "    plt.savefig('residuals.pdf')\n",
    "    \n",
    "    return {metric_name: metric_f(ivs_y, y_pred) for (metric_name, metric_f) in metrics.items()}\n",
    "\n",
    "\n",
    "print(\"--- Regressor ---\")\n",
    "regressor_name = best_regressor['name']\n",
    "print(f\"Model: {regressor_name}\")\n",
    "metrics = {\"mae\":mean_absolute_error, \"rve\": explained_variance_score, \"r2\": r2_score,\"pearson_corr\":pearsonr}\n",
    "performance_on_ivs = validate_regressor_agains_ivs(model=best_regressor[\"model\"], ivs_x=ivs_x_scaled, ivs_y=ivs_y, metrics=metrics)\n",
    "print(f\"Performance on IVS: {performance_on_ivs}\")\n",
    "print(f\"MAE: {performance_on_ivs['mae']} \")\n",
    "print(f\"RVE: {performance_on_ivs['rve']}\")\n",
    "print(f\"Pearson Correlation Score: {performance_on_ivs['pearson_corr']}\")"
   ]
  },
  {
   "cell_type": "markdown",
   "metadata": {},
   "source": [
    "# Objective #2"
   ]
  },
  {
   "cell_type": "markdown",
   "metadata": {},
   "source": [
    "## 2.1. Prepare data"
   ]
  },
  {
   "cell_type": "code",
   "execution_count": 646,
   "metadata": {},
   "outputs": [
    {
     "name": "stdout",
     "output_type": "stream",
     "text": [
      "No. positives: 796\n",
      "No. negatives: 3904\n"
     ]
    }
   ],
   "source": [
    "#train_x = np.array(train_df[['Jitter(%)', 'Shimmer', 'NHR', 'HNR', 'RPDE', 'DFA', 'PPE']])\n",
    "train_x = np.array(train_df[['sex', 'age', 'Jitter(%)', 'Shimmer', 'HNR', 'RPDE', 'DFA', 'PPE']])\n",
    "train_y = np.array(train_df[\"total_UPDRS\"])\n",
    "\n",
    "#ivs_x = np.array(ivs_df[['Jitter(%)', 'Shimmer', 'NHR', 'HNR', 'RPDE', 'DFA', 'PPE']])\n",
    "ivs_x = np.array(ivs_df[['sex', 'age', 'Jitter(%)', 'Shimmer', 'HNR', 'RPDE', 'DFA', 'PPE']])\n",
    "ivs_y = np.array(ivs_df[\"total_UPDRS\"])\n",
    "\n",
    "train_y = np.array(train_y > 40, dtype=bool).astype(int)  # 801 positivos, 3899 negativos\n",
    "print(f\"No. positives: {len(train_y[np.nonzero(train_y)])}\")\n",
    "print(f\"No. negatives: {len(train_y) - len(train_y[np.nonzero(train_y)])}\")\n",
    "ivs_y = np.array(ivs_y > 40, dtype=bool).astype(int)\n",
    "\n",
    "x_mean  = np.mean(train_x, axis=0)\n",
    "x_std   = np.std(train_x, axis=0)\n",
    "train_x = (train_x - x_mean) / x_std\n",
    "ivs_x_scaled = (ivs_x - np.mean(ivs_x, axis=0)) / np.std(ivs_x, axis=0)"
   ]
  },
  {
   "cell_type": "markdown",
   "metadata": {},
   "source": [
    "## 2.2. Model selection"
   ]
  },
  {
   "cell_type": "code",
   "execution_count": 647,
   "metadata": {},
   "outputs": [
    {
     "name": "stdout",
     "output_type": "stream",
     "text": [
      "\\begin{tabular}{lllrrrr}\n",
      " &  &  & acc & f1 & recall & precision \\\\\n",
      "criterion & splitter & max_depth &  &  &  &  \\\\\n",
      "\\multirow[c]{5}{*}{gini} & \\multirow[c]{5}{*}{best} & 5.000000 & 0.864 & 0.526 & 0.457 & 0.659 \\\\\n",
      " &  & 10.000000 & 0.864 & 0.602 & 0.607 & 0.599 \\\\\n",
      " &  & 20.000000 & 0.865 & 0.607 & 0.613 & 0.601 \\\\\n",
      " &  & 50.000000 & 0.865 & 0.603 & 0.605 & 0.602 \\\\\n",
      " &  & nan & 0.862 & 0.594 & 0.595 & 0.595 \\\\\n",
      "\\multirow[c]{5}{*}{entropy} & \\multirow[c]{5}{*}{best} & 5.000000 & 0.871 & 0.551 & 0.478 & 0.694 \\\\\n",
      " &  & 10.000000 & 0.874 & 0.621 & 0.609 & 0.641 \\\\\n",
      " &  & 20.000000 & 0.878 & 0.637 & 0.633 & 0.645 \\\\\n",
      " &  & 50.000000 & 0.876 & 0.635 & 0.637 & 0.636 \\\\\n",
      " &  & nan & 0.875 & 0.630 & 0.633 & 0.631 \\\\\n",
      "\\end{tabular}\n",
      "\n",
      "Logistic regression results: {'acc': 0.6963120567375887, 'f1': 0.37706816850996444, 'recall': 0.5463291701679368, 'precision': 0.29021606183183335}\n",
      "Best Model: tree-entropy-best-20\n",
      "Best Model Results: {'acc': 0.8779905437352247, 'f1': 0.6371125479557274, 'recall': 0.6330733570541693, 'precision': 0.6451943819136285}\n"
     ]
    }
   ],
   "source": [
    "def tree_classifier_selection(x: np.ndarray, y: np.ndarray, metrics, validation):\n",
    "    # Hyperparameters\n",
    "    criterions = [\"gini\", \"entropy\"]\n",
    "    splitters = [\"best\"]\n",
    "    max_depths = [5, 10, 20, 50, None]\n",
    "    hyper_parameters = list(product(criterions, splitters, max_depths))\n",
    "    \n",
    "    results = {}\n",
    "    \n",
    "    for p in hyper_parameters:\n",
    "        criterion, splitter, max_depth = p\n",
    "        \n",
    "        model = tree.DecisionTreeClassifier(criterion=criterion,\n",
    "                                            splitter=splitter,\n",
    "                                            max_depth=max_depth)\n",
    "        \n",
    "        model_results = validation(model, x, y, metrics)\n",
    "        model_name = \"tree-\" + \"-\".join([str(param) for param in p])\n",
    "        results[model_name] = {\"model\": model, \"evaluation\": model_results}\n",
    "\n",
    "    results2df([\"criterion\", \"splitter\", \"max_depth\"], hyper_parameters, results, metrics)\n",
    "\n",
    "    return results\n",
    "\n",
    "def logistic_regression_selection(x: np.ndarray, y: np.ndarray, metrics, validation):\n",
    "    results = {}\n",
    "\n",
    "    model = linear_model.LogisticRegression(random_state=0, class_weight={0:1,1:4})\n",
    "    \n",
    "    model_results = validation(model, x, y, metrics)\n",
    "    results[\"logistic\"] = {\"model\": model, \"evaluation\": model_results}\n",
    "    \n",
    "    print(f\"Logistic regression results: {results[f'logistic']['evaluation']}\")\n",
    "\n",
    "    return results\n",
    "\n",
    "        \n",
    "def model_selection(x: np.ndarray, y: np.ndarray):\n",
    "    metrics = {\"acc\": accuracy_score, \"f1\": f1_score, \"recall\": recall_score, \"precision\": precision_score}\n",
    "    validation_technique = lambda model, x, y, metrics: kfold(model=model, x=x, y=y, k=10, metrics=metrics)\n",
    "    \n",
    "    results = {}\n",
    "    results = { **results, **tree_classifier_selection(x, y, metrics, validation_technique) }\n",
    "    results = { **results, **logistic_regression_selection(x, y, metrics, validation_technique) }\n",
    "    \n",
    "    best_model_name = max(results, key=lambda model: results[model][\"evaluation\"][\"f1\"])\n",
    "    best_model = {**results[best_model_name], **{\"name\": best_model_name}}\n",
    "\n",
    "    best_model[\"model\"] = best_model[\"model\"].fit(x, y)\n",
    "        \n",
    "    return best_model, results\n",
    "    \n",
    "\n",
    "best_classifier, other_classifiers = model_selection(train_x, train_y)\n",
    "print(f\"Best Model: {best_classifier['name']}\")\n",
    "print(f\"Best Model Results: {best_classifier['evaluation']}\")"
   ]
  },
  {
   "cell_type": "markdown",
   "metadata": {},
   "source": [
    "## 3. Validate against IVS"
   ]
  },
  {
   "cell_type": "code",
   "execution_count": 648,
   "metadata": {},
   "outputs": [
    {
     "name": "stdout",
     "output_type": "stream",
     "text": [
      "--- Classifier ---\n",
      "Model: tree-entropy-best-20\n",
      "Performance on IVS: {'acc': 0.908936170212766, 'f1': 0.7551487414187643, 'recall': 0.7857142857142857, 'precision': 0.7268722466960352, 'matthews_corr': 0.7001189355400995, 'confusion_matrix': array([[903,  62],\n",
      "       [ 45, 165]], dtype=int64)}\n",
      "Accuracy: 0.908936170212766\n",
      "F1: 0.7551487414187643\n",
      "Precision: 0.7268722466960352\n",
      "Recall: 0.7857142857142857\n",
      "Matthews Correlation Coefficient: 0.7001189355400995\n",
      "Confusion Matrix:\n",
      "     0    1\n",
      "0  903   62\n",
      "1   45  165\n"
     ]
    }
   ],
   "source": [
    "def validate_classifier_agains_ivs(*, model, ivs_x, ivs_y, metrics):\n",
    "    y_pred = model.predict(ivs_x)\n",
    "    \n",
    "    return {metric_name: metric_f(ivs_y, y_pred) for (metric_name, metric_f) in metrics.items()}\n",
    "\n",
    "\n",
    "print(\"--- Classifier ---\")\n",
    "classifier_name=best_classifier['name']\n",
    "print(f\"Model: {classifier_name}\")\n",
    "performance_on_ivs = validate_classifier_agains_ivs(model=best_classifier[\"model\"], ivs_x=ivs_x_scaled, ivs_y=ivs_y, metrics={\"acc\": accuracy_score, \"f1\": f1_score, \"recall\": recall_score, \"precision\": precision_score,\"matthews_corr\": matthews_corrcoef,\"confusion_matrix\": confusion_matrix})\n",
    "print(f\"Performance on IVS: {performance_on_ivs}\")\n",
    "print(f\"Accuracy: {performance_on_ivs['acc']}\")\n",
    "print(f\"F1: {performance_on_ivs['f1']}\")\n",
    "print(f\"Precision: {performance_on_ivs['precision']}\")\n",
    "print(f\"Recall: {performance_on_ivs['recall']}\")\n",
    "print(f\"Matthews Correlation Coefficient: {performance_on_ivs['matthews_corr']}\")\n",
    "print(f\"Confusion Matrix:\\n{pd.DataFrame(performance_on_ivs['confusion_matrix'])}\")\n",
    "# TODO fix plots"
   ]
  },
  {
   "cell_type": "code",
   "execution_count": null,
   "metadata": {},
   "outputs": [],
   "source": []
  },
  {
   "cell_type": "code",
   "execution_count": null,
   "metadata": {},
   "outputs": [],
   "source": []
  }
 ],
 "metadata": {
  "kernelspec": {
   "display_name": "Python 3 (ipykernel)",
   "language": "python",
   "name": "python3"
  },
  "language_info": {
   "codemirror_mode": {
    "name": "ipython",
    "version": 3
   },
   "file_extension": ".py",
   "mimetype": "text/x-python",
   "name": "python",
   "nbconvert_exporter": "python",
   "pygments_lexer": "ipython3",
   "version": "3.10.8"
  },
  "vscode": {
   "interpreter": {
    "hash": "055142e5cf66ed8ee87e97d9d29944a505c8696ace08c4c3475747b47f85af0d"
   }
  }
 },
 "nbformat": 4,
 "nbformat_minor": 4
}
