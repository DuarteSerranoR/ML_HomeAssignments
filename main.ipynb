{
 "cells": [
  {
   "cell_type": "markdown",
   "metadata": {},
   "source": [
    "Imports (and functions)"
   ]
  },
  {
   "cell_type": "code",
   "execution_count": null,
   "metadata": {},
   "outputs": [],
   "source": [
    "import numpy as np\n",
    "import pandas as pd\n",
    "from validation import *"
   ]
  },
  {
   "cell_type": "markdown",
   "metadata": {},
   "source": [
    "# Objective 1\n",
    "## Obj.: Regression model to predict Motor_UPDRS"
   ]
  },
  {
   "cell_type": "markdown",
   "metadata": {},
   "source": [
    "## 1.1. Dataset preparation\n",
    "### 1.1.1. Split into training, dev and IVS\n",
    "- `train_df` -- training set for model training/selection\n",
    "- `dev_df` -- set for selection of the best model, with continuous validation throughout training\n",
    "- `ivs_df` / `test_df` -- independet validation set (IVS) for the final benchmark"
   ]
  },
  {
   "cell_type": "code",
   "execution_count": null,
   "metadata": {},
   "outputs": [],
   "source": [
    "df = pd.read_csv(\"parkinsons_updrs.data\")\n",
    "\n",
    "n, m = df.shape\n",
    "\n",
    "train_size = int(0.8 * n)\n",
    "dev_size = int(0.1 * n)\n",
    "ivs_size = int(0.1 * n)\n",
    "\n",
    "train_df = df.iloc[:train_size]\n",
    "dev_df = df.iloc[train_size:train_size+dev_size]\n",
    "ivs_df = df.iloc[train_size+dev_size:]"
   ]
  },
  {
   "cell_type": "markdown",
   "metadata": {},
   "source": [
    "### 1.1.2. Setting up X and Y"
   ]
  },
  {
   "cell_type": "code",
   "execution_count": null,
   "metadata": {},
   "outputs": [],
   "source": [
    "train_x = np.array(train_df.drop([\"subject#\", \"age\", \"sex\", \"test_time\", \"motor_UPDRS\", \"total_UPDRS\"], axis=1))\n",
    "train_y = np.array(train_df[\"motor_UPDRS\"])\n",
    "dev_x = np.array(dev_df.drop([\"subject#\", \"age\", \"sex\", \"test_time\", \"motor_UPDRS\", \"total_UPDRS\"], axis=1))\n",
    "dev_y = np.array(dev_df[\"motor_UPDRS\"])\n",
    "ivs_x = np.array(ivs_df.drop([\"subject#\", \"age\", \"sex\", \"test_time\", \"motor_UPDRS\", \"total_UPDRS\"], axis=1))\n",
    "ivs_y = np.array(ivs_df[\"motor_UPDRS\"])"
   ]
  },
  {
   "cell_type": "markdown",
   "metadata": {},
   "source": [
    "## 1.2. Model Selection"
   ]
  },
  {
   "cell_type": "code",
   "execution_count": null,
   "metadata": {},
   "outputs": [],
   "source": [
    "model_selection(ModelTypes.regression,)"
   ]
  }
 ],
 "metadata": {
  "kernelspec": {
   "display_name": "Python 3.9.12 ('base')",
   "language": "python",
   "name": "python3"
  },
  "language_info": {
   "name": "python",
   "version": "3.9.12"
  },
  "orig_nbformat": 4,
  "vscode": {
   "interpreter": {
    "hash": "055142e5cf66ed8ee87e97d9d29944a505c8696ace08c4c3475747b47f85af0d"
   }
  }
 },
 "nbformat": 4,
 "nbformat_minor": 2
}
