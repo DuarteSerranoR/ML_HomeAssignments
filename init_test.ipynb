{
 "cells": [
  {
   "cell_type": "code",
   "execution_count": 4,
   "metadata": {},
   "outputs": [],
   "source": [
    "# TODO - graphical analysis of the dataset's regression"
   ]
  },
  {
   "cell_type": "code",
   "execution_count": 5,
   "metadata": {},
   "outputs": [],
   "source": [
    "# TODO - train / dev / test dataset splitting"
   ]
  },
  {
   "cell_type": "code",
   "execution_count": 6,
   "metadata": {},
   "outputs": [
    {
     "name": "stdout",
     "output_type": "stream",
     "text": [
      "      subject#  age  sex  test_time  motor_UPDRS  total_UPDRS  Jitter(%)  \\\n",
      "0            1   72    0     5.6431       28.199       34.398    0.00662   \n",
      "1            1   72    0    12.6660       28.447       34.894    0.00300   \n",
      "2            1   72    0    19.6810       28.695       35.389    0.00481   \n",
      "3            1   72    0    25.6470       28.905       35.810    0.00528   \n",
      "4            1   72    0    33.6420       29.187       36.375    0.00335   \n",
      "...        ...  ...  ...        ...          ...          ...        ...   \n",
      "5870        42   61    0   142.7900       22.485       33.485    0.00406   \n",
      "5871        42   61    0   149.8400       21.988       32.988    0.00297   \n",
      "5872        42   61    0   156.8200       21.495       32.495    0.00349   \n",
      "5873        42   61    0   163.7300       21.007       32.007    0.00281   \n",
      "5874        42   61    0   170.7300       20.513       31.513    0.00282   \n",
      "\n",
      "      Jitter(Abs)  Jitter:RAP  Jitter:PPQ5  ...  Shimmer(dB)  Shimmer:APQ3  \\\n",
      "0        0.000034     0.00401      0.00317  ...        0.230       0.01438   \n",
      "1        0.000017     0.00132      0.00150  ...        0.179       0.00994   \n",
      "2        0.000025     0.00205      0.00208  ...        0.181       0.00734   \n",
      "3        0.000027     0.00191      0.00264  ...        0.327       0.01106   \n",
      "4        0.000020     0.00093      0.00130  ...        0.176       0.00679   \n",
      "...           ...         ...          ...  ...          ...           ...   \n",
      "5870     0.000031     0.00167      0.00168  ...        0.160       0.00973   \n",
      "5871     0.000025     0.00119      0.00147  ...        0.215       0.01052   \n",
      "5872     0.000025     0.00152      0.00187  ...        0.244       0.01371   \n",
      "5873     0.000020     0.00128      0.00151  ...        0.131       0.00693   \n",
      "5874     0.000021     0.00135      0.00166  ...        0.171       0.00946   \n",
      "\n",
      "      Shimmer:APQ5  Shimmer:APQ11  Shimmer:DDA       NHR     HNR     RPDE  \\\n",
      "0          0.01309        0.01662      0.04314  0.014290  21.640  0.41888   \n",
      "1          0.01072        0.01689      0.02982  0.011112  27.183  0.43493   \n",
      "2          0.00844        0.01458      0.02202  0.020220  23.047  0.46222   \n",
      "3          0.01265        0.01963      0.03317  0.027837  24.445  0.48730   \n",
      "4          0.00929        0.01819      0.02036  0.011625  26.126  0.47188   \n",
      "...            ...            ...          ...       ...     ...      ...   \n",
      "5870       0.01133        0.01549      0.02920  0.025137  22.369  0.64215   \n",
      "5871       0.01277        0.01904      0.03157  0.011927  22.886  0.52598   \n",
      "5872       0.01456        0.01877      0.04112  0.017701  25.065  0.47792   \n",
      "5873       0.00870        0.01307      0.02078  0.007984  24.422  0.56865   \n",
      "5874       0.01154        0.01470      0.02839  0.008172  23.259  0.58608   \n",
      "\n",
      "          DFA      PPE  \n",
      "0     0.54842  0.16006  \n",
      "1     0.56477  0.10810  \n",
      "2     0.54405  0.21014  \n",
      "3     0.57794  0.33277  \n",
      "4     0.56122  0.19361  \n",
      "...       ...      ...  \n",
      "5870  0.55314  0.21367  \n",
      "5871  0.56518  0.12621  \n",
      "5872  0.57888  0.14157  \n",
      "5873  0.56327  0.14204  \n",
      "5874  0.57077  0.15336  \n",
      "\n",
      "[5875 rows x 22 columns]\n"
     ]
    }
   ],
   "source": [
    "import numpy as np\n",
    "import pandas as pd\n",
    "dataset = pd.read_csv(\"parkinsons_updrs.data\")\n",
    "\n",
    "x_dtf=dataset[['Jitter(Abs)', 'Shimmer', 'NHR', 'HNR', 'RPDE', 'DFA', 'PPE']]\n",
    "y_dtf=dataset[\"motor_UPDRS\"]\n",
    "\n",
    "x = np.array(x_dtf)\n",
    "y = np.array(y_dtf)\n",
    "\n",
    "train_ratio = 0.8\n",
    "dev_ratio = 0.1\n",
    "#ivs_ratio = 0.1\n",
    "train_len = int(len(x)*train_ratio)\n",
    "dev_len = int(len(x)*dev_ratio)\n",
    "#test_len = int(len(x)*ivs_ratio)\n",
    "\n",
    "x_train = x[:train_len]\n",
    "y_train = y[:train_len]\n",
    "\n",
    "x_dev = x[train_len:train_len+dev_len]\n",
    "y_dev = y[train_len:train_len+dev_len]\n",
    "\n",
    "x_ivs = x[train_len+dev_len:]\n",
    "y_ivs = y[train_len+dev_len:]\n",
    "\n",
    "print(dataset)"
   ]
  },
  {
   "cell_type": "code",
   "execution_count": 7,
   "metadata": {},
   "outputs": [
    {
     "name": "stdout",
     "output_type": "stream",
     "text": [
      "The RVE is:  -1.345813279800291\n",
      "The rmse is:  12.794275355567098\n",
      "The Correlation Score is is: -0.0882 (p-value=3.261283e-02)\n",
      "\n",
      "The Maximum Error is is:  31.047299999999996\n",
      "The Mean Absolute Error is:  10.228527427597955\n"
     ]
    }
   ],
   "source": [
    "\n",
    "from sklearn.metrics import explained_variance_score, mean_squared_error, max_error, mean_absolute_error\n",
    "from scipy.stats import pearsonr\n",
    "from sklearn import tree\n",
    "\n",
    "\n",
    "\n",
    "dt = tree.DecisionTreeRegressor(min_samples_leaf=1) # {\"squared_error\", \"friedman_mse\", \"absolute_error\", \"poisson\"}\n",
    "model = dt.fit(x_train,y_train)\n",
    "\n",
    "\n",
    "preds=model.predict(x_dev)\n",
    "\n",
    "print(\"The RVE is: \", explained_variance_score(y_dev, preds))\n",
    "print(\"The rmse is: \", mean_squared_error(y_dev, preds, squared=False))\n",
    "corr, pval=pearsonr(y_dev, preds)\n",
    "print(\"The Correlation Score is is: %6.4f (p-value=%e)\\n\"%(corr,pval))\n",
    "\n",
    "print(\"The Maximum Error is is: \", max_error(y_dev, preds))\n",
    "print(\"The Mean Absolute Error is: \", mean_absolute_error(y_dev, preds))\n",
    "\n",
    "#import matplotlib.pyplot as plt\n",
    "#plt.figure(figsize=(15,15))\n",
    "#r=tree.plot_tree(model, filled=True)\n",
    "#plt.show()"
   ]
  },
  {
   "cell_type": "code",
   "execution_count": 8,
   "metadata": {},
   "outputs": [
    {
     "data": {
      "text/plain": [
       "[<matplotlib.lines.Line2D at 0x230847df460>]"
      ]
     },
     "execution_count": 8,
     "metadata": {},
     "output_type": "execute_result"
    },
    {
     "data": {
      "image/png": "[encoded data removed]",
      "text/plain": [
       "<Figure size 640x480 with 1 Axes>"
      ]
     },
     "metadata": {},
     "output_type": "display_data"
    }
   ],
   "source": [
    "from sklearn.metrics import mean_squared_error\n",
    "from matplotlib import pyplot as plot\n",
    "\n",
    "x = []\n",
    "y = []\n",
    "for min in range(1,30):\n",
    "    rt = tree.DecisionTreeRegressor(min_samples_leaf=min)\n",
    "    rt.fit(x_train,y_train)\n",
    "\n",
    "    preds=rt.predict(x_dev)\n",
    "    rmse = mean_squared_error(y_dev, preds, squared=False)\n",
    "    #print(\"Min = {} ; rmse = {}\".format(min,rmse))\n",
    "\n",
    "    x.append(min)\n",
    "    y.append(rmse)\n",
    "\n",
    "plot.plot(x,y)\n",
    "\n"
   ]
  },
  {
   "cell_type": "code",
   "execution_count": 9,
   "metadata": {},
   "outputs": [
    {
     "data": {
      "text/plain": [
       "[<matplotlib.lines.Line2D at 0x23084ebf580>]"
      ]
     },
     "execution_count": 9,
     "metadata": {},
     "output_type": "execute_result"
    },
    {
     "data": {
      "image/png": "[encoded data removed]",
      "text/plain": [
       "<Figure size 640x480 with 1 Axes>"
      ]
     },
     "metadata": {},
     "output_type": "display_data"
    }
   ],
   "source": [
    "\n",
    "x = []\n",
    "y = []\n",
    "for max in range(1,30):\n",
    "    rt = tree.DecisionTreeRegressor(max_depth=max)\n",
    "    rt.fit(x_train,y_train)\n",
    "\n",
    "    preds=rt.predict(x_dev)\n",
    "    rmse = mean_squared_error(y_dev, preds, squared=False)\n",
    "    #print(\"Min = {} ; rmse = {}\".format(min,rmse))\n",
    "\n",
    "    x.append(max)\n",
    "    y.append(rmse)\n",
    "\n",
    "plot.plot(x,y)\n",
    "\n"
   ]
  },
  {
   "cell_type": "code",
   "execution_count": 10,
   "metadata": {},
   "outputs": [
    {
     "data": {
      "text/plain": [
       "'\\n#my solution\\nimport json\\nresults = list()\\n\\nfor min_sl in range(1,10):\\n    mdl = tree.DecisionTreeRegressor(min_samples_leaf=min_sl)\\n    mdl.fit(x_train, y_train)\\n    preds = mdl.predict(x_test)\\n\\n    RVE=explained_variance_score(y_test, preds)\\n    rmse=mean_squared_error(y_test, preds, squared=False)\\n    corr, pval=pearsonr(y_test, preds)\\n    corr_score=\"%6.4f (p-value=%e)\\n\"%(corr,pval)\\n    max_error_r=max_error(y_test, preds)\\n    mean_absolute_error_r=mean_absolute_error(y_test, preds)\\n\\n    print(\"The RVE is: \", RVE)\\n    print(\"The rmse is: \", rmse)\\n    print(\"The Correlation Score is is: \" + corr_score)\\n\\n    print(\"The Maximum Error is is: \", max_error_r)\\n    print(\"The Mean Absolute Error is: \", mean_absolute_error_r)\\n\\n    res = {\\n        \"min_samples\": min_sl,\\n        \\n        \"RVE\": RVE,\\n        \"rmse\": rmse,\\n        \"corr_score\": corr_score,\\n        \"max_error\": max_error_r,\\n        \"mean_absolute_error\": mean_absolute_error_r\\n    }\\n    results.append(res)\\n    \\nfor min_sl in range(1,10):\\n    for max_d in range(1,10):\\n        mdl = DecisionTreeClassifier(min_samples_leaf=min_sl,max_depth=max_d)\\n        mdl.fit(X_train, y_train)\\n        preds = mdl.predict(X_test)\\n\\n        precision_s=precision_score(y_test, preds)\\n        recall_s=recall_score(y_test, preds)\\n        f1_s=f1_score(y_test, preds)\\n        matthews_corrcoeficient=matthews_corrcoef(y_test, preds)\\n\\n        #print(\"Min Samples Leaf: {} ; Max Depth: {}\".format(min_sl,max_d))\\n        #print(\"The Precision is: %7.4f\" % precision_s)\\n        #print(\"The Recall is: %7.4f\" % recall_s)\\n        #print(\"The F1 score is: %7.4f\" % f1_s)\\n        #print(\"The Matthews correlation coefficient is: %7.4f\" % matthews_corrcoeficient)\\n        #print()\\n\\n        res = {\\n            \"min_samples\": min_sl,\\n            \"max_depth\": max_d,\\n            \\n            \"precision\": precision_s,\\n            \"recall\": recall_s,\\n            \"f1\": f1_s,\\n            \"matthews_correlation_coeficient\": matthews_corrcoeficient\\n        }\\n        results.append(res)\\n        \\n#pretty = json.dumps(results, indent=4)\\n#print(pretty)\\nmax_precision = max(results, key=lambda x: x[\\'precision\\'])\\nprint(\"Max Precision: {}\".format(max_precision))\\nmax_recall = max(results, key=lambda x: x[\\'recall\\'])\\nprint(\"Max Recall: {}\".format(max_recall))\\nmax_f1 = max(results, key=lambda x: x[\\'f1\\'])\\nprint(\"Max F1: {}\".format(max_f1))\\nmax_mathew_corrcoef = max(results, key=lambda x: x[\\'matthews_correlation_coeficient\\'])\\nprint(\"Max Mathews Correlation Coeficient: {}\".format(max_mathew_corrcoef))\\n\\n\\n'"
      ]
     },
     "execution_count": 10,
     "metadata": {},
     "output_type": "execute_result"
    }
   ],
   "source": [
    "\"\"\"\n",
    "#my solution\n",
    "import json\n",
    "results = list()\n",
    "\n",
    "for min_sl in range(1,10):\n",
    "    mdl = tree.DecisionTreeRegressor(min_samples_leaf=min_sl)\n",
    "    mdl.fit(x_train, y_train)\n",
    "    preds = mdl.predict(x_test)\n",
    "\n",
    "    RVE=explained_variance_score(y_test, preds)\n",
    "    rmse=mean_squared_error(y_test, preds, squared=False)\n",
    "    corr, pval=pearsonr(y_test, preds)\n",
    "    corr_score=\"%6.4f (p-value=%e)\\n\"%(corr,pval)\n",
    "    max_error_r=max_error(y_test, preds)\n",
    "    mean_absolute_error_r=mean_absolute_error(y_test, preds)\n",
    "\n",
    "    print(\"The RVE is: \", RVE)\n",
    "    print(\"The rmse is: \", rmse)\n",
    "    print(\"The Correlation Score is is: \" + corr_score)\n",
    "\n",
    "    print(\"The Maximum Error is is: \", max_error_r)\n",
    "    print(\"The Mean Absolute Error is: \", mean_absolute_error_r)\n",
    "\n",
    "    res = {\n",
    "        \"min_samples\": min_sl,\n",
    "        \n",
    "        \"RVE\": RVE,\n",
    "        \"rmse\": rmse,\n",
    "        \"corr_score\": corr_score,\n",
    "        \"max_error\": max_error_r,\n",
    "        \"mean_absolute_error\": mean_absolute_error_r\n",
    "    }\n",
    "    results.append(res)\n",
    "    \n",
    "for min_sl in range(1,10):\n",
    "    for max_d in range(1,10):\n",
    "        mdl = DecisionTreeClassifier(min_samples_leaf=min_sl,max_depth=max_d)\n",
    "        mdl.fit(X_train, y_train)\n",
    "        preds = mdl.predict(X_test)\n",
    "\n",
    "        precision_s=precision_score(y_test, preds)\n",
    "        recall_s=recall_score(y_test, preds)\n",
    "        f1_s=f1_score(y_test, preds)\n",
    "        matthews_corrcoeficient=matthews_corrcoef(y_test, preds)\n",
    "\n",
    "        #print(\"Min Samples Leaf: {} ; Max Depth: {}\".format(min_sl,max_d))\n",
    "        #print(\"The Precision is: %7.4f\" % precision_s)\n",
    "        #print(\"The Recall is: %7.4f\" % recall_s)\n",
    "        #print(\"The F1 score is: %7.4f\" % f1_s)\n",
    "        #print(\"The Matthews correlation coefficient is: %7.4f\" % matthews_corrcoeficient)\n",
    "        #print()\n",
    "\n",
    "        res = {\n",
    "            \"min_samples\": min_sl,\n",
    "            \"max_depth\": max_d,\n",
    "            \n",
    "            \"precision\": precision_s,\n",
    "            \"recall\": recall_s,\n",
    "            \"f1\": f1_s,\n",
    "            \"matthews_correlation_coeficient\": matthews_corrcoeficient\n",
    "        }\n",
    "        results.append(res)\n",
    "        \n",
    "#pretty = json.dumps(results, indent=4)\n",
    "#print(pretty)\n",
    "max_precision = max(results, key=lambda x: x['precision'])\n",
    "print(\"Max Precision: {}\".format(max_precision))\n",
    "max_recall = max(results, key=lambda x: x['recall'])\n",
    "print(\"Max Recall: {}\".format(max_recall))\n",
    "max_f1 = max(results, key=lambda x: x['f1'])\n",
    "print(\"Max F1: {}\".format(max_f1))\n",
    "max_mathew_corrcoef = max(results, key=lambda x: x['matthews_correlation_coeficient'])\n",
    "print(\"Max Mathews Correlation Coeficient: {}\".format(max_mathew_corrcoef))\n",
    "\n",
    "\n",
    "\"\"\""
   ]
  },
  {
   "cell_type": "code",
   "execution_count": 11,
   "metadata": {},
   "outputs": [
    {
     "ename": "KeyboardInterrupt",
     "evalue": "",
     "output_type": "error",
     "traceback": [
      "\u001b[1;31m---------------------------------------------------------------------------\u001b[0m",
      "\u001b[1;31mKeyboardInterrupt\u001b[0m                         Traceback (most recent call last)",
      "\u001b[1;32mc:\\Users\\rapos\\OneDrive\\Desktop\\ML_HomeAssignment1\\init_test.ipynb Cell 8\u001b[0m in \u001b[0;36m<cell line: 55>\u001b[1;34m()\u001b[0m\n\u001b[0;32m     <a href='vscode-notebook-cell:/c%3A/Users/rapos/OneDrive/Desktop/ML_HomeAssignment1/init_test.ipynb#X10sZmlsZQ%3D%3D?line=49'>50</a>\u001b[0m     \u001b[39m#if first_loop:\u001b[39;00m\n\u001b[0;32m     <a href='vscode-notebook-cell:/c%3A/Users/rapos/OneDrive/Desktop/ML_HomeAssignment1/init_test.ipynb#X10sZmlsZQ%3D%3D?line=50'>51</a>\u001b[0m     \u001b[39m#    print(results_l[0])\u001b[39;00m\n\u001b[0;32m     <a href='vscode-notebook-cell:/c%3A/Users/rapos/OneDrive/Desktop/ML_HomeAssignment1/init_test.ipynb#X10sZmlsZQ%3D%3D?line=51'>52</a>\u001b[0m     \u001b[39m#    first_loop = False\u001b[39;00m\n\u001b[0;32m     <a href='vscode-notebook-cell:/c%3A/Users/rapos/OneDrive/Desktop/ML_HomeAssignment1/init_test.ipynb#X10sZmlsZQ%3D%3D?line=52'>53</a>\u001b[0m     \u001b[39mreturn\u001b[39;00m r\n\u001b[1;32m---> <a href='vscode-notebook-cell:/c%3A/Users/rapos/OneDrive/Desktop/ML_HomeAssignment1/init_test.ipynb#X10sZmlsZQ%3D%3D?line=54'>55</a>\u001b[0m results_l \u001b[39m=\u001b[39m [ validation_results(p) \u001b[39mfor\u001b[39;00m p \u001b[39min\u001b[39;00m hyperparams_combinations ]\n\u001b[0;32m     <a href='vscode-notebook-cell:/c%3A/Users/rapos/OneDrive/Desktop/ML_HomeAssignment1/init_test.ipynb#X10sZmlsZQ%3D%3D?line=57'>58</a>\u001b[0m \u001b[39m#print(results_l)\u001b[39;00m\n\u001b[0;32m     <a href='vscode-notebook-cell:/c%3A/Users/rapos/OneDrive/Desktop/ML_HomeAssignment1/init_test.ipynb#X10sZmlsZQ%3D%3D?line=58'>59</a>\u001b[0m results_params \u001b[39m=\u001b[39m [ x[\u001b[39m\"\u001b[39m\u001b[39mparams\u001b[39m\u001b[39m\"\u001b[39m] \u001b[39mfor\u001b[39;00m x \u001b[39min\u001b[39;00m results_l ]\n",
      "\u001b[1;32mc:\\Users\\rapos\\OneDrive\\Desktop\\ML_HomeAssignment1\\init_test.ipynb Cell 8\u001b[0m in \u001b[0;36m<listcomp>\u001b[1;34m(.0)\u001b[0m\n\u001b[0;32m     <a href='vscode-notebook-cell:/c%3A/Users/rapos/OneDrive/Desktop/ML_HomeAssignment1/init_test.ipynb#X10sZmlsZQ%3D%3D?line=49'>50</a>\u001b[0m     \u001b[39m#if first_loop:\u001b[39;00m\n\u001b[0;32m     <a href='vscode-notebook-cell:/c%3A/Users/rapos/OneDrive/Desktop/ML_HomeAssignment1/init_test.ipynb#X10sZmlsZQ%3D%3D?line=50'>51</a>\u001b[0m     \u001b[39m#    print(results_l[0])\u001b[39;00m\n\u001b[0;32m     <a href='vscode-notebook-cell:/c%3A/Users/rapos/OneDrive/Desktop/ML_HomeAssignment1/init_test.ipynb#X10sZmlsZQ%3D%3D?line=51'>52</a>\u001b[0m     \u001b[39m#    first_loop = False\u001b[39;00m\n\u001b[0;32m     <a href='vscode-notebook-cell:/c%3A/Users/rapos/OneDrive/Desktop/ML_HomeAssignment1/init_test.ipynb#X10sZmlsZQ%3D%3D?line=52'>53</a>\u001b[0m     \u001b[39mreturn\u001b[39;00m r\n\u001b[1;32m---> <a href='vscode-notebook-cell:/c%3A/Users/rapos/OneDrive/Desktop/ML_HomeAssignment1/init_test.ipynb#X10sZmlsZQ%3D%3D?line=54'>55</a>\u001b[0m results_l \u001b[39m=\u001b[39m [ validation_results(p) \u001b[39mfor\u001b[39;00m p \u001b[39min\u001b[39;00m hyperparams_combinations ]\n\u001b[0;32m     <a href='vscode-notebook-cell:/c%3A/Users/rapos/OneDrive/Desktop/ML_HomeAssignment1/init_test.ipynb#X10sZmlsZQ%3D%3D?line=57'>58</a>\u001b[0m \u001b[39m#print(results_l)\u001b[39;00m\n\u001b[0;32m     <a href='vscode-notebook-cell:/c%3A/Users/rapos/OneDrive/Desktop/ML_HomeAssignment1/init_test.ipynb#X10sZmlsZQ%3D%3D?line=58'>59</a>\u001b[0m results_params \u001b[39m=\u001b[39m [ x[\u001b[39m\"\u001b[39m\u001b[39mparams\u001b[39m\u001b[39m\"\u001b[39m] \u001b[39mfor\u001b[39;00m x \u001b[39min\u001b[39;00m results_l ]\n",
      "\u001b[1;32mc:\\Users\\rapos\\OneDrive\\Desktop\\ML_HomeAssignment1\\init_test.ipynb Cell 8\u001b[0m in \u001b[0;36mvalidation_results\u001b[1;34m(params)\u001b[0m\n\u001b[0;32m     <a href='vscode-notebook-cell:/c%3A/Users/rapos/OneDrive/Desktop/ML_HomeAssignment1/init_test.ipynb#X10sZmlsZQ%3D%3D?line=20'>21</a>\u001b[0m criterion, splitter, max_depth, max_features, min_samples_leaf, min_sample_split \u001b[39m=\u001b[39m params\n\u001b[0;32m     <a href='vscode-notebook-cell:/c%3A/Users/rapos/OneDrive/Desktop/ML_HomeAssignment1/init_test.ipynb#X10sZmlsZQ%3D%3D?line=22'>23</a>\u001b[0m mdl \u001b[39m=\u001b[39m tree\u001b[39m.\u001b[39mDecisionTreeRegressor(criterion\u001b[39m=\u001b[39mcriterion,splitter\u001b[39m=\u001b[39msplitter,max_depth\u001b[39m=\u001b[39mmax_depth,max_features\u001b[39m=\u001b[39mmax_features,min_samples_leaf\u001b[39m=\u001b[39mmin_samples_leaf,min_samples_split\u001b[39m=\u001b[39mmin_sample_split)\n\u001b[1;32m---> <a href='vscode-notebook-cell:/c%3A/Users/rapos/OneDrive/Desktop/ML_HomeAssignment1/init_test.ipynb#X10sZmlsZQ%3D%3D?line=23'>24</a>\u001b[0m mdl\u001b[39m.\u001b[39;49mfit(x_train, y_train)\n\u001b[0;32m     <a href='vscode-notebook-cell:/c%3A/Users/rapos/OneDrive/Desktop/ML_HomeAssignment1/init_test.ipynb#X10sZmlsZQ%3D%3D?line=24'>25</a>\u001b[0m preds \u001b[39m=\u001b[39m mdl\u001b[39m.\u001b[39mpredict(x_dev)\n\u001b[0;32m     <a href='vscode-notebook-cell:/c%3A/Users/rapos/OneDrive/Desktop/ML_HomeAssignment1/init_test.ipynb#X10sZmlsZQ%3D%3D?line=26'>27</a>\u001b[0m RVE\u001b[39m=\u001b[39mexplained_variance_score(y_dev, preds)\n",
      "File \u001b[1;32mc:\\Users\\rapos\\miniconda3\\lib\\site-packages\\sklearn\\tree\\_classes.py:1342\u001b[0m, in \u001b[0;36mDecisionTreeRegressor.fit\u001b[1;34m(self, X, y, sample_weight, check_input)\u001b[0m\n\u001b[0;32m   1313\u001b[0m \u001b[39mdef\u001b[39;00m \u001b[39mfit\u001b[39m(\u001b[39mself\u001b[39m, X, y, sample_weight\u001b[39m=\u001b[39m\u001b[39mNone\u001b[39;00m, check_input\u001b[39m=\u001b[39m\u001b[39mTrue\u001b[39;00m):\n\u001b[0;32m   1314\u001b[0m     \u001b[39m\"\"\"Build a decision tree regressor from the training set (X, y).\u001b[39;00m\n\u001b[0;32m   1315\u001b[0m \n\u001b[0;32m   1316\u001b[0m \u001b[39m    Parameters\u001b[39;00m\n\u001b[1;32m   (...)\u001b[0m\n\u001b[0;32m   1339\u001b[0m \u001b[39m        Fitted estimator.\u001b[39;00m\n\u001b[0;32m   1340\u001b[0m \u001b[39m    \"\"\"\u001b[39;00m\n\u001b[1;32m-> 1342\u001b[0m     \u001b[39msuper\u001b[39;49m()\u001b[39m.\u001b[39;49mfit(\n\u001b[0;32m   1343\u001b[0m         X,\n\u001b[0;32m   1344\u001b[0m         y,\n\u001b[0;32m   1345\u001b[0m         sample_weight\u001b[39m=\u001b[39;49msample_weight,\n\u001b[0;32m   1346\u001b[0m         check_input\u001b[39m=\u001b[39;49mcheck_input,\n\u001b[0;32m   1347\u001b[0m     )\n\u001b[0;32m   1348\u001b[0m     \u001b[39mreturn\u001b[39;00m \u001b[39mself\u001b[39m\n",
      "File \u001b[1;32mc:\\Users\\rapos\\miniconda3\\lib\\site-packages\\sklearn\\tree\\_classes.py:458\u001b[0m, in \u001b[0;36mBaseDecisionTree.fit\u001b[1;34m(self, X, y, sample_weight, check_input)\u001b[0m\n\u001b[0;32m    447\u001b[0m \u001b[39melse\u001b[39;00m:\n\u001b[0;32m    448\u001b[0m     builder \u001b[39m=\u001b[39m BestFirstTreeBuilder(\n\u001b[0;32m    449\u001b[0m         splitter,\n\u001b[0;32m    450\u001b[0m         min_samples_split,\n\u001b[1;32m   (...)\u001b[0m\n\u001b[0;32m    455\u001b[0m         \u001b[39mself\u001b[39m\u001b[39m.\u001b[39mmin_impurity_decrease,\n\u001b[0;32m    456\u001b[0m     )\n\u001b[1;32m--> 458\u001b[0m builder\u001b[39m.\u001b[39;49mbuild(\u001b[39mself\u001b[39;49m\u001b[39m.\u001b[39;49mtree_, X, y, sample_weight)\n\u001b[0;32m    460\u001b[0m \u001b[39mif\u001b[39;00m \u001b[39mself\u001b[39m\u001b[39m.\u001b[39mn_outputs_ \u001b[39m==\u001b[39m \u001b[39m1\u001b[39m \u001b[39mand\u001b[39;00m is_classifier(\u001b[39mself\u001b[39m):\n\u001b[0;32m    461\u001b[0m     \u001b[39mself\u001b[39m\u001b[39m.\u001b[39mn_classes_ \u001b[39m=\u001b[39m \u001b[39mself\u001b[39m\u001b[39m.\u001b[39mn_classes_[\u001b[39m0\u001b[39m]\n",
      "\u001b[1;31mKeyboardInterrupt\u001b[0m: "
     ]
    }
   ],
   "source": [
    "from distutils.command.build_scripts import first_line_re\n",
    "import itertools\n",
    "\n",
    "\n",
    "criterions = [\"squared_error\", \"friedman_mse\", \"absolute_error\",\"poisson\"]\n",
    "#criterions = [\"squared_error\", \"absolute_error\"]\n",
    "#splitters = [\"best\", \"random\"]\n",
    "splitters = [\"best\"]\n",
    "max_depths = range(10,100,10)\n",
    "#max_features = [\"auto\", \"sqrt\", \"log2\"]\n",
    "max_features = [\"sqrt\", \"log2\", None]\n",
    "min_samples_leaf = range(1,30,1)\n",
    "min_samples_splits = range(2,30,1)\n",
    "#... other hyper params\n",
    "\n",
    "hyperparams_combinations = itertools.product(criterions, splitters, max_depths, max_features, min_samples_leaf, min_samples_splits)\n",
    "\n",
    "\n",
    "first_loop = True\n",
    "def validation_results(params):\n",
    "    criterion, splitter, max_depth, max_features, min_samples_leaf, min_sample_split = params\n",
    "\n",
    "    mdl = tree.DecisionTreeRegressor(criterion=criterion,splitter=splitter,max_depth=max_depth,max_features=max_features,min_samples_leaf=min_samples_leaf,min_samples_split=min_sample_split)\n",
    "    mdl.fit(x_train, y_train)\n",
    "    preds = mdl.predict(x_dev)\n",
    "\n",
    "    RVE=explained_variance_score(y_dev, preds)\n",
    "    #rmse=mean_squared_error(y_dev, preds, squared=False)\n",
    "    #corr, pval=pearsonr(y_dev, preds)\n",
    "    #corr_score=\"%6.4f (p-value=%e)\\n\"%(corr,pval)\n",
    "    #max_error_r=max_error(y_dev, preds)\n",
    "    #mean_absolute_error_r=mean_absolute_error(y_dev, preds)\n",
    "\n",
    "    r = {\n",
    "        \"params\": { \n",
    "            \"criterion\": criterion,\n",
    "            \"splitter\": splitter,\n",
    "            \"max_depth\": max_depth,\n",
    "            \"max_features\": max_features,\n",
    "            \"min_samples_leaf\": min_samples_leaf,\n",
    "            \"min_sample_split\": min_sample_split\n",
    "        },\n",
    "\n",
    "        \"RVE\": RVE,\n",
    "        #\"rmse\": rmse,\n",
    "        #\"corr_score\": corr_score,\n",
    "        #\"max_error_r\": max_error_r,\n",
    "        #\"mean_absolute_error_r\": mean_absolute_error_r\n",
    "    }\n",
    "    #if first_loop:\n",
    "    #    print(results_l[0])\n",
    "    #    first_loop = False\n",
    "    return r\n",
    "\n",
    "results_l = [ validation_results(p) for p in hyperparams_combinations ]\n",
    "    \n",
    "\n",
    "#print(results_l)\n",
    "results_params = [ x[\"params\"] for x in results_l ]\n",
    "results_RVE = [ x[\"RVE\"] for x in results_l ]\n",
    "#results_rmse = [ x[\"rmse\"] for x in results_l ]\n",
    "#results_corr_score = [ x[\"corr_score\"] for x in results_l ]\n",
    "#results_max_error_r = [ x[\"max_error_r\"] for x in results_l ]\n",
    "#results_mean_absolute_error_r = [ x[\"mean_absolute_error_r\"] for x in results_l ]\n",
    "\n",
    "results = pd.DataFrame({\n",
    "    \"params\": results_params,\n",
    "    \"RVE\": results_RVE,\n",
    "    #\"rmse\": results_rmse,\n",
    "    #\"corr_score\": results_corr_score,\n",
    "    #\"max_error_r\": results_max_error_r,\n",
    "    #\"mean_absolute_error_r\": results_mean_absolute_error_r\n",
    "})\n",
    "results.to_csv(\"./test_results.csv\")"
   ]
  },
  {
   "cell_type": "code",
   "execution_count": null,
   "metadata": {},
   "outputs": [
    {
     "ename": "FileNotFoundError",
     "evalue": "[Errno 2] No such file or directory: './test_results_1.csv'",
     "output_type": "error",
     "traceback": [
      "\u001b[1;31m---------------------------------------------------------------------------\u001b[0m",
      "\u001b[1;31mFileNotFoundError\u001b[0m                         Traceback (most recent call last)",
      "\u001b[1;32mc:\\Users\\rapos\\OneDrive\\Desktop\\ML_HomeAssignment1\\init_test.ipynb Cell 9\u001b[0m in \u001b[0;36m<cell line: 1>\u001b[1;34m()\u001b[0m\n\u001b[1;32m----> <a href='vscode-notebook-cell:/c%3A/Users/rapos/OneDrive/Desktop/ML_HomeAssignment1/init_test.ipynb#X11sZmlsZQ%3D%3D?line=0'>1</a>\u001b[0m results \u001b[39m=\u001b[39m pd\u001b[39m.\u001b[39;49mread_csv(\u001b[39m\"\u001b[39;49m\u001b[39m./test_results_1.csv\u001b[39;49m\u001b[39m\"\u001b[39;49m)\n\u001b[0;32m      <a href='vscode-notebook-cell:/c%3A/Users/rapos/OneDrive/Desktop/ML_HomeAssignment1/init_test.ipynb#X11sZmlsZQ%3D%3D?line=2'>3</a>\u001b[0m best_RVE \u001b[39m=\u001b[39m results[\u001b[39m\"\u001b[39m\u001b[39mRVE\u001b[39m\u001b[39m\"\u001b[39m]\u001b[39m.\u001b[39mmax()\n\u001b[0;32m      <a href='vscode-notebook-cell:/c%3A/Users/rapos/OneDrive/Desktop/ML_HomeAssignment1/init_test.ipynb#X11sZmlsZQ%3D%3D?line=3'>4</a>\u001b[0m _RVE_best_params \u001b[39m=\u001b[39m results\u001b[39m.\u001b[39mloc[results[\u001b[39m'\u001b[39m\u001b[39mRVE\u001b[39m\u001b[39m'\u001b[39m] \u001b[39m==\u001b[39m best_RVE]\n",
      "File \u001b[1;32mc:\\Users\\rapos\\miniconda3\\lib\\site-packages\\pandas\\util\\_decorators.py:311\u001b[0m, in \u001b[0;36mdeprecate_nonkeyword_arguments.<locals>.decorate.<locals>.wrapper\u001b[1;34m(*args, **kwargs)\u001b[0m\n\u001b[0;32m    305\u001b[0m \u001b[39mif\u001b[39;00m \u001b[39mlen\u001b[39m(args) \u001b[39m>\u001b[39m num_allow_args:\n\u001b[0;32m    306\u001b[0m     warnings\u001b[39m.\u001b[39mwarn(\n\u001b[0;32m    307\u001b[0m         msg\u001b[39m.\u001b[39mformat(arguments\u001b[39m=\u001b[39marguments),\n\u001b[0;32m    308\u001b[0m         \u001b[39mFutureWarning\u001b[39;00m,\n\u001b[0;32m    309\u001b[0m         stacklevel\u001b[39m=\u001b[39mstacklevel,\n\u001b[0;32m    310\u001b[0m     )\n\u001b[1;32m--> 311\u001b[0m \u001b[39mreturn\u001b[39;00m func(\u001b[39m*\u001b[39margs, \u001b[39m*\u001b[39m\u001b[39m*\u001b[39mkwargs)\n",
      "File \u001b[1;32mc:\\Users\\rapos\\miniconda3\\lib\\site-packages\\pandas\\io\\parsers\\readers.py:678\u001b[0m, in \u001b[0;36mread_csv\u001b[1;34m(filepath_or_buffer, sep, delimiter, header, names, index_col, usecols, squeeze, prefix, mangle_dupe_cols, dtype, engine, converters, true_values, false_values, skipinitialspace, skiprows, skipfooter, nrows, na_values, keep_default_na, na_filter, verbose, skip_blank_lines, parse_dates, infer_datetime_format, keep_date_col, date_parser, dayfirst, cache_dates, iterator, chunksize, compression, thousands, decimal, lineterminator, quotechar, quoting, doublequote, escapechar, comment, encoding, encoding_errors, dialect, error_bad_lines, warn_bad_lines, on_bad_lines, delim_whitespace, low_memory, memory_map, float_precision, storage_options)\u001b[0m\n\u001b[0;32m    663\u001b[0m kwds_defaults \u001b[39m=\u001b[39m _refine_defaults_read(\n\u001b[0;32m    664\u001b[0m     dialect,\n\u001b[0;32m    665\u001b[0m     delimiter,\n\u001b[1;32m   (...)\u001b[0m\n\u001b[0;32m    674\u001b[0m     defaults\u001b[39m=\u001b[39m{\u001b[39m\"\u001b[39m\u001b[39mdelimiter\u001b[39m\u001b[39m\"\u001b[39m: \u001b[39m\"\u001b[39m\u001b[39m,\u001b[39m\u001b[39m\"\u001b[39m},\n\u001b[0;32m    675\u001b[0m )\n\u001b[0;32m    676\u001b[0m kwds\u001b[39m.\u001b[39mupdate(kwds_defaults)\n\u001b[1;32m--> 678\u001b[0m \u001b[39mreturn\u001b[39;00m _read(filepath_or_buffer, kwds)\n",
      "File \u001b[1;32mc:\\Users\\rapos\\miniconda3\\lib\\site-packages\\pandas\\io\\parsers\\readers.py:575\u001b[0m, in \u001b[0;36m_read\u001b[1;34m(filepath_or_buffer, kwds)\u001b[0m\n\u001b[0;32m    572\u001b[0m _validate_names(kwds\u001b[39m.\u001b[39mget(\u001b[39m\"\u001b[39m\u001b[39mnames\u001b[39m\u001b[39m\"\u001b[39m, \u001b[39mNone\u001b[39;00m))\n\u001b[0;32m    574\u001b[0m \u001b[39m# Create the parser.\u001b[39;00m\n\u001b[1;32m--> 575\u001b[0m parser \u001b[39m=\u001b[39m TextFileReader(filepath_or_buffer, \u001b[39m*\u001b[39m\u001b[39m*\u001b[39mkwds)\n\u001b[0;32m    577\u001b[0m \u001b[39mif\u001b[39;00m chunksize \u001b[39mor\u001b[39;00m iterator:\n\u001b[0;32m    578\u001b[0m     \u001b[39mreturn\u001b[39;00m parser\n",
      "File \u001b[1;32mc:\\Users\\rapos\\miniconda3\\lib\\site-packages\\pandas\\io\\parsers\\readers.py:932\u001b[0m, in \u001b[0;36mTextFileReader.__init__\u001b[1;34m(self, f, engine, **kwds)\u001b[0m\n\u001b[0;32m    929\u001b[0m     \u001b[39mself\u001b[39m\u001b[39m.\u001b[39moptions[\u001b[39m\"\u001b[39m\u001b[39mhas_index_names\u001b[39m\u001b[39m\"\u001b[39m] \u001b[39m=\u001b[39m kwds[\u001b[39m\"\u001b[39m\u001b[39mhas_index_names\u001b[39m\u001b[39m\"\u001b[39m]\n\u001b[0;32m    931\u001b[0m \u001b[39mself\u001b[39m\u001b[39m.\u001b[39mhandles: IOHandles \u001b[39m|\u001b[39m \u001b[39mNone\u001b[39;00m \u001b[39m=\u001b[39m \u001b[39mNone\u001b[39;00m\n\u001b[1;32m--> 932\u001b[0m \u001b[39mself\u001b[39m\u001b[39m.\u001b[39m_engine \u001b[39m=\u001b[39m \u001b[39mself\u001b[39;49m\u001b[39m.\u001b[39;49m_make_engine(f, \u001b[39mself\u001b[39;49m\u001b[39m.\u001b[39;49mengine)\n",
      "File \u001b[1;32mc:\\Users\\rapos\\miniconda3\\lib\\site-packages\\pandas\\io\\parsers\\readers.py:1216\u001b[0m, in \u001b[0;36mTextFileReader._make_engine\u001b[1;34m(self, f, engine)\u001b[0m\n\u001b[0;32m   1212\u001b[0m     mode \u001b[39m=\u001b[39m \u001b[39m\"\u001b[39m\u001b[39mrb\u001b[39m\u001b[39m\"\u001b[39m\n\u001b[0;32m   1213\u001b[0m \u001b[39m# error: No overload variant of \"get_handle\" matches argument types\u001b[39;00m\n\u001b[0;32m   1214\u001b[0m \u001b[39m# \"Union[str, PathLike[str], ReadCsvBuffer[bytes], ReadCsvBuffer[str]]\"\u001b[39;00m\n\u001b[0;32m   1215\u001b[0m \u001b[39m# , \"str\", \"bool\", \"Any\", \"Any\", \"Any\", \"Any\", \"Any\"\u001b[39;00m\n\u001b[1;32m-> 1216\u001b[0m \u001b[39mself\u001b[39m\u001b[39m.\u001b[39mhandles \u001b[39m=\u001b[39m get_handle(  \u001b[39m# type: ignore[call-overload]\u001b[39;49;00m\n\u001b[0;32m   1217\u001b[0m     f,\n\u001b[0;32m   1218\u001b[0m     mode,\n\u001b[0;32m   1219\u001b[0m     encoding\u001b[39m=\u001b[39;49m\u001b[39mself\u001b[39;49m\u001b[39m.\u001b[39;49moptions\u001b[39m.\u001b[39;49mget(\u001b[39m\"\u001b[39;49m\u001b[39mencoding\u001b[39;49m\u001b[39m\"\u001b[39;49m, \u001b[39mNone\u001b[39;49;00m),\n\u001b[0;32m   1220\u001b[0m     compression\u001b[39m=\u001b[39;49m\u001b[39mself\u001b[39;49m\u001b[39m.\u001b[39;49moptions\u001b[39m.\u001b[39;49mget(\u001b[39m\"\u001b[39;49m\u001b[39mcompression\u001b[39;49m\u001b[39m\"\u001b[39;49m, \u001b[39mNone\u001b[39;49;00m),\n\u001b[0;32m   1221\u001b[0m     memory_map\u001b[39m=\u001b[39;49m\u001b[39mself\u001b[39;49m\u001b[39m.\u001b[39;49moptions\u001b[39m.\u001b[39;49mget(\u001b[39m\"\u001b[39;49m\u001b[39mmemory_map\u001b[39;49m\u001b[39m\"\u001b[39;49m, \u001b[39mFalse\u001b[39;49;00m),\n\u001b[0;32m   1222\u001b[0m     is_text\u001b[39m=\u001b[39;49mis_text,\n\u001b[0;32m   1223\u001b[0m     errors\u001b[39m=\u001b[39;49m\u001b[39mself\u001b[39;49m\u001b[39m.\u001b[39;49moptions\u001b[39m.\u001b[39;49mget(\u001b[39m\"\u001b[39;49m\u001b[39mencoding_errors\u001b[39;49m\u001b[39m\"\u001b[39;49m, \u001b[39m\"\u001b[39;49m\u001b[39mstrict\u001b[39;49m\u001b[39m\"\u001b[39;49m),\n\u001b[0;32m   1224\u001b[0m     storage_options\u001b[39m=\u001b[39;49m\u001b[39mself\u001b[39;49m\u001b[39m.\u001b[39;49moptions\u001b[39m.\u001b[39;49mget(\u001b[39m\"\u001b[39;49m\u001b[39mstorage_options\u001b[39;49m\u001b[39m\"\u001b[39;49m, \u001b[39mNone\u001b[39;49;00m),\n\u001b[0;32m   1225\u001b[0m )\n\u001b[0;32m   1226\u001b[0m \u001b[39massert\u001b[39;00m \u001b[39mself\u001b[39m\u001b[39m.\u001b[39mhandles \u001b[39mis\u001b[39;00m \u001b[39mnot\u001b[39;00m \u001b[39mNone\u001b[39;00m\n\u001b[0;32m   1227\u001b[0m f \u001b[39m=\u001b[39m \u001b[39mself\u001b[39m\u001b[39m.\u001b[39mhandles\u001b[39m.\u001b[39mhandle\n",
      "File \u001b[1;32mc:\\Users\\rapos\\miniconda3\\lib\\site-packages\\pandas\\io\\common.py:786\u001b[0m, in \u001b[0;36mget_handle\u001b[1;34m(path_or_buf, mode, encoding, compression, memory_map, is_text, errors, storage_options)\u001b[0m\n\u001b[0;32m    781\u001b[0m \u001b[39melif\u001b[39;00m \u001b[39misinstance\u001b[39m(handle, \u001b[39mstr\u001b[39m):\n\u001b[0;32m    782\u001b[0m     \u001b[39m# Check whether the filename is to be opened in binary mode.\u001b[39;00m\n\u001b[0;32m    783\u001b[0m     \u001b[39m# Binary mode does not support 'encoding' and 'newline'.\u001b[39;00m\n\u001b[0;32m    784\u001b[0m     \u001b[39mif\u001b[39;00m ioargs\u001b[39m.\u001b[39mencoding \u001b[39mand\u001b[39;00m \u001b[39m\"\u001b[39m\u001b[39mb\u001b[39m\u001b[39m\"\u001b[39m \u001b[39mnot\u001b[39;00m \u001b[39min\u001b[39;00m ioargs\u001b[39m.\u001b[39mmode:\n\u001b[0;32m    785\u001b[0m         \u001b[39m# Encoding\u001b[39;00m\n\u001b[1;32m--> 786\u001b[0m         handle \u001b[39m=\u001b[39m \u001b[39mopen\u001b[39;49m(\n\u001b[0;32m    787\u001b[0m             handle,\n\u001b[0;32m    788\u001b[0m             ioargs\u001b[39m.\u001b[39;49mmode,\n\u001b[0;32m    789\u001b[0m             encoding\u001b[39m=\u001b[39;49mioargs\u001b[39m.\u001b[39;49mencoding,\n\u001b[0;32m    790\u001b[0m             errors\u001b[39m=\u001b[39;49merrors,\n\u001b[0;32m    791\u001b[0m             newline\u001b[39m=\u001b[39;49m\u001b[39m\"\u001b[39;49m\u001b[39m\"\u001b[39;49m,\n\u001b[0;32m    792\u001b[0m         )\n\u001b[0;32m    793\u001b[0m     \u001b[39melse\u001b[39;00m:\n\u001b[0;32m    794\u001b[0m         \u001b[39m# Binary mode\u001b[39;00m\n\u001b[0;32m    795\u001b[0m         handle \u001b[39m=\u001b[39m \u001b[39mopen\u001b[39m(handle, ioargs\u001b[39m.\u001b[39mmode)\n",
      "\u001b[1;31mFileNotFoundError\u001b[0m: [Errno 2] No such file or directory: './test_results_1.csv'"
     ]
    }
   ],
   "source": [
    "results = pd.read_csv(\"./test_results_1.csv\")\n",
    "\n",
    "best_RVE = results[\"RVE\"].max()\n",
    "_RVE_best_params = results.loc[results['RVE'] == best_RVE]\n",
    "RVE_best_params =dict(_RVE_best_params[\"params\"])\n",
    "\n",
    "print(\"RVE: {} with params: {}\".format(best_RVE, RVE_best_params))\n",
    "\n",
    "#rmse_best = results[\"rmse\"].min()\n",
    "#_rmse_best_params = results.loc[results['rmse'] == rmse_best]\n",
    "#rmse_best_params = dict(_rmse_best_params[\"params\"])\n",
    "\n",
    "#print(\"best_rmse: {} with params {}\".format(rmse_best, rmse_best_params))\n",
    "\n",
    "#best_pcorr_score = results[\"corr_score\"].max()\n",
    "#_pcorr_score_best_params = results.loc[results['corr_score'] == best_pcorr_score]\n",
    "#pcorr_score_best_params =dict(_pcorr_score_best_params[\"params\"])\n",
    "\n",
    "#print(\"best_pcorr_score: {} with params {}\".format(best_pcorr_score, pcorr_score_best_params))\n",
    "\n",
    "#print(results.loc[results['corr_score'] == best_pcorr_score])\n",
    "\n",
    "# Maximum Error\n",
    "# Mean Absolute Error\n"
   ]
  },
  {
   "cell_type": "code",
   "execution_count": null,
   "metadata": {},
   "outputs": [
    {
     "name": "stdout",
     "output_type": "stream",
     "text": [
      "Metrics with IVS sets (focusing RVE):\n",
      "{'criterion': 'friedman_mse', 'splitter': 'best', 'max_depth': 50, 'max_features': 'sqrt', 'min_samples_leaf': 17, 'min_sample_split': 10}\n",
      "RVE, -0.8111298311484267\n",
      "rmse, 12.262063542419893\n",
      "corr_score, -0.3974 (p-value=1.204912e-23)\n",
      "max_error_r, 26.414704166666667\n",
      "mean_absolute_error_r, 9.599377799637484\n"
     ]
    }
   ],
   "source": [
    "import ast\n",
    "print(\"Metrics with IVS sets (focusing RVE):\")\n",
    "RVE_best_params=_RVE_best_params[\"params\"].to_dict()\n",
    "ix = list(RVE_best_params)[0]\n",
    "RVE_best_params=ast.literal_eval(RVE_best_params[ix])\n",
    "print(RVE_best_params)\n",
    "\n",
    "criterion=RVE_best_params[\"criterion\"]\n",
    "splitter=RVE_best_params[\"splitter\"]\n",
    "max_depth=RVE_best_params[\"max_depth\"]\n",
    "max_features=RVE_best_params[\"max_features\"]\n",
    "min_samples_leaf=RVE_best_params[\"min_samples_leaf\"]\n",
    "min_samples_split=RVE_best_params[\"min_sample_split\"]\n",
    "\n",
    "mdl = tree.DecisionTreeRegressor(criterion=criterion,splitter=splitter,max_depth=max_depth,max_features=max_features,min_samples_leaf=min_samples_leaf,min_samples_split=min_samples_split)\n",
    "mdl.fit(x_train, y_train)\n",
    "preds = mdl.predict(x_dev)\n",
    "\n",
    "print(f\"RVE, {explained_variance_score(y_dev, preds)}\")\n",
    "print(f\"rmse, {mean_squared_error(y_dev, preds, squared=False)}\")\n",
    "corr, pval=pearsonr(y_dev, preds)\n",
    "print(\"corr_score, %6.4f (p-value=%e)\"%(corr,pval))\n",
    "print(f\"max_error_r, {max_error(y_dev, preds)}\")\n",
    "print(f\"mean_absolute_error_r, {mean_absolute_error(y_dev, preds)}\")"
   ]
  },
  {
   "cell_type": "markdown",
   "metadata": {},
   "source": [
    "# Simple cross for Classification"
   ]
  },
  {
   "cell_type": "markdown",
   "metadata": {},
   "source": [
    "Data Preparation"
   ]
  },
  {
   "cell_type": "code",
   "execution_count": 27,
   "metadata": {},
   "outputs": [
    {
     "name": "stdout",
     "output_type": "stream",
     "text": [
      "0.1712340425531915\n"
     ]
    }
   ],
   "source": [
    "\n",
    "y_dtf=dataset[\"total_UPDRS\"]\n",
    "\n",
    "y = np.array([ 1 if y_val > 40 else 0 for y_val in y_dtf.to_list() ])\n",
    "print(np.sum(y==1) / len(y))\n",
    "\n",
    "y_train = y[:train_len]\n",
    "\n",
    "y_dev = y[train_len:train_len+dev_len]\n",
    "\n",
    "y_ivs = y[train_len+dev_len:]\n",
    "\n",
    "#print(dataset)"
   ]
  },
  {
   "cell_type": "code",
   "execution_count": null,
   "metadata": {},
   "outputs": [],
   "source": [
    "from distutils.command.build_scripts import first_line_re\n",
    "import itertools\n",
    "from sklearn.metrics import precision_score, recall_score, f1_score, matthews_corrcoef, confusion_matrix\n",
    "\n",
    "\n",
    "criterions = [\"gini\", \"entropy\", \"log_loss\"]\n",
    "#splitters = [\"best\", \"random\"]\n",
    "splitters = [\"best\", None]\n",
    "max_depths = range(10,100,10)\n",
    "#max_features = [\"auto\", \"sqrt\", \"log2\"]\n",
    "max_features = [\"sqrt\", \"log2\", None]\n",
    "min_samples_leaf = range(1,30,1)\n",
    "min_samples_splits = range(2,30,1)\n",
    "#... other hyper params\n",
    "\n",
    "hyperparams_combinations = itertools.product(criterions, splitters, max_depths, max_features, min_samples_leaf, min_samples_splits)\n",
    "\n",
    "\n",
    "first_loop = True\n",
    "def validation_results(params):\n",
    "    criterion, splitter, max_depth, max_features, min_samples_leaf, min_sample_split = params\n",
    "\n",
    "    mdl = tree.DecisionTreeClassifier(criterion=criterion,splitter=splitter,max_depth=max_depth,max_features=max_features,min_samples_leaf=min_samples_leaf,min_samples_split=min_sample_split)\n",
    "    mdl.fit(x_train, y_train)\n",
    "    preds = mdl.predict(x_dev)\n",
    "\n",
    "    F1=f1_score(y_dev, preds)\n",
    "        #print(\"The Precision is: %7.4f\" % precision_score(y_test, preds))\n",
    "        #print(\"The Recall is: %7.4f\" % recall_score(y_test, preds))\n",
    "        #print(\"The F1 score is: %7.4f\" % f1_score(y_test, preds))\n",
    "        #print(\"The Matthews correlation coefficient is: %7.4f\" % matthews_corrcoef(y_test, preds))\n",
    "\n",
    "    r = {\n",
    "        \"params\": { \n",
    "            \"criterion\": criterion,\n",
    "            \"splitter\": splitter,\n",
    "            \"max_depth\": max_depth,\n",
    "            \"max_features\": max_features,\n",
    "            \"min_samples_leaf\": min_samples_leaf,\n",
    "            \"min_sample_split\": min_sample_split\n",
    "        },\n",
    "        \n",
    "        \"F1\": F1,\n",
    "        #print(\"The Precision is: %7.4f\" % precision_score(y_test, preds))\n",
    "        #print(\"The Recall is: %7.4f\" % recall_score(y_test, preds))\n",
    "        #print(\"The F1 score is: %7.4f\" % f1_score(y_test, preds))\n",
    "        #print(\"The Matthews correlation coefficient is: %7.4f\" % matthews_corrcoef(y_test, preds))\n",
    "    }\n",
    "    #if first_loop:\n",
    "    #    print(results_l[0])\n",
    "    #    first_loop = False\n",
    "    return r\n",
    "\n",
    "results_l = [ validation_results(params) for params in hyperparams_combinations ]\n",
    "    \n",
    "\n",
    "#print(results_l)\n",
    "results_params = [ x[\"params\"] for x in results_l ]\n",
    "results_F1 = [ x[\"F1\"] for x in results_l ]\n",
    "\n",
    "        #print(\"The Precision is: %7.4f\" % precision_score(y_test, preds))\n",
    "        #print(\"The Recall is: %7.4f\" % recall_score(y_test, preds))\n",
    "        #print(\"The F1 score is: %7.4f\" % f1_score(y_test, preds))\n",
    "        #print(\"The Matthews correlation coefficient is: %7.4f\" % matthews_corrcoef(y_test, preds))\n",
    "\n",
    "results = pd.DataFrame({\n",
    "    \"params\": results_params,\n",
    "    \"F1\": results_F1,\n",
    "\n",
    "        #print(\"The Precision is: %7.4f\" % precision_score(y_test, preds))\n",
    "        #print(\"The Recall is: %7.4f\" % recall_score(y_test, preds))\n",
    "        #print(\"The F1 score is: %7.4f\" % f1_score(y_test, preds))\n",
    "        #print(\"The Matthews correlation coefficient is: %7.4f\" % matthews_corrcoef(y_test, preds))\n",
    "})\n",
    "results.to_csv(\"./test_results_f1.csv\")"
   ]
  },
  {
   "cell_type": "code",
   "execution_count": 41,
   "metadata": {},
   "outputs": [
    {
     "name": "stdout",
     "output_type": "stream",
     "text": [
      "       Unnamed: 0                                             params        F1\n",
      "0               0  {'criterion': 'gini', 'splitter': 'best', 'max...  0.107744\n",
      "1               1  {'criterion': 'gini', 'splitter': 'best', 'max...  0.015385\n",
      "2               2  {'criterion': 'gini', 'splitter': 'best', 'max...  0.044118\n",
      "3               3  {'criterion': 'gini', 'splitter': 'best', 'max...  0.029851\n",
      "4               4  {'criterion': 'gini', 'splitter': 'best', 'max...  0.054608\n",
      "...           ...                                                ...       ...\n",
      "65767       65767  {'criterion': 'log_loss', 'splitter': 'best', ...  0.000000\n",
      "65768       65768  {'criterion': 'log_loss', 'splitter': 'best', ...  0.000000\n",
      "65769       65769  {'criterion': 'log_loss', 'splitter': 'best', ...  0.000000\n",
      "65770       65770  {'criterion': 'log_loss', 'splitter': 'best', ...  0.000000\n",
      "65771       65771  {'criterion': 'log_loss', 'splitter': 'best', ...  0.000000\n",
      "\n",
      "[65772 rows x 3 columns]\n"
     ]
    }
   ],
   "source": [
    "import pandas as pd\n",
    "results = pd.read_csv(\"./dropped/test_results_f1.csv\")\n",
    "print(results)"
   ]
  },
  {
   "cell_type": "code",
   "execution_count": 55,
   "metadata": {},
   "outputs": [
    {
     "name": "stdout",
     "output_type": "stream",
     "text": [
      "Metrics with IVS sets (focusing F1):\n",
      "{'criterion': 'gini', 'splitter': 'best', 'max_depth': 10, 'max_features': 'sqrt', 'min_samples_leaf': 1, 'min_sample_split': 2}\n",
      "{'criterion': 'gini', 'splitter': 'best', 'max_depth': 10, 'max_features': 'sqrt', 'min_samples_leaf': 1, 'min_sample_split': 2}\n",
      "The Precision is:  0.1667\n",
      "The Recall is:  0.0123\n",
      "The F1 score is:  0.0230\n",
      "The Matthews correlation coefficient is: -0.0893\n"
     ]
    }
   ],
   "source": [
    "import ast\n",
    "from sklearn.metrics import precision_score, recall_score, f1_score, matthews_corrcoef, confusion_matrix\n",
    "print(\"Metrics with IVS sets (focusing F1):\")\n",
    "np.random.seed(42)\n",
    "import random\n",
    "random.seed(42)\n",
    "F1_best_params=results[\"params\"].to_dict()\n",
    "#F1_best_params=F1_best_params.to_dict()\n",
    "ix = list(F1_best_params)[0]\n",
    "F1_best_params=ast.literal_eval(F1_best_params[ix])\n",
    "print(F1_best_params)\n",
    "#F1_best_params=results[\"params\"].to_dict()\n",
    "#ix = list(F1_best_params)[0]\n",
    "#F1_best_params=F1_best_params[ix]\n",
    "#F1_best_params=ast.literal_eval(F1_best_params[ix])\n",
    "print(F1_best_params)\n",
    "\n",
    "criterion=F1_best_params[\"criterion\"]\n",
    "splitter=F1_best_params[\"splitter\"]\n",
    "max_depth=F1_best_params[\"max_depth\"]\n",
    "max_features=F1_best_params[\"max_features\"]\n",
    "min_samples_leaf=F1_best_params[\"min_samples_leaf\"]\n",
    "min_samples_split=F1_best_params[\"min_sample_split\"]\n",
    "\n",
    "mdl = tree.DecisionTreeClassifier(criterion=criterion,splitter=splitter,max_depth=max_depth,max_features=max_features,min_samples_leaf=min_samples_leaf,min_samples_split=min_samples_split)\n",
    "mdl.fit(x_train, y_train)\n",
    "preds = mdl.predict(x_dev)\n",
    "\n",
    "print(\"The Precision is: %7.4f\" % precision_score(y_dev, preds))\n",
    "print(\"The Recall is: %7.4f\" % recall_score(y_dev, preds))\n",
    "print(\"The F1 score is: %7.4f\" % f1_score(y_dev, preds))\n",
    "print(\"The Matthews correlation coefficient is: %7.4f\" % matthews_corrcoef(y_dev, preds))"
   ]
  }
 ],
 "metadata": {
  "kernelspec": {
   "display_name": "Python 3.9.12 ('base')",
   "language": "python",
   "name": "python3"
  },
  "language_info": {
   "codemirror_mode": {
    "name": "ipython",
    "version": 3
   },
   "file_extension": ".py",
   "mimetype": "text/x-python",
   "name": "python",
   "nbconvert_exporter": "python",
   "pygments_lexer": "ipython3",
   "version": "3.9.12"
  },
  "orig_nbformat": 4,
  "vscode": {
   "interpreter": {
    "hash": "055142e5cf66ed8ee87e97d9d29944a505c8696ace08c4c3475747b47f85af0d"
   }
  }
 },
 "nbformat": 4,
 "nbformat_minor": 2
}
