{
 "cells": [
  {
   "cell_type": "code",
   "execution_count": 48,
   "metadata": {},
   "outputs": [],
   "source": [
    "import pandas as pd\n",
    "from sklearn.linear_model import Ridge, Lasso\n",
    "from sklearn.preprocessing import MinMaxScaler, StandardScaler, normalize"
   ]
  },
  {
   "cell_type": "code",
   "execution_count": 43,
   "metadata": {},
   "outputs": [
    {
     "name": "stdout",
     "output_type": "stream",
     "text": [
      "       SpMax_L   J_Dz(e)  nHM       F01  F04  NssssC  nCb          C      nCp  \\\n",
      "0     3.919000  2.690900  0.0  0.000000  0.0     0.0  0.0  31.400000  2.00000   \n",
      "1     4.170000  2.114400  0.0  0.000000  0.0     0.0  0.0  30.800000  1.00000   \n",
      "2     3.932000  3.251200  0.0  0.000000  0.0     0.0  0.0  26.700000  2.00000   \n",
      "3     3.000000  2.709800  0.0  0.000000  0.0     0.0  0.0  20.000000  1.22579   \n",
      "4     4.236000  3.394400  0.0  0.000000  0.0     0.0  0.0  29.400000  2.00000   \n",
      "...        ...       ...  ...       ...  ...     ...  ...        ...      ...   \n",
      "4559  4.175650  3.454649  0.0  0.000000  0.0     0.0  0.0  27.300000  2.00000   \n",
      "4560  3.853731  2.747142  0.0  0.010373  0.0     0.0  0.0  33.300000  0.00000   \n",
      "4561  4.294771  3.471226  0.0  0.000000  0.0     0.0  0.0  28.422154  2.00000   \n",
      "4562  4.560376  3.896390  0.0  0.000000  0.0     0.0  0.0  35.100603  2.00000   \n",
      "4563  4.045097  2.847185  0.0  0.000000  0.0     0.0  0.0  23.386643  1.00000   \n",
      "\n",
      "       nO  ...      nCrt  C_026  F02_CN  nHDon   SpMax_B   Psi_i_A   nN  \\\n",
      "0     0.0  ...  0.000000    0.0     0.0    0.0  2.949000  1.591000  0.0   \n",
      "1     1.0  ...  0.000000    0.0     0.0    0.0  3.315000  1.967000  0.0   \n",
      "2     4.0  ...  0.000000    0.0     0.0    1.0  3.594392  2.417000  0.0   \n",
      "3     2.0  ...  0.000000    0.0     0.0    1.0  3.594392  5.000000  0.0   \n",
      "4     4.0  ...  0.000000    0.0     0.0    0.0  3.351000  2.405000  0.0   \n",
      "...   ...  ...       ...    ...     ...    ...       ...       ...  ...   \n",
      "4559  2.0  ...  0.000000    0.0     0.0    0.0  3.398382  3.241090  0.0   \n",
      "4560  0.0  ...  0.000000    0.0     0.0    1.0  3.429148  2.719309  0.0   \n",
      "4561  2.0  ...  0.031584    0.0     0.0    0.0  3.351666  2.729456  0.0   \n",
      "4562  3.0  ...  0.000000    0.0     0.0    0.0  3.594392  3.059198  0.0   \n",
      "4563  1.0  ...  0.031584    0.0     2.0    2.0  3.032224  2.613357  1.0   \n",
      "\n",
      "         SM6_B  nArCOOR        nX  \n",
      "0     7.253000      0.0  0.000000  \n",
      "1     7.257000      0.0  0.000000  \n",
      "2     7.601000      0.0  0.000000  \n",
      "3     6.690000      0.0  0.000000  \n",
      "4     8.003000      0.0  0.170273  \n",
      "...        ...      ...       ...  \n",
      "4559  7.406748      0.0  0.000000  \n",
      "4560  7.511511      0.0  0.000000  \n",
      "4561  7.699324      0.0  0.000000  \n",
      "4562  7.908802      0.0  0.000000  \n",
      "4563  6.863314      0.0  0.000000  \n",
      "\n",
      "[4564 rows x 41 columns]\n",
      "       SpMax_L   J_Dz(e)       nHM           F01       F04    NssssC  \\\n",
      "0    -1.320531 -0.666887 -0.233216 -8.654470e-02 -0.217059 -0.128692   \n",
      "1    -0.798293 -1.598449 -0.233216 -8.654470e-02 -0.217059 -0.128692   \n",
      "2    -1.293482  0.238498 -0.233216 -8.654470e-02 -0.217059 -0.128692   \n",
      "3    -3.232628 -0.636346 -0.233216 -8.654470e-02 -0.217059 -0.128692   \n",
      "4    -0.660971  0.469894 -0.233216 -8.654470e-02 -0.217059 -0.128692   \n",
      "...        ...       ...       ...           ...       ...       ...   \n",
      "4559 -0.786537  0.567249 -0.233216 -8.654470e-02 -0.217059 -0.128692   \n",
      "4560 -1.456332 -0.576006 -0.233216 -1.447336e-17 -0.217059 -0.128692   \n",
      "4561 -0.538691  0.594036 -0.233216 -8.654470e-02 -0.217059 -0.128692   \n",
      "4562  0.013934  1.281056 -0.233216 -8.654470e-02 -0.217059 -0.128692   \n",
      "4563 -1.058169 -0.414347 -0.233216 -8.654470e-02 -0.217059 -0.128692   \n",
      "\n",
      "           nCb             C       nCp        nO  ...          nCrt     C_026  \\\n",
      "0    -0.620189 -4.895957e-01  0.628818 -1.357445  ... -1.006176e-01 -0.368352   \n",
      "1    -0.620189 -5.689766e-01 -0.183388 -0.694838  ... -1.006176e-01 -0.368352   \n",
      "2    -0.620189 -1.111413e+00  0.628818  1.292985  ... -1.006176e-01 -0.368352   \n",
      "3    -0.620189 -1.997834e+00  0.000000 -0.032230  ... -1.006176e-01 -0.368352   \n",
      "4    -0.620189 -7.541989e-01  0.628818  1.292985  ... -1.006176e-01 -0.368352   \n",
      "...        ...           ...       ...       ...  ...           ...       ...   \n",
      "4559 -0.620189 -1.032032e+00  0.628818 -0.032230  ... -1.006176e-01 -0.368352   \n",
      "4560 -0.620189 -2.382226e-01 -0.995593 -1.357445  ... -1.006176e-01 -0.368352   \n",
      "4561 -0.620189 -8.835695e-01  0.628818 -0.032230  ...  2.210545e-17 -0.368352   \n",
      "4562 -0.620189  1.786113e-14  0.628818  0.630377  ... -1.006176e-01 -0.368352   \n",
      "4563 -0.620189 -1.549776e+00 -0.183388 -0.694838  ...  2.210545e-17 -0.368352   \n",
      "\n",
      "        F02_CN     nHDon       SpMax_B   Psi_i_A        nN     SM6_B  \\\n",
      "0    -0.320530 -0.670025 -1.308420e+00 -1.787372 -0.391021 -0.981633   \n",
      "1    -0.320530 -0.670025 -5.664184e-01 -1.142903 -0.391021 -0.977175   \n",
      "2    -0.320530  0.191868  1.800629e-15 -0.371597 -0.391021 -0.593796   \n",
      "3    -0.320530  0.191868  1.800629e-15  4.055697 -0.391021 -1.609081   \n",
      "4    -0.320530 -0.670025 -4.934346e-01 -0.392165 -0.391021 -0.145778   \n",
      "...        ...       ...           ...       ...       ...       ...   \n",
      "4559 -0.320530 -0.670025 -3.973759e-01  1.040903 -0.391021 -0.810285   \n",
      "4560 -0.320530  0.191868 -3.350031e-01  0.146563 -0.391021 -0.693530   \n",
      "4561 -0.320530 -0.670025 -4.920837e-01  0.163956 -0.391021 -0.484217   \n",
      "4562 -0.320530 -0.670025  1.800629e-15  0.729138 -0.391021 -0.250759   \n",
      "4563  1.221799  1.053760 -1.139699e+00 -0.035038  1.072983 -1.415928   \n",
      "\n",
      "       nArCOOR        nX  \n",
      "0    -0.220867 -0.160286  \n",
      "1    -0.220867 -0.160286  \n",
      "2    -0.220867 -0.160286  \n",
      "3    -0.220867 -0.160286  \n",
      "4    -0.220867  0.000000  \n",
      "...        ...       ...  \n",
      "4559 -0.220867 -0.160286  \n",
      "4560 -0.220867 -0.160286  \n",
      "4561 -0.220867 -0.160286  \n",
      "4562 -0.220867 -0.160286  \n",
      "4563 -0.220867 -0.160286  \n",
      "\n",
      "[4564 rows x 41 columns]\n",
      "(4564, 42)\n",
      "(889, 42)\n"
     ]
    }
   ],
   "source": [
    "initial_dataset = pd.read_csv(\"biodegradable_a.csv\")\n",
    "total_len, _ = initial_dataset.shape\n",
    "\n",
    "# NOTE - NO INDEPENDENT VALIDATION SET !!!\n",
    "\n",
    "# Total with means\n",
    "categorical = ['int16', 'int32', 'int64']\n",
    "biodegradable = ['object']\n",
    "numerical = ['float16', 'float32', 'float64']\n",
    "\n",
    "total_categorical_dataset = initial_dataset.select_dtypes(include=categorical)\n",
    "total_categorical_dataset = total_categorical_dataset.fillna(total_categorical_dataset.mode())\n",
    "\n",
    "total_numerical_dataset = initial_dataset.select_dtypes(include=numerical)\n",
    "total_numerical_dataset = total_numerical_dataset.fillna(total_numerical_dataset.mean())\n",
    "\n",
    "total_biodegradable = initial_dataset.select_dtypes(include=biodegradable)\n",
    "total_biodegradable = total_biodegradable.fillna(\"\")\n",
    "\n",
    "# Scale numerical data\n",
    "# https://scikit-learn.org/stable/modules/preproce\n",
    "print(total_numerical_dataset)\n",
    "\n",
    "scaler = StandardScaler()\n",
    "#scaler = MinMaxScaler(feature_range=(-1, 1))\n",
    "\n",
    "total_numerical_dataset = pd.DataFrame(scaler.fit_transform(total_numerical_dataset),\n",
    "             columns=total_numerical_dataset.columns, index=total_numerical_dataset.index)\n",
    "\n",
    "\n",
    "#total_numerical_dataset = pd.DataFrame(normalize(total_numerical_dataset, norm='l2', axis=1, copy=True, return_norm=False),\n",
    "#             columns=total_numerical_dataset.columns, index=total_numerical_dataset.index)\n",
    "\n",
    "print(total_numerical_dataset)\n",
    "#\n",
    "total_dataset = pd.concat([total_categorical_dataset, total_numerical_dataset,total_biodegradable], axis=1)\n",
    "\n",
    "total_len, _ = total_dataset.shape\n",
    "train_dataset_len = round(total_len * 0.75)\n",
    "\n",
    "dataset_train = total_dataset[0:train_dataset_len]\n",
    "dataset_test = total_dataset[train_dataset_len:total_len]\n",
    "\n",
    "print(total_dataset.shape)\n",
    "\n",
    "# Removal of None/NaN vals\n",
    "dropna_dataset = initial_dataset.dropna()\n",
    "\n",
    "dropna_len, _ = dropna_dataset.shape\n",
    "model_dropna_len = round(total_len * 0.75)\n",
    "\n",
    "dropna_train = dropna_dataset[0:model_dropna_len]\n",
    "dropna_test = dropna_dataset[model_dropna_len:dropna_len]\n",
    "\n",
    "print(dropna_dataset.shape)"
   ]
  },
  {
   "cell_type": "code",
   "execution_count": 44,
   "metadata": {},
   "outputs": [
    {
     "name": "stdout",
     "output_type": "stream",
     "text": [
      "Index(['Biodegradable', 'SpMax_L', 'J_Dz(e)', 'nHM', 'F01', 'F04', 'NssssC',\n",
      "       'nCb', 'C', 'nCp', 'nO', 'F03', 'SdssC', 'HyWi_B', 'LOC', 'SM6_L',\n",
      "       'F03_CO', 'Me', 'Mi', 'nN_N', 'nArNO2', 'nCRX3', 'SpPosA_B', 'nCIR',\n",
      "       'B01', 'B03', 'N_073', 'SpMax_A', 'Psi_i_1d', 'B04', 'SdO', 'TI2_L',\n",
      "       'nCrt', 'C_026', 'F02_CN', 'nHDon', 'SpMax_B', 'Psi_i_A', 'nN', 'SM6_B',\n",
      "       'nArCOOR', 'nX'],\n",
      "      dtype='object')\n",
      "Index(['SpMax_L', 'J_Dz(e)', 'nHM', 'F01', 'F04', 'NssssC', 'nCb', 'C', 'nCp',\n",
      "       'nO', 'F03', 'SdssC', 'HyWi_B', 'LOC', 'SM6_L', 'F03_CO', 'Me', 'Mi',\n",
      "       'nN_N', 'nArNO2', 'nCRX3', 'SpPosA_B', 'nCIR', 'B01', 'B03', 'N_073',\n",
      "       'SpMax_A', 'Psi_i_1d', 'B04', 'SdO', 'TI2_L', 'nCrt', 'C_026', 'F02_CN',\n",
      "       'nHDon', 'SpMax_B', 'Psi_i_A', 'nN', 'SM6_B', 'nArCOOR', 'nX',\n",
      "       'Biodegradable'],\n",
      "      dtype='object')\n"
     ]
    }
   ],
   "source": [
    "print(total_dataset.columns)\n",
    "print(dropna_test.columns)"
   ]
  },
  {
   "cell_type": "markdown",
   "metadata": {},
   "source": [
    "## Using Model with replaced values when NaN, and discarding the dropped NaN values dataset"
   ]
  },
  {
   "cell_type": "code",
   "execution_count": 45,
   "metadata": {},
   "outputs": [
    {
     "name": "stdout",
     "output_type": "stream",
     "text": [
      "       SpMax_L   J_Dz(e)       nHM       F01       F04    NssssC       nCb  \\\n",
      "0    -1.320531 -0.666887 -0.233216 -0.086545 -0.217059 -0.128692 -0.620189   \n",
      "1    -0.798293 -1.598449 -0.233216 -0.086545 -0.217059 -0.128692 -0.620189   \n",
      "2    -1.293482  0.238498 -0.233216 -0.086545 -0.217059 -0.128692 -0.620189   \n",
      "3    -3.232628 -0.636346 -0.233216 -0.086545 -0.217059 -0.128692 -0.620189   \n",
      "4    -0.660971  0.469894 -0.233216 -0.086545 -0.217059 -0.128692 -0.620189   \n",
      "...        ...       ...       ...       ...       ...       ...       ...   \n",
      "3418  0.495700  0.341900 -0.233216 -0.086545 -0.217059 -0.128692  0.778991   \n",
      "3419 -0.115755 -0.394899 -0.233216 -0.086545 -0.217059 -0.128692  1.478581   \n",
      "3420  0.363636  0.106824 -0.233216 -0.086545 -0.217059 -0.128692  0.778991   \n",
      "3421 -1.150057 -0.041602 -0.233216 -0.086545 -0.217059 -0.128692 -0.620189   \n",
      "3422 -0.672506 -0.520874 -0.233216 -0.086545 -0.217059 -0.128692 -0.620189   \n",
      "\n",
      "                 C       nCp        nO  ...          nCrt     C_026    F02_CN  \\\n",
      "0    -4.895957e-01  0.628818 -1.357445  ... -1.006176e-01 -0.368352 -0.320530   \n",
      "1    -5.689766e-01 -0.183388 -0.694838  ... -1.006176e-01 -0.368352 -0.320530   \n",
      "2    -1.111413e+00  0.628818  1.292985  ... -1.006176e-01 -0.368352 -0.320530   \n",
      "3    -1.997834e+00  0.000000 -0.032230  ... -1.006176e-01 -0.368352 -0.320530   \n",
      "4    -7.541989e-01  0.628818  1.292985  ... -1.006176e-01 -0.368352 -0.320530   \n",
      "...            ...       ...       ...  ...           ...       ...       ...   \n",
      "3418  7.754750e-01 -0.995593 -0.032230  ...  2.210545e-17  1.846612 -0.320530   \n",
      "3419  8.979580e-01 -0.995593  0.630377  ... -1.006176e-01  0.739130  1.221799   \n",
      "3420  1.230325e+00 -0.183388 -0.032230  ... -1.006176e-01 -0.368352 -0.320530   \n",
      "3421 -1.706251e+00 -0.183388 -0.032230  ... -1.006176e-01 -0.368352 -0.320530   \n",
      "3422  1.786113e-14  0.628818 -0.694838  ... -1.006176e-01 -0.368352 -0.320530   \n",
      "\n",
      "         nHDon       SpMax_B   Psi_i_A        nN     SM6_B   nArCOOR        nX  \n",
      "0    -0.670025 -1.308420e+00 -1.787372 -0.391021 -0.981633 -0.220867 -0.160286  \n",
      "1    -0.670025 -5.664184e-01 -1.142903 -0.391021 -0.977175 -0.220867 -0.160286  \n",
      "2     0.191868  1.800629e-15 -0.371597 -0.391021 -0.593796 -0.220867 -0.160286  \n",
      "3     0.191868  1.800629e-15  4.055697 -0.391021 -1.609081 -0.220867 -0.160286  \n",
      "4    -0.670025 -4.934346e-01 -0.392165 -0.391021 -0.145778 -0.220867  0.000000  \n",
      "...        ...           ...       ...       ...       ...       ...       ...  \n",
      "3418  0.191868  1.625984e-01 -0.269250 -0.391021 -0.068531 -0.220867 -0.160286  \n",
      "3419  0.191868 -5.948675e-02 -0.026613  1.072983 -0.164191 -0.220867 -0.160286  \n",
      "3420  0.191868  1.800629e-15  0.070132 -0.391021  0.104896 -0.220867 -0.160286  \n",
      "3421  1.053760 -6.349319e-01  1.770500 -0.391021 -1.112023 -0.220867 -0.160286  \n",
      "3422  0.191868 -1.079171e+00 -0.935031 -0.391021 -1.014087 -0.220867  0.000000  \n",
      "\n",
      "[3423 rows x 41 columns]\n",
      "0       RB\n",
      "1       RB\n",
      "2       RB\n",
      "3       RB\n",
      "4       RB\n",
      "        ..\n",
      "3418    RB\n",
      "3419    RB\n",
      "3420    RB\n",
      "3421    RB\n",
      "3422    RB\n",
      "Name: Biodegradable, Length: 3423, dtype: object\n"
     ]
    }
   ],
   "source": [
    "X_train = dataset_train.drop([\"Biodegradable\"], axis=1)\n",
    "y_train = dataset_train.Biodegradable\n",
    "print(X_train)\n",
    "print(y_train)"
   ]
  },
  {
   "cell_type": "code",
   "execution_count": 46,
   "metadata": {},
   "outputs": [],
   "source": [
    "X_test = dataset_test.drop([\"Biodegradable\"], axis=1)\n",
    "y_test = dataset_test.Biodegradable"
   ]
  },
  {
   "cell_type": "markdown",
   "metadata": {},
   "source": [
    "## Testing Ridge with a Linear Model"
   ]
  },
  {
   "cell_type": "code",
   "execution_count": 50,
   "metadata": {},
   "outputs": [],
   "source": [
    "#ridge = Ridge(alpha=10, max_iter=9999999).fit(X_train, y_train)\n",
    "\n",
    "#print(\"The bias is: \",  ridge.intercept_)\n",
    "#print(\"The other parameters are: \")\n",
    "#for i, beta in enumerate(ridge.coef_):\n",
    "#    print(\"\\t B%02d -> %9.3f\"% (i+1, beta))"
   ]
  },
  {
   "cell_type": "code",
   "execution_count": null,
   "metadata": {},
   "outputs": [],
   "source": []
  },
  {
   "cell_type": "markdown",
   "metadata": {},
   "source": [
    "## Testing lasso with a Linear Model"
   ]
  },
  {
   "cell_type": "code",
   "execution_count": 52,
   "metadata": {},
   "outputs": [
    {
     "ename": "ValueError",
     "evalue": "could not convert string to float: 'RB'",
     "output_type": "error",
     "traceback": [
      "\u001b[1;31m---------------------------------------------------------------------------\u001b[0m",
      "\u001b[1;31mValueError\u001b[0m                                Traceback (most recent call last)",
      "\u001b[1;32mc:\\Users\\rapos\\OneDrive\\Desktop\\IT\\Dev\\Workspace\\ML_HomeAssignments\\HA2\\main.ipynb Cell 11\u001b[0m in \u001b[0;36m<cell line: 1>\u001b[1;34m()\u001b[0m\n\u001b[1;32m----> <a href='vscode-notebook-cell:/c%3A/Users/rapos/OneDrive/Desktop/IT/Dev/Workspace/ML_HomeAssignments/HA2/main.ipynb#W3sZmlsZQ%3D%3D?line=0'>1</a>\u001b[0m L \u001b[39m=\u001b[39m Lasso(alpha\u001b[39m=\u001b[39;49m\u001b[39m2\u001b[39;49m, max_iter\u001b[39m=\u001b[39;49m\u001b[39m9999999\u001b[39;49m)\u001b[39m.\u001b[39;49mfit(X_train, y_train)\n\u001b[0;32m      <a href='vscode-notebook-cell:/c%3A/Users/rapos/OneDrive/Desktop/IT/Dev/Workspace/ML_HomeAssignments/HA2/main.ipynb#W3sZmlsZQ%3D%3D?line=2'>3</a>\u001b[0m \u001b[39mprint\u001b[39m(\u001b[39m\"\u001b[39m\u001b[39mThe bias is: \u001b[39m\u001b[39m\"\u001b[39m,  L\u001b[39m.\u001b[39mintercept_)\n\u001b[0;32m      <a href='vscode-notebook-cell:/c%3A/Users/rapos/OneDrive/Desktop/IT/Dev/Workspace/ML_HomeAssignments/HA2/main.ipynb#W3sZmlsZQ%3D%3D?line=3'>4</a>\u001b[0m \u001b[39mprint\u001b[39m(\u001b[39m\"\u001b[39m\u001b[39mThe other parameters are: \u001b[39m\u001b[39m\"\u001b[39m)\n",
      "File \u001b[1;32mc:\\Users\\rapos\\miniconda3\\lib\\site-packages\\sklearn\\linear_model\\_coordinate_descent.py:955\u001b[0m, in \u001b[0;36mElasticNet.fit\u001b[1;34m(self, X, y, sample_weight, check_input)\u001b[0m\n\u001b[0;32m    953\u001b[0m \u001b[39mif\u001b[39;00m check_input:\n\u001b[0;32m    954\u001b[0m     X_copied \u001b[39m=\u001b[39m \u001b[39mself\u001b[39m\u001b[39m.\u001b[39mcopy_X \u001b[39mand\u001b[39;00m \u001b[39mself\u001b[39m\u001b[39m.\u001b[39mfit_intercept\n\u001b[1;32m--> 955\u001b[0m     X, y \u001b[39m=\u001b[39m \u001b[39mself\u001b[39;49m\u001b[39m.\u001b[39;49m_validate_data(\n\u001b[0;32m    956\u001b[0m         X,\n\u001b[0;32m    957\u001b[0m         y,\n\u001b[0;32m    958\u001b[0m         accept_sparse\u001b[39m=\u001b[39;49m\u001b[39m\"\u001b[39;49m\u001b[39mcsc\u001b[39;49m\u001b[39m\"\u001b[39;49m,\n\u001b[0;32m    959\u001b[0m         order\u001b[39m=\u001b[39;49m\u001b[39m\"\u001b[39;49m\u001b[39mF\u001b[39;49m\u001b[39m\"\u001b[39;49m,\n\u001b[0;32m    960\u001b[0m         dtype\u001b[39m=\u001b[39;49m[np\u001b[39m.\u001b[39;49mfloat64, np\u001b[39m.\u001b[39;49mfloat32],\n\u001b[0;32m    961\u001b[0m         copy\u001b[39m=\u001b[39;49mX_copied,\n\u001b[0;32m    962\u001b[0m         multi_output\u001b[39m=\u001b[39;49m\u001b[39mTrue\u001b[39;49;00m,\n\u001b[0;32m    963\u001b[0m         y_numeric\u001b[39m=\u001b[39;49m\u001b[39mTrue\u001b[39;49;00m,\n\u001b[0;32m    964\u001b[0m     )\n\u001b[0;32m    965\u001b[0m     y \u001b[39m=\u001b[39m check_array(\n\u001b[0;32m    966\u001b[0m         y, order\u001b[39m=\u001b[39m\u001b[39m\"\u001b[39m\u001b[39mF\u001b[39m\u001b[39m\"\u001b[39m, copy\u001b[39m=\u001b[39m\u001b[39mFalse\u001b[39;00m, dtype\u001b[39m=\u001b[39mX\u001b[39m.\u001b[39mdtype\u001b[39m.\u001b[39mtype, ensure_2d\u001b[39m=\u001b[39m\u001b[39mFalse\u001b[39;00m\n\u001b[0;32m    967\u001b[0m     )\n\u001b[0;32m    969\u001b[0m n_samples, n_features \u001b[39m=\u001b[39m X\u001b[39m.\u001b[39mshape\n",
      "File \u001b[1;32mc:\\Users\\rapos\\miniconda3\\lib\\site-packages\\sklearn\\base.py:596\u001b[0m, in \u001b[0;36mBaseEstimator._validate_data\u001b[1;34m(self, X, y, reset, validate_separately, **check_params)\u001b[0m\n\u001b[0;32m    594\u001b[0m         y \u001b[39m=\u001b[39m check_array(y, input_name\u001b[39m=\u001b[39m\u001b[39m\"\u001b[39m\u001b[39my\u001b[39m\u001b[39m\"\u001b[39m, \u001b[39m*\u001b[39m\u001b[39m*\u001b[39mcheck_y_params)\n\u001b[0;32m    595\u001b[0m     \u001b[39melse\u001b[39;00m:\n\u001b[1;32m--> 596\u001b[0m         X, y \u001b[39m=\u001b[39m check_X_y(X, y, \u001b[39m*\u001b[39m\u001b[39m*\u001b[39mcheck_params)\n\u001b[0;32m    597\u001b[0m     out \u001b[39m=\u001b[39m X, y\n\u001b[0;32m    599\u001b[0m \u001b[39mif\u001b[39;00m \u001b[39mnot\u001b[39;00m no_val_X \u001b[39mand\u001b[39;00m check_params\u001b[39m.\u001b[39mget(\u001b[39m\"\u001b[39m\u001b[39mensure_2d\u001b[39m\u001b[39m\"\u001b[39m, \u001b[39mTrue\u001b[39;00m):\n",
      "File \u001b[1;32mc:\\Users\\rapos\\miniconda3\\lib\\site-packages\\sklearn\\utils\\validation.py:1090\u001b[0m, in \u001b[0;36mcheck_X_y\u001b[1;34m(X, y, accept_sparse, accept_large_sparse, dtype, order, copy, force_all_finite, ensure_2d, allow_nd, multi_output, ensure_min_samples, ensure_min_features, y_numeric, estimator)\u001b[0m\n\u001b[0;32m   1070\u001b[0m     \u001b[39mraise\u001b[39;00m \u001b[39mValueError\u001b[39;00m(\n\u001b[0;32m   1071\u001b[0m         \u001b[39mf\u001b[39m\u001b[39m\"\u001b[39m\u001b[39m{\u001b[39;00mestimator_name\u001b[39m}\u001b[39;00m\u001b[39m requires y to be passed, but the target y is None\u001b[39m\u001b[39m\"\u001b[39m\n\u001b[0;32m   1072\u001b[0m     )\n\u001b[0;32m   1074\u001b[0m X \u001b[39m=\u001b[39m check_array(\n\u001b[0;32m   1075\u001b[0m     X,\n\u001b[0;32m   1076\u001b[0m     accept_sparse\u001b[39m=\u001b[39maccept_sparse,\n\u001b[1;32m   (...)\u001b[0m\n\u001b[0;32m   1087\u001b[0m     input_name\u001b[39m=\u001b[39m\u001b[39m\"\u001b[39m\u001b[39mX\u001b[39m\u001b[39m\"\u001b[39m,\n\u001b[0;32m   1088\u001b[0m )\n\u001b[1;32m-> 1090\u001b[0m y \u001b[39m=\u001b[39m _check_y(y, multi_output\u001b[39m=\u001b[39;49mmulti_output, y_numeric\u001b[39m=\u001b[39;49my_numeric, estimator\u001b[39m=\u001b[39;49mestimator)\n\u001b[0;32m   1092\u001b[0m check_consistent_length(X, y)\n\u001b[0;32m   1094\u001b[0m \u001b[39mreturn\u001b[39;00m X, y\n",
      "File \u001b[1;32mc:\\Users\\rapos\\miniconda3\\lib\\site-packages\\sklearn\\utils\\validation.py:1115\u001b[0m, in \u001b[0;36m_check_y\u001b[1;34m(y, multi_output, y_numeric, estimator)\u001b[0m\n\u001b[0;32m   1113\u001b[0m     _ensure_no_complex_data(y)\n\u001b[0;32m   1114\u001b[0m \u001b[39mif\u001b[39;00m y_numeric \u001b[39mand\u001b[39;00m y\u001b[39m.\u001b[39mdtype\u001b[39m.\u001b[39mkind \u001b[39m==\u001b[39m \u001b[39m\"\u001b[39m\u001b[39mO\u001b[39m\u001b[39m\"\u001b[39m:\n\u001b[1;32m-> 1115\u001b[0m     y \u001b[39m=\u001b[39m y\u001b[39m.\u001b[39;49mastype(np\u001b[39m.\u001b[39;49mfloat64)\n\u001b[0;32m   1117\u001b[0m \u001b[39mreturn\u001b[39;00m y\n",
      "\u001b[1;31mValueError\u001b[0m: could not convert string to float: 'RB'"
     ]
    }
   ],
   "source": [
    "L = Lasso(alpha=2, max_iter=9999999).fit(X_train, y_train)\n",
    "\n",
    "print(\"The bias is: \",  L.intercept_)\n",
    "print(\"The other parameters are: \")\n",
    "for i, beta in enumerate(L.coef_):\n",
    "    print(\"\\t B%02d -> %9.3f\"% (i+1, beta))\n",
    "preds=L.predict(X_test)\n",
    "#printRegStatistics(y_test, preds)"
   ]
  }
 ],
 "metadata": {
  "kernelspec": {
   "display_name": "Python 3.9.12 ('base')",
   "language": "python",
   "name": "python3"
  },
  "language_info": {
   "codemirror_mode": {
    "name": "ipython",
    "version": 3
   },
   "file_extension": ".py",
   "mimetype": "text/x-python",
   "name": "python",
   "nbconvert_exporter": "python",
   "pygments_lexer": "ipython3",
   "version": "3.9.12"
  },
  "orig_nbformat": 4,
  "vscode": {
   "interpreter": {
    "hash": "055142e5cf66ed8ee87e97d9d29944a505c8696ace08c4c3475747b47f85af0d"
   }
  }
 },
 "nbformat": 4,
 "nbformat_minor": 2
}
