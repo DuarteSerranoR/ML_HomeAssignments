{
 "cells": [
  {
   "cell_type": "code",
   "execution_count": 36,
   "metadata": {},
   "outputs": [],
   "source": [
    "import pandas as pd\n",
    "from sklearn.preprocessing import MinMaxScaler, StandardScaler, normalize"
   ]
  },
  {
   "cell_type": "code",
   "execution_count": 43,
   "metadata": {},
   "outputs": [
    {
     "name": "stdout",
     "output_type": "stream",
     "text": [
      "       SpMax_L   J_Dz(e)  nHM       F01  F04  NssssC  nCb          C      nCp  \\\n",
      "0     3.919000  2.690900  0.0  0.000000  0.0     0.0  0.0  31.400000  2.00000   \n",
      "1     4.170000  2.114400  0.0  0.000000  0.0     0.0  0.0  30.800000  1.00000   \n",
      "2     3.932000  3.251200  0.0  0.000000  0.0     0.0  0.0  26.700000  2.00000   \n",
      "3     3.000000  2.709800  0.0  0.000000  0.0     0.0  0.0  20.000000  1.22579   \n",
      "4     4.236000  3.394400  0.0  0.000000  0.0     0.0  0.0  29.400000  2.00000   \n",
      "...        ...       ...  ...       ...  ...     ...  ...        ...      ...   \n",
      "4559  4.175650  3.454649  0.0  0.000000  0.0     0.0  0.0  27.300000  2.00000   \n",
      "4560  3.853731  2.747142  0.0  0.010373  0.0     0.0  0.0  33.300000  0.00000   \n",
      "4561  4.294771  3.471226  0.0  0.000000  0.0     0.0  0.0  28.422154  2.00000   \n",
      "4562  4.560376  3.896390  0.0  0.000000  0.0     0.0  0.0  35.100603  2.00000   \n",
      "4563  4.045097  2.847185  0.0  0.000000  0.0     0.0  0.0  23.386643  1.00000   \n",
      "\n",
      "       nO  ...      nCrt  C_026  F02_CN  nHDon   SpMax_B   Psi_i_A   nN  \\\n",
      "0     0.0  ...  0.000000    0.0     0.0    0.0  2.949000  1.591000  0.0   \n",
      "1     1.0  ...  0.000000    0.0     0.0    0.0  3.315000  1.967000  0.0   \n",
      "2     4.0  ...  0.000000    0.0     0.0    1.0  3.594392  2.417000  0.0   \n",
      "3     2.0  ...  0.000000    0.0     0.0    1.0  3.594392  5.000000  0.0   \n",
      "4     4.0  ...  0.000000    0.0     0.0    0.0  3.351000  2.405000  0.0   \n",
      "...   ...  ...       ...    ...     ...    ...       ...       ...  ...   \n",
      "4559  2.0  ...  0.000000    0.0     0.0    0.0  3.398382  3.241090  0.0   \n",
      "4560  0.0  ...  0.000000    0.0     0.0    1.0  3.429148  2.719309  0.0   \n",
      "4561  2.0  ...  0.031584    0.0     0.0    0.0  3.351666  2.729456  0.0   \n",
      "4562  3.0  ...  0.000000    0.0     0.0    0.0  3.594392  3.059198  0.0   \n",
      "4563  1.0  ...  0.031584    0.0     2.0    2.0  3.032224  2.613357  1.0   \n",
      "\n",
      "         SM6_B  nArCOOR        nX  \n",
      "0     7.253000      0.0  0.000000  \n",
      "1     7.257000      0.0  0.000000  \n",
      "2     7.601000      0.0  0.000000  \n",
      "3     6.690000      0.0  0.000000  \n",
      "4     8.003000      0.0  0.170273  \n",
      "...        ...      ...       ...  \n",
      "4559  7.406748      0.0  0.000000  \n",
      "4560  7.511511      0.0  0.000000  \n",
      "4561  7.699324      0.0  0.000000  \n",
      "4562  7.908802      0.0  0.000000  \n",
      "4563  6.863314      0.0  0.000000  \n",
      "\n",
      "[4564 rows x 41 columns]\n",
      "       SpMax_L   J_Dz(e)       nHM           F01       F04    NssssC  \\\n",
      "0    -1.320531 -0.666887 -0.233216 -8.654470e-02 -0.217059 -0.128692   \n",
      "1    -0.798293 -1.598449 -0.233216 -8.654470e-02 -0.217059 -0.128692   \n",
      "2    -1.293482  0.238498 -0.233216 -8.654470e-02 -0.217059 -0.128692   \n",
      "3    -3.232628 -0.636346 -0.233216 -8.654470e-02 -0.217059 -0.128692   \n",
      "4    -0.660971  0.469894 -0.233216 -8.654470e-02 -0.217059 -0.128692   \n",
      "...        ...       ...       ...           ...       ...       ...   \n",
      "4559 -0.786537  0.567249 -0.233216 -8.654470e-02 -0.217059 -0.128692   \n",
      "4560 -1.456332 -0.576006 -0.233216 -1.447336e-17 -0.217059 -0.128692   \n",
      "4561 -0.538691  0.594036 -0.233216 -8.654470e-02 -0.217059 -0.128692   \n",
      "4562  0.013934  1.281056 -0.233216 -8.654470e-02 -0.217059 -0.128692   \n",
      "4563 -1.058169 -0.414347 -0.233216 -8.654470e-02 -0.217059 -0.128692   \n",
      "\n",
      "           nCb             C       nCp        nO  ...          nCrt     C_026  \\\n",
      "0    -0.620189 -4.895957e-01  0.628818 -1.357445  ... -1.006176e-01 -0.368352   \n",
      "1    -0.620189 -5.689766e-01 -0.183388 -0.694838  ... -1.006176e-01 -0.368352   \n",
      "2    -0.620189 -1.111413e+00  0.628818  1.292985  ... -1.006176e-01 -0.368352   \n",
      "3    -0.620189 -1.997834e+00  0.000000 -0.032230  ... -1.006176e-01 -0.368352   \n",
      "4    -0.620189 -7.541989e-01  0.628818  1.292985  ... -1.006176e-01 -0.368352   \n",
      "...        ...           ...       ...       ...  ...           ...       ...   \n",
      "4559 -0.620189 -1.032032e+00  0.628818 -0.032230  ... -1.006176e-01 -0.368352   \n",
      "4560 -0.620189 -2.382226e-01 -0.995593 -1.357445  ... -1.006176e-01 -0.368352   \n",
      "4561 -0.620189 -8.835695e-01  0.628818 -0.032230  ...  2.210545e-17 -0.368352   \n",
      "4562 -0.620189  1.786113e-14  0.628818  0.630377  ... -1.006176e-01 -0.368352   \n",
      "4563 -0.620189 -1.549776e+00 -0.183388 -0.694838  ...  2.210545e-17 -0.368352   \n",
      "\n",
      "        F02_CN     nHDon       SpMax_B   Psi_i_A        nN     SM6_B  \\\n",
      "0    -0.320530 -0.670025 -1.308420e+00 -1.787372 -0.391021 -0.981633   \n",
      "1    -0.320530 -0.670025 -5.664184e-01 -1.142903 -0.391021 -0.977175   \n",
      "2    -0.320530  0.191868  1.800629e-15 -0.371597 -0.391021 -0.593796   \n",
      "3    -0.320530  0.191868  1.800629e-15  4.055697 -0.391021 -1.609081   \n",
      "4    -0.320530 -0.670025 -4.934346e-01 -0.392165 -0.391021 -0.145778   \n",
      "...        ...       ...           ...       ...       ...       ...   \n",
      "4559 -0.320530 -0.670025 -3.973759e-01  1.040903 -0.391021 -0.810285   \n",
      "4560 -0.320530  0.191868 -3.350031e-01  0.146563 -0.391021 -0.693530   \n",
      "4561 -0.320530 -0.670025 -4.920837e-01  0.163956 -0.391021 -0.484217   \n",
      "4562 -0.320530 -0.670025  1.800629e-15  0.729138 -0.391021 -0.250759   \n",
      "4563  1.221799  1.053760 -1.139699e+00 -0.035038  1.072983 -1.415928   \n",
      "\n",
      "       nArCOOR        nX  \n",
      "0    -0.220867 -0.160286  \n",
      "1    -0.220867 -0.160286  \n",
      "2    -0.220867 -0.160286  \n",
      "3    -0.220867 -0.160286  \n",
      "4    -0.220867  0.000000  \n",
      "...        ...       ...  \n",
      "4559 -0.220867 -0.160286  \n",
      "4560 -0.220867 -0.160286  \n",
      "4561 -0.220867 -0.160286  \n",
      "4562 -0.220867 -0.160286  \n",
      "4563 -0.220867 -0.160286  \n",
      "\n",
      "[4564 rows x 41 columns]\n",
      "(4564, 42)\n",
      "(889, 42)\n"
     ]
    }
   ],
   "source": [
    "initial_dataset = pd.read_csv(\"biodegradable_a.csv\")\n",
    "total_len, _ = initial_dataset.shape\n",
    "\n",
    "# NOTE - NO INDEPENDENT VALIDATION SET !!!\n",
    "\n",
    "# Total with means\n",
    "categorical = ['int16', 'int32', 'int64', \"object\"]\n",
    "numerical = ['float16', 'float32', 'float64']\n",
    "\n",
    "total_categorical_dataset = initial_dataset.select_dtypes(include=categorical)\n",
    "total_categorical_dataset = total_categorical_dataset.fillna(total_categorical_dataset.mode())\n",
    "\n",
    "total_numerical_dataset = initial_dataset.select_dtypes(include=numerical)\n",
    "total_numerical_dataset = total_numerical_dataset.fillna(total_numerical_dataset.mean())\n",
    "\n",
    "# Scale numerical data\n",
    "print(total_numerical_dataset)\n",
    "\n",
    "scaler = StandardScaler()\n",
    "#scaler = MinMaxScaler(feature_range=(-1, 1))\n",
    "\n",
    "total_numerical_dataset = pd.DataFrame(scaler.fit_transform(total_numerical_dataset),\n",
    "             columns=total_numerical_dataset.columns, index=total_numerical_dataset.index)\n",
    "\n",
    "\n",
    "#total_numerical_dataset = pd.DataFrame(normalize(total_numerical_dataset, norm='l2', axis=1, copy=True, return_norm=False),\n",
    "#             columns=total_numerical_dataset.columns, index=total_numerical_dataset.index)\n",
    "\n",
    "print(total_numerical_dataset)\n",
    "#\n",
    "total_dataset = pd.concat([total_categorical_dataset, total_numerical_dataset], axis=1)\n",
    "\n",
    "total_len, _ = total_dataset.shape\n",
    "train_dataset_len = round(total_len * 0.75)\n",
    "\n",
    "dataset_train = total_dataset[0:train_dataset_len]\n",
    "dataset_test = total_dataset[train_dataset_len:total_len]\n",
    "\n",
    "print(total_dataset.shape)\n",
    "\n",
    "# Removal of None/NaN vals\n",
    "dropna_dataset = initial_dataset.dropna()\n",
    "\n",
    "dropna_len, _ = dropna_dataset.shape\n",
    "model_dropna_len = round(total_len * 0.75)\n",
    "\n",
    "dropna_train = dropna_dataset[0:model_dropna_len]\n",
    "dropna_test = dropna_dataset[model_dropna_len:dropna_len]\n",
    "\n",
    "print(dropna_dataset.shape)"
   ]
  },
  {
   "cell_type": "code",
   "execution_count": 13,
   "metadata": {},
   "outputs": [
    {
     "name": "stdout",
     "output_type": "stream",
     "text": [
      "Index(['Biodegradable', 'SpMax_L', 'J_Dz(e)', 'nHM', 'F01', 'F04', 'NssssC',\n",
      "       'nCb', 'C', 'nCp', 'nO', 'F03', 'SdssC', 'HyWi_B', 'LOC', 'SM6_L',\n",
      "       'F03_CO', 'Me', 'Mi', 'nN_N', 'nArNO2', 'nCRX3', 'SpPosA_B', 'nCIR',\n",
      "       'B01', 'B03', 'N_073', 'SpMax_A', 'Psi_i_1d', 'B04', 'SdO', 'TI2_L',\n",
      "       'nCrt', 'C_026', 'F02_CN', 'nHDon', 'SpMax_B', 'Psi_i_A', 'nN', 'SM6_B',\n",
      "       'nArCOOR', 'nX'],\n",
      "      dtype='object')\n",
      "Index(['SpMax_L', 'J_Dz(e)', 'nHM', 'F01', 'F04', 'NssssC', 'nCb', 'C', 'nCp',\n",
      "       'nO', 'F03', 'SdssC', 'HyWi_B', 'LOC', 'SM6_L', 'F03_CO', 'Me', 'Mi',\n",
      "       'nN_N', 'nArNO2', 'nCRX3', 'SpPosA_B', 'nCIR', 'B01', 'B03', 'N_073',\n",
      "       'SpMax_A', 'Psi_i_1d', 'B04', 'SdO', 'TI2_L', 'nCrt', 'C_026', 'F02_CN',\n",
      "       'nHDon', 'SpMax_B', 'Psi_i_A', 'nN', 'SM6_B', 'nArCOOR', 'nX',\n",
      "       'Biodegradable'],\n",
      "      dtype='object')\n"
     ]
    }
   ],
   "source": [
    "print(total_dataset.columns)\n",
    "print(dropna_test.columns)"
   ]
  },
  {
   "cell_type": "markdown",
   "metadata": {},
   "source": [
    "## Using Model with replaced values when NaN, and discarding the dropped NaN values dataset"
   ]
  },
  {
   "cell_type": "code",
   "execution_count": 20,
   "metadata": {},
   "outputs": [
    {
     "name": "stdout",
     "output_type": "stream",
     "text": [
      "       SpMax_L   J_Dz(e)  nHM  F01  F04  NssssC  nCb          C      nCp   nO  \\\n",
      "0     3.919000  2.690900  0.0  0.0  0.0     0.0  0.0  31.400000  2.00000  0.0   \n",
      "1     4.170000  2.114400  0.0  0.0  0.0     0.0  0.0  30.800000  1.00000  1.0   \n",
      "2     3.932000  3.251200  0.0  0.0  0.0     0.0  0.0  26.700000  2.00000  4.0   \n",
      "3     3.000000  2.709800  0.0  0.0  0.0     0.0  0.0  20.000000  1.22579  2.0   \n",
      "4     4.236000  3.394400  0.0  0.0  0.0     0.0  0.0  29.400000  2.00000  4.0   \n",
      "...        ...       ...  ...  ...  ...     ...  ...        ...      ...  ...   \n",
      "3418  4.791924  3.315191  0.0  0.0  0.0     0.0  2.0  40.962021  0.00000  2.0   \n",
      "3419  4.498044  2.859220  0.0  0.0  0.0     0.0  3.0  41.887807  0.00000  3.0   \n",
      "3420  4.728451  3.169713  0.0  0.0  0.0     0.0  2.0  44.400000  1.00000  2.0   \n",
      "3421  4.000934  3.077859  0.0  0.0  0.0     0.0  0.0  22.203926  1.00000  2.0   \n",
      "3422  4.230456  2.781260  0.0  0.0  0.0     0.0  0.0  35.100603  2.00000  1.0   \n",
      "\n",
      "      ...      nCrt  C_026  F02_CN  nHDon   SpMax_B   Psi_i_A   nN     SM6_B  \\\n",
      "0     ...  0.000000    0.0     0.0    0.0  2.949000  1.591000  0.0  7.253000   \n",
      "1     ...  0.000000    0.0     0.0    0.0  3.315000  1.967000  0.0  7.257000   \n",
      "2     ...  0.000000    0.0     0.0    1.0  3.594392  2.417000  0.0  7.601000   \n",
      "3     ...  0.000000    0.0     0.0    1.0  3.594392  5.000000  0.0  6.690000   \n",
      "4     ...  0.000000    0.0     0.0    0.0  3.351000  2.405000  0.0  8.003000   \n",
      "...   ...       ...    ...     ...    ...       ...       ...  ...       ...   \n",
      "3418  ...  0.031584    2.0     0.0    1.0  3.674595  2.476712  0.0  8.072312   \n",
      "3419  ...  0.000000    1.0     2.0    1.0  3.565049  2.618273  1.0  7.986478   \n",
      "3420  ...  0.000000    0.0     0.0    1.0  3.594392  2.674716  0.0  8.227926   \n",
      "3421  ...  0.000000    0.0     0.0    2.0  3.281205  3.666756  0.0  7.136003   \n",
      "3422  ...  0.000000    0.0     0.0    1.0  3.062080  2.088278  0.0  7.223879   \n",
      "\n",
      "      nArCOOR        nX  \n",
      "0         0.0  0.000000  \n",
      "1         0.0  0.000000  \n",
      "2         0.0  0.000000  \n",
      "3         0.0  0.000000  \n",
      "4         0.0  0.170273  \n",
      "...       ...       ...  \n",
      "3418      0.0  0.000000  \n",
      "3419      0.0  0.000000  \n",
      "3420      0.0  0.000000  \n",
      "3421      0.0  0.000000  \n",
      "3422      0.0  0.170273  \n",
      "\n",
      "[3423 rows x 41 columns]\n",
      "0       RB\n",
      "1       RB\n",
      "2       RB\n",
      "3       RB\n",
      "4       RB\n",
      "        ..\n",
      "3418    RB\n",
      "3419    RB\n",
      "3420    RB\n",
      "3421    RB\n",
      "3422    RB\n",
      "Name: Biodegradable, Length: 3423, dtype: object\n"
     ]
    }
   ],
   "source": [
    "X_train = dataset_train.drop([\"Biodegradable\"], axis=1)\n",
    "y_train = dataset_train.Biodegradable\n",
    "print(X_train)\n",
    "print(y_train)"
   ]
  },
  {
   "cell_type": "code",
   "execution_count": 21,
   "metadata": {},
   "outputs": [],
   "source": [
    "X_test = dataset_test.drop([\"Biodegradable\"], axis=1)\n",
    "y_test = dataset_test.Biodegradable"
   ]
  },
  {
   "cell_type": "code",
   "execution_count": 26,
   "metadata": {},
   "outputs": [],
   "source": [
    "\n",
    "\n",
    "# https://scikit-learn.org/stable/modules/preproce\n",
    "from sklearn.decomposition import KernelPCA\n",
    "\n",
    "kernel_pca = KernelPCA(\n",
    "    n_components=None, kernel=\"rbf\", gamma=10, fit_inverse_transform=True, alpha=0.1\n",
    ")\n",
    "\n",
    "#X_test_pca = pca.fit(X_train).transform(X_test)\n",
    "X_test_kernel_pca = kernel_pca.fit(X_train).transform(X_test)\n"
   ]
  },
  {
   "cell_type": "code",
   "execution_count": 27,
   "metadata": {},
   "outputs": [
    {
     "name": "stdout",
     "output_type": "stream",
     "text": [
      "[[-2.13462188e-03 -1.99119672e-03 -1.42236256e-03 ... -9.56041943e-12\n",
      "  -1.01031285e-04 -1.82178296e-04]\n",
      " [-2.13457106e-03 -1.99120720e-03 -1.42237038e-03 ... -9.56020622e-12\n",
      "  -1.01029052e-04 -1.82174272e-04]\n",
      " [-2.13462187e-03 -1.99119671e-03 -1.42236255e-03 ... -9.56041941e-12\n",
      "  -1.01031285e-04 -1.82178297e-04]\n",
      " ...\n",
      " [-2.49792877e-03 -2.52178016e-03 -1.82107396e-03 ... -4.88599647e-12\n",
      "  -5.17330518e-05 -9.33864693e-05]\n",
      " [-2.13462205e-03 -1.99119695e-03 -1.42236273e-03 ... -9.56041463e-12\n",
      "  -1.01031236e-04 -1.82178209e-04]\n",
      " [-2.13462187e-03 -1.99119671e-03 -1.42236255e-03 ... -9.56042027e-12\n",
      "  -1.01031285e-04 -1.82178297e-04]]\n"
     ]
    }
   ],
   "source": [
    "print(X_test_kernel_pca)"
   ]
  }
 ],
 "metadata": {
  "kernelspec": {
   "display_name": "Python 3.9.12 ('base')",
   "language": "python",
   "name": "python3"
  },
  "language_info": {
   "codemirror_mode": {
    "name": "ipython",
    "version": 3
   },
   "file_extension": ".py",
   "mimetype": "text/x-python",
   "name": "python",
   "nbconvert_exporter": "python",
   "pygments_lexer": "ipython3",
   "version": "3.9.12"
  },
  "orig_nbformat": 4,
  "vscode": {
   "interpreter": {
    "hash": "055142e5cf66ed8ee87e97d9d29944a505c8696ace08c4c3475747b47f85af0d"
   }
  }
 },
 "nbformat": 4,
 "nbformat_minor": 2
}
