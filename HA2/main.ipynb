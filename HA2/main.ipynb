{
 "cells": [
  {
   "cell_type": "code",
   "execution_count": 109,
   "metadata": {},
   "outputs": [],
   "source": [
    "import pandas as pd\n",
    "from sklearn.ensemble import RandomForestClassifier\n",
    "from sklearn.feature_selection import SelectFromModel\n",
    "from sklearn.preprocessing import MinMaxScaler, StandardScaler, normalize"
   ]
  },
  {
   "cell_type": "code",
   "execution_count": 106,
   "metadata": {},
   "outputs": [
    {
     "name": "stdout",
     "output_type": "stream",
     "text": [
      "41\n",
      "41\n",
      "     nHM F04 NssssC nCb nO F03 nN_N nArNO2 nCRX3 B01  ...       SpMax_A  \\\n",
      "0      0   0      0   0  0   0    0      0     0   0  ... -9.976466e-01   \n",
      "1      0   0      0   0  1   0    0      0     0   0  ...  9.352975e-15   \n",
      "2      0   0      0   0  4   0    0      0     0   0  ...  9.352975e-15   \n",
      "3      0   0      0   0  2   0    0      0     0   0  ... -3.725050e+00   \n",
      "4      0   0      0   0  4   0    0      0     0   0  ... -7.185880e-01   \n",
      "...   ..  ..    ...  .. ..  ..  ...    ...   ...  ..  ...           ...   \n",
      "4559   0   0      0   0  2   0    0      0     0   0  ...  9.352975e-15   \n",
      "4560   0   0      0   0  0   0    0      0     0   0  ... -1.946549e+00   \n",
      "4561   0   0      0   0  2   0    0      0     0   0  ...  9.352975e-15   \n",
      "4562   0   0      0   0  3   0    0      0     0   0  ... -2.646564e-01   \n",
      "4563   0   0      0   0  1   0    0      0     0   0  ... -1.409268e+00   \n",
      "\n",
      "      Psi_i_1d           SdO     TI2_L          nCrt       SpMax_B   Psi_i_A  \\\n",
      "0     0.116323 -9.836088e-01  0.573379 -1.006176e-01 -1.308420e+00 -1.787372   \n",
      "1    -1.254320  1.479153e-15 -0.602971 -1.006176e-01 -5.664184e-01 -1.142903   \n",
      "2    -0.004804 -9.836088e-01  0.733844 -1.006176e-01  1.800629e-15 -0.371597   \n",
      "3     6.886659 -1.133444e-01 -0.686397 -1.006176e-01  1.800629e-15  4.055697   \n",
      "4     0.033447  9.347484e-02  1.012065 -1.006176e-01 -4.934346e-01 -0.392165   \n",
      "...        ...           ...       ...           ...           ...       ...   \n",
      "4559  2.192375  1.453743e-02 -0.576829 -1.006176e-01 -3.973759e-01  1.040903   \n",
      "4560 -0.122743 -9.836088e-01 -0.575417 -1.006176e-01 -3.350031e-01  0.146563   \n",
      "4561 -0.335619  7.123403e-02  0.051879  2.210545e-17 -4.920837e-01  0.163956   \n",
      "4562 -0.245804  1.479153e-15 -0.062540 -1.006176e-01  1.800629e-15  0.729138   \n",
      "4563 -0.246285 -9.836088e-01 -0.394644  2.210545e-17 -1.139699e+00 -0.035038   \n",
      "\n",
      "         SM6_B        nX  Biodegradable  \n",
      "0    -0.981633 -0.160286             RB  \n",
      "1    -0.977175 -0.160286             RB  \n",
      "2    -0.593796 -0.160286             RB  \n",
      "3    -1.609081 -0.160286             RB  \n",
      "4    -0.145778  0.000000             RB  \n",
      "...        ...       ...            ...  \n",
      "4559 -0.810285 -0.160286             RB  \n",
      "4560 -0.693530 -0.160286             RB  \n",
      "4561 -0.484217 -0.160286             RB  \n",
      "4562 -0.250759 -0.160286             RB  \n",
      "4563 -1.415928 -0.160286             RB  \n",
      "\n",
      "[4564 rows x 42 columns]\n",
      "(4564, 42)\n",
      "(889, 42)\n"
     ]
    }
   ],
   "source": [
    "initial_dataset = pd.read_csv(\"biodegradable_a.csv\")\n",
    "total_len, _ = initial_dataset.shape\n",
    "\n",
    "# NOTE - NO INDEPENDENT VALIDATION SET !!!\n",
    "\n",
    "# Total with means\n",
    "#categorical = ['int16', 'int32', 'int64']\n",
    "#biodegradable = ['object']\n",
    "#numerical = ['float16', 'float32', 'float64']\n",
    "\n",
    "class_cols = [col for col in initial_dataset.drop(\"Biodegradable\", axis=1) if initial_dataset[col].apply(lambda x: x % 1 == 0).all()]\n",
    "num_cols = [col for col in initial_dataset.drop(\"Biodegradable\", axis=1) if initial_dataset[col].apply(lambda x: x % 1 != 0).any()]\n",
    "\n",
    "print(len(class_cols) + len(num_cols))\n",
    "print(len(initial_dataset.drop(\"Biodegradable\", axis=1).columns))\n",
    "\n",
    "total_categorical_dataset = initial_dataset[class_cols]\n",
    "#total_categorical_dataset = total_categorical_dataset.fillna(total_categorical_dataset.mode())\n",
    "total_categorical_dataset = total_categorical_dataset.fillna(-1)\n",
    "total_categorical_dataset = total_categorical_dataset.astype(int).astype(object)\n",
    "#print(total_categorical_dataset)\n",
    "\n",
    "total_numerical_dataset = initial_dataset[num_cols]\n",
    "total_numerical_dataset = total_numerical_dataset.fillna(total_numerical_dataset.mean())\n",
    "\n",
    "total_biodegradable = initial_dataset[\"Biodegradable\"]\n",
    "#total_biodegradable = initial_dataset.select_dtypes(include=biodegradable)\n",
    "total_biodegradable = total_biodegradable.fillna(\"\")\n",
    "\n",
    "# Scale numerical data\n",
    "# https://scikit-learn.org/stable/modules/preproce\n",
    "#print(total_numerical_dataset)\n",
    "\n",
    "scaler = StandardScaler()\n",
    "#scaler = MinMaxScaler(feature_range=(-1, 1))\n",
    "\n",
    "total_numerical_dataset = pd.DataFrame(scaler.fit_transform(total_numerical_dataset),\n",
    "             columns=total_numerical_dataset.columns, index=total_numerical_dataset.index)\n",
    "\n",
    "\n",
    "#total_numerical_dataset = pd.DataFrame(normalize(total_numerical_dataset, norm='l2', axis=1, copy=True, return_norm=False),\n",
    "#             columns=total_numerical_dataset.columns, index=total_numerical_dataset.index)\n",
    "\n",
    "#print(total_numerical_dataset)\n",
    "#\n",
    "total_dataset = pd.concat([total_categorical_dataset, total_numerical_dataset,total_biodegradable], axis=1)\n",
    "print(total_dataset)\n",
    "\n",
    "total_len, _ = total_dataset.shape\n",
    "train_dataset_len = round(total_len * 0.75)\n",
    "\n",
    "dataset_train = total_dataset[0:train_dataset_len]\n",
    "dataset_test = total_dataset[train_dataset_len:total_len]\n",
    "\n",
    "print(total_dataset.shape)\n",
    "\n",
    "# Removal of None/NaN vals\n",
    "dropna_dataset = initial_dataset.dropna()\n",
    "\n",
    "dropna_len, _ = dropna_dataset.shape\n",
    "model_dropna_len = round(total_len * 0.75)\n",
    "\n",
    "dropna_train = dropna_dataset[0:model_dropna_len]\n",
    "dropna_test = dropna_dataset[model_dropna_len:dropna_len]\n",
    "\n",
    "print(dropna_dataset.shape)"
   ]
  },
  {
   "cell_type": "code",
   "execution_count": 93,
   "metadata": {},
   "outputs": [
    {
     "name": "stdout",
     "output_type": "stream",
     "text": [
      "Index(['nHM', 'F04', 'NssssC', 'nCb', 'nO', 'F03', 'nN_N', 'nArNO2', 'nCRX3',\n",
      "       'B01', 'B03', 'N_073', 'B04', 'C_026', 'F02_CN', 'nHDon', 'nN',\n",
      "       'nArCOOR', 'SM6_L', 'Mi', 'SpPosA_B', 'Biodegradable'],\n",
      "      dtype='object')\n",
      "Index(['SpMax_L', 'J_Dz(e)', 'nHM', 'F01', 'F04', 'NssssC', 'nCb', 'C', 'nCp',\n",
      "       'nO', 'F03', 'SdssC', 'HyWi_B', 'LOC', 'SM6_L', 'F03_CO', 'Me', 'Mi',\n",
      "       'nN_N', 'nArNO2', 'nCRX3', 'SpPosA_B', 'nCIR', 'B01', 'B03', 'N_073',\n",
      "       'SpMax_A', 'Psi_i_1d', 'B04', 'SdO', 'TI2_L', 'nCrt', 'C_026', 'F02_CN',\n",
      "       'nHDon', 'SpMax_B', 'Psi_i_A', 'nN', 'SM6_B', 'nArCOOR', 'nX',\n",
      "       'Biodegradable'],\n",
      "      dtype='object')\n"
     ]
    }
   ],
   "source": [
    "print(total_dataset.columns)\n",
    "print(dropna_test.columns)"
   ]
  },
  {
   "cell_type": "markdown",
   "metadata": {},
   "source": [
    "## Using Model with replaced values when NaN, and discarding the dropped NaN values dataset"
   ]
  },
  {
   "cell_type": "code",
   "execution_count": 94,
   "metadata": {},
   "outputs": [
    {
     "name": "stdout",
     "output_type": "stream",
     "text": [
      "      nHM  F04  NssssC  nCb   nO  F03  nN_N  nArNO2  nCRX3  B01  ...  N_073  \\\n",
      "0     0.0  0.0     0.0  0.0  0.0  0.0   0.0     0.0    0.0  0.0  ...    0.0   \n",
      "1     0.0  0.0     0.0  0.0  1.0  0.0   0.0     0.0    0.0  0.0  ...    0.0   \n",
      "2     0.0  0.0     0.0  0.0  4.0  0.0   0.0     0.0    0.0  0.0  ...    0.0   \n",
      "3     0.0  0.0     0.0  0.0  2.0  0.0   0.0     0.0    0.0  0.0  ...    0.0   \n",
      "4     0.0  0.0     0.0  0.0  4.0  0.0   0.0     0.0    0.0  0.0  ...    0.0   \n",
      "...   ...  ...     ...  ...  ...  ...   ...     ...    ...  ...  ...    ...   \n",
      "3418  0.0  0.0     0.0  2.0  2.0  0.0   0.0     0.0    0.0  0.0  ...    0.0   \n",
      "3419  0.0  0.0     0.0  3.0  3.0  2.0   0.0     0.0    0.0  0.0  ...    0.0   \n",
      "3420  0.0  0.0     0.0  2.0  2.0  0.0   0.0     0.0    0.0  0.0  ...    0.0   \n",
      "3421  0.0  0.0     0.0  0.0  2.0  0.0   0.0     0.0    0.0  0.0  ...    0.0   \n",
      "3422  0.0  0.0     0.0  0.0  1.0  0.0   0.0     0.0    0.0  0.0  ...    0.0   \n",
      "\n",
      "      B04  C_026  F02_CN  nHDon   nN  nArCOOR     SM6_L        Mi  SpPosA_B  \n",
      "0     0.0    0.0     0.0    0.0  0.0      0.0 -0.710938  0.328503  0.000615  \n",
      "1     0.0    0.0     0.0    0.0  0.0      0.0 -1.039247  0.423761 -1.207722  \n",
      "2     0.0    0.0     0.0    1.0  0.0      0.0 -0.583850  0.804797 -1.357207  \n",
      "3     0.0    0.0     0.0    1.0  0.0      0.0 -3.544517  1.519239 -2.204289  \n",
      "4     0.0    0.0     0.0    0.0  0.0      0.0 -0.091975  0.566650 -0.796638  \n",
      "...   ...    ...     ...    ...  ...      ...       ...       ...       ...  \n",
      "3418  0.0    2.0     0.0    1.0  0.0      0.0  0.091671 -0.595750  0.194882  \n",
      "3419  0.0    1.0     2.0    1.0  1.0      0.0 -0.231644 -0.405399  0.719328  \n",
      "3420  0.0    0.0     0.0    1.0  0.0      0.0  0.211133 -0.909863  0.571714  \n",
      "3421  0.0    0.0     0.0    2.0  0.0      0.0 -1.513582  1.708718 -1.097402  \n",
      "3422  0.0    0.0     0.0    1.0  0.0      0.0 -0.583376  0.518021 -0.406939  \n",
      "\n",
      "[3423 rows x 21 columns]\n",
      "0       RB\n",
      "1       RB\n",
      "2       RB\n",
      "3       RB\n",
      "4       RB\n",
      "        ..\n",
      "3418    RB\n",
      "3419    RB\n",
      "3420    RB\n",
      "3421    RB\n",
      "3422    RB\n",
      "Name: Biodegradable, Length: 3423, dtype: object\n"
     ]
    }
   ],
   "source": [
    "X_train = dataset_train.drop([\"Biodegradable\"], axis=1)\n",
    "y_train = dataset_train.Biodegradable\n",
    "print(X_train)\n",
    "print(y_train)"
   ]
  },
  {
   "cell_type": "code",
   "execution_count": 95,
   "metadata": {},
   "outputs": [],
   "source": [
    "X_test = dataset_test.drop([\"Biodegradable\"], axis=1)\n",
    "y_test = dataset_test.Biodegradable"
   ]
  },
  {
   "cell_type": "markdown",
   "metadata": {},
   "source": [
    "## Testing Random Forests for Feature Selection"
   ]
  },
  {
   "cell_type": "code",
   "execution_count": 110,
   "metadata": {},
   "outputs": [
    {
     "data": {
      "text/html": [
       "<style>#sk-container-id-1 {color: black;background-color: white;}#sk-container-id-1 pre{padding: 0;}#sk-container-id-1 div.sk-toggleable {background-color: white;}#sk-container-id-1 label.sk-toggleable__label {cursor: pointer;display: block;width: 100%;margin-bottom: 0;padding: 0.3em;box-sizing: border-box;text-align: center;}#sk-container-id-1 label.sk-toggleable__label-arrow:before {content: \"▸\";float: left;margin-right: 0.25em;color: #696969;}#sk-container-id-1 label.sk-toggleable__label-arrow:hover:before {color: black;}#sk-container-id-1 div.sk-estimator:hover label.sk-toggleable__label-arrow:before {color: black;}#sk-container-id-1 div.sk-toggleable__content {max-height: 0;max-width: 0;overflow: hidden;text-align: left;background-color: #f0f8ff;}#sk-container-id-1 div.sk-toggleable__content pre {margin: 0.2em;color: black;border-radius: 0.25em;background-color: #f0f8ff;}#sk-container-id-1 input.sk-toggleable__control:checked~div.sk-toggleable__content {max-height: 200px;max-width: 100%;overflow: auto;}#sk-container-id-1 input.sk-toggleable__control:checked~label.sk-toggleable__label-arrow:before {content: \"▾\";}#sk-container-id-1 div.sk-estimator input.sk-toggleable__control:checked~label.sk-toggleable__label {background-color: #d4ebff;}#sk-container-id-1 div.sk-label input.sk-toggleable__control:checked~label.sk-toggleable__label {background-color: #d4ebff;}#sk-container-id-1 input.sk-hidden--visually {border: 0;clip: rect(1px 1px 1px 1px);clip: rect(1px, 1px, 1px, 1px);height: 1px;margin: -1px;overflow: hidden;padding: 0;position: absolute;width: 1px;}#sk-container-id-1 div.sk-estimator {font-family: monospace;background-color: #f0f8ff;border: 1px dotted black;border-radius: 0.25em;box-sizing: border-box;margin-bottom: 0.5em;}#sk-container-id-1 div.sk-estimator:hover {background-color: #d4ebff;}#sk-container-id-1 div.sk-parallel-item::after {content: \"\";width: 100%;border-bottom: 1px solid gray;flex-grow: 1;}#sk-container-id-1 div.sk-label:hover label.sk-toggleable__label {background-color: #d4ebff;}#sk-container-id-1 div.sk-serial::before {content: \"\";position: absolute;border-left: 1px solid gray;box-sizing: border-box;top: 0;bottom: 0;left: 50%;z-index: 0;}#sk-container-id-1 div.sk-serial {display: flex;flex-direction: column;align-items: center;background-color: white;padding-right: 0.2em;padding-left: 0.2em;position: relative;}#sk-container-id-1 div.sk-item {position: relative;z-index: 1;}#sk-container-id-1 div.sk-parallel {display: flex;align-items: stretch;justify-content: center;background-color: white;position: relative;}#sk-container-id-1 div.sk-item::before, #sk-container-id-1 div.sk-parallel-item::before {content: \"\";position: absolute;border-left: 1px solid gray;box-sizing: border-box;top: 0;bottom: 0;left: 50%;z-index: -1;}#sk-container-id-1 div.sk-parallel-item {display: flex;flex-direction: column;z-index: 1;position: relative;background-color: white;}#sk-container-id-1 div.sk-parallel-item:first-child::after {align-self: flex-end;width: 50%;}#sk-container-id-1 div.sk-parallel-item:last-child::after {align-self: flex-start;width: 50%;}#sk-container-id-1 div.sk-parallel-item:only-child::after {width: 0;}#sk-container-id-1 div.sk-dashed-wrapped {border: 1px dashed gray;margin: 0 0.4em 0.5em 0.4em;box-sizing: border-box;padding-bottom: 0.4em;background-color: white;}#sk-container-id-1 div.sk-label label {font-family: monospace;font-weight: bold;display: inline-block;line-height: 1.2em;}#sk-container-id-1 div.sk-label-container {text-align: center;}#sk-container-id-1 div.sk-container {/* jupyter's `normalize.less` sets `[hidden] { display: none; }` but bootstrap.min.css set `[hidden] { display: none !important; }` so we also need the `!important` here to be able to override the default hidden behavior on the sphinx rendered scikit-learn.org. See: https://github.com/scikit-learn/scikit-learn/issues/21755 */display: inline-block !important;position: relative;}#sk-container-id-1 div.sk-text-repr-fallback {display: none;}</style><div id=\"sk-container-id-1\" class=\"sk-top-container\"><div class=\"sk-text-repr-fallback\"><pre>SelectFromModel(estimator=RandomForestClassifier())</pre><b>In a Jupyter environment, please rerun this cell to show the HTML representation or trust the notebook. <br />On GitHub, the HTML representation is unable to render, please try loading this page with nbviewer.org.</b></div><div class=\"sk-container\" hidden><div class=\"sk-item sk-dashed-wrapped\"><div class=\"sk-label-container\"><div class=\"sk-label sk-toggleable\"><input class=\"sk-toggleable__control sk-hidden--visually\" id=\"sk-estimator-id-1\" type=\"checkbox\" ><label for=\"sk-estimator-id-1\" class=\"sk-toggleable__label sk-toggleable__label-arrow\">SelectFromModel</label><div class=\"sk-toggleable__content\"><pre>SelectFromModel(estimator=RandomForestClassifier())</pre></div></div></div><div class=\"sk-parallel\"><div class=\"sk-parallel-item\"><div class=\"sk-item\"><div class=\"sk-label-container\"><div class=\"sk-label sk-toggleable\"><input class=\"sk-toggleable__control sk-hidden--visually\" id=\"sk-estimator-id-2\" type=\"checkbox\" ><label for=\"sk-estimator-id-2\" class=\"sk-toggleable__label sk-toggleable__label-arrow\">estimator: RandomForestClassifier</label><div class=\"sk-toggleable__content\"><pre>RandomForestClassifier()</pre></div></div></div><div class=\"sk-serial\"><div class=\"sk-item\"><div class=\"sk-estimator sk-toggleable\"><input class=\"sk-toggleable__control sk-hidden--visually\" id=\"sk-estimator-id-3\" type=\"checkbox\" ><label for=\"sk-estimator-id-3\" class=\"sk-toggleable__label sk-toggleable__label-arrow\">RandomForestClassifier</label><div class=\"sk-toggleable__content\"><pre>RandomForestClassifier()</pre></div></div></div></div></div></div></div></div></div></div>"
      ],
      "text/plain": [
       "SelectFromModel(estimator=RandomForestClassifier())"
      ]
     },
     "execution_count": 110,
     "metadata": {},
     "output_type": "execute_result"
    }
   ],
   "source": [
    "sel = SelectFromModel(RandomForestClassifier(n_estimators = 100))\n",
    "sel.fit(X_train, y_train)"
   ]
  },
  {
   "cell_type": "code",
   "execution_count": 111,
   "metadata": {},
   "outputs": [
    {
     "data": {
      "text/plain": [
       "array([ True,  True,  True,  True, False,  True, False, False, False,\n",
       "       False, False, False, False, False,  True, False, False, False,\n",
       "        True,  True,  True])"
      ]
     },
     "execution_count": 111,
     "metadata": {},
     "output_type": "execute_result"
    }
   ],
   "source": [
    "sel.get_support()"
   ]
  },
  {
   "cell_type": "code",
   "execution_count": 112,
   "metadata": {},
   "outputs": [
    {
     "data": {
      "text/plain": [
       "9"
      ]
     },
     "execution_count": 112,
     "metadata": {},
     "output_type": "execute_result"
    }
   ],
   "source": [
    "selected_feat= X_train.columns[(sel.get_support())]\n",
    "len(selected_feat)"
   ]
  },
  {
   "cell_type": "code",
   "execution_count": 113,
   "metadata": {},
   "outputs": [
    {
     "name": "stdout",
     "output_type": "stream",
     "text": [
      "Index(['nHM', 'F04', 'NssssC', 'nCb', 'F03', 'F02_CN', 'SM6_L', 'Mi',\n",
      "       'SpPosA_B'],\n",
      "      dtype='object')\n"
     ]
    }
   ],
   "source": [
    "print(selected_feat)"
   ]
  },
  {
   "cell_type": "code",
   "execution_count": 117,
   "metadata": {},
   "outputs": [
    {
     "data": {
      "text/html": [
       "<div>\n",
       "<style scoped>\n",
       "    .dataframe tbody tr th:only-of-type {\n",
       "        vertical-align: middle;\n",
       "    }\n",
       "\n",
       "    .dataframe tbody tr th {\n",
       "        vertical-align: top;\n",
       "    }\n",
       "\n",
       "    .dataframe thead th {\n",
       "        text-align: right;\n",
       "    }\n",
       "</style>\n",
       "<table border=\"1\" class=\"dataframe\">\n",
       "  <thead>\n",
       "    <tr style=\"text-align: right;\">\n",
       "      <th></th>\n",
       "      <th>nHM</th>\n",
       "      <th>F04</th>\n",
       "      <th>NssssC</th>\n",
       "      <th>nCb</th>\n",
       "      <th>F03</th>\n",
       "      <th>F02_CN</th>\n",
       "      <th>SM6_L</th>\n",
       "      <th>Mi</th>\n",
       "      <th>SpPosA_B</th>\n",
       "    </tr>\n",
       "  </thead>\n",
       "  <tbody>\n",
       "    <tr>\n",
       "      <th>0</th>\n",
       "      <td>0.0</td>\n",
       "      <td>0.0</td>\n",
       "      <td>0.0</td>\n",
       "      <td>0.0</td>\n",
       "      <td>0.0</td>\n",
       "      <td>0.0</td>\n",
       "      <td>-0.710938</td>\n",
       "      <td>0.328503</td>\n",
       "      <td>0.000615</td>\n",
       "    </tr>\n",
       "    <tr>\n",
       "      <th>1</th>\n",
       "      <td>0.0</td>\n",
       "      <td>0.0</td>\n",
       "      <td>0.0</td>\n",
       "      <td>0.0</td>\n",
       "      <td>0.0</td>\n",
       "      <td>0.0</td>\n",
       "      <td>-1.039247</td>\n",
       "      <td>0.423761</td>\n",
       "      <td>-1.207722</td>\n",
       "    </tr>\n",
       "    <tr>\n",
       "      <th>2</th>\n",
       "      <td>0.0</td>\n",
       "      <td>0.0</td>\n",
       "      <td>0.0</td>\n",
       "      <td>0.0</td>\n",
       "      <td>0.0</td>\n",
       "      <td>0.0</td>\n",
       "      <td>-0.583850</td>\n",
       "      <td>0.804797</td>\n",
       "      <td>-1.357207</td>\n",
       "    </tr>\n",
       "    <tr>\n",
       "      <th>3</th>\n",
       "      <td>0.0</td>\n",
       "      <td>0.0</td>\n",
       "      <td>0.0</td>\n",
       "      <td>0.0</td>\n",
       "      <td>0.0</td>\n",
       "      <td>0.0</td>\n",
       "      <td>-3.544517</td>\n",
       "      <td>1.519239</td>\n",
       "      <td>-2.204289</td>\n",
       "    </tr>\n",
       "    <tr>\n",
       "      <th>4</th>\n",
       "      <td>0.0</td>\n",
       "      <td>0.0</td>\n",
       "      <td>0.0</td>\n",
       "      <td>0.0</td>\n",
       "      <td>0.0</td>\n",
       "      <td>0.0</td>\n",
       "      <td>-0.091975</td>\n",
       "      <td>0.566650</td>\n",
       "      <td>-0.796638</td>\n",
       "    </tr>\n",
       "    <tr>\n",
       "      <th>...</th>\n",
       "      <td>...</td>\n",
       "      <td>...</td>\n",
       "      <td>...</td>\n",
       "      <td>...</td>\n",
       "      <td>...</td>\n",
       "      <td>...</td>\n",
       "      <td>...</td>\n",
       "      <td>...</td>\n",
       "      <td>...</td>\n",
       "    </tr>\n",
       "    <tr>\n",
       "      <th>3418</th>\n",
       "      <td>0.0</td>\n",
       "      <td>0.0</td>\n",
       "      <td>0.0</td>\n",
       "      <td>2.0</td>\n",
       "      <td>0.0</td>\n",
       "      <td>0.0</td>\n",
       "      <td>0.091671</td>\n",
       "      <td>-0.595750</td>\n",
       "      <td>0.194882</td>\n",
       "    </tr>\n",
       "    <tr>\n",
       "      <th>3419</th>\n",
       "      <td>0.0</td>\n",
       "      <td>0.0</td>\n",
       "      <td>0.0</td>\n",
       "      <td>3.0</td>\n",
       "      <td>2.0</td>\n",
       "      <td>2.0</td>\n",
       "      <td>-0.231644</td>\n",
       "      <td>-0.405399</td>\n",
       "      <td>0.719328</td>\n",
       "    </tr>\n",
       "    <tr>\n",
       "      <th>3420</th>\n",
       "      <td>0.0</td>\n",
       "      <td>0.0</td>\n",
       "      <td>0.0</td>\n",
       "      <td>2.0</td>\n",
       "      <td>0.0</td>\n",
       "      <td>0.0</td>\n",
       "      <td>0.211133</td>\n",
       "      <td>-0.909863</td>\n",
       "      <td>0.571714</td>\n",
       "    </tr>\n",
       "    <tr>\n",
       "      <th>3421</th>\n",
       "      <td>0.0</td>\n",
       "      <td>0.0</td>\n",
       "      <td>0.0</td>\n",
       "      <td>0.0</td>\n",
       "      <td>0.0</td>\n",
       "      <td>0.0</td>\n",
       "      <td>-1.513582</td>\n",
       "      <td>1.708718</td>\n",
       "      <td>-1.097402</td>\n",
       "    </tr>\n",
       "    <tr>\n",
       "      <th>3422</th>\n",
       "      <td>0.0</td>\n",
       "      <td>0.0</td>\n",
       "      <td>0.0</td>\n",
       "      <td>0.0</td>\n",
       "      <td>0.0</td>\n",
       "      <td>0.0</td>\n",
       "      <td>-0.583376</td>\n",
       "      <td>0.518021</td>\n",
       "      <td>-0.406939</td>\n",
       "    </tr>\n",
       "  </tbody>\n",
       "</table>\n",
       "<p>3423 rows × 9 columns</p>\n",
       "</div>"
      ],
      "text/plain": [
       "      nHM  F04  NssssC  nCb  F03  F02_CN     SM6_L        Mi  SpPosA_B\n",
       "0     0.0  0.0     0.0  0.0  0.0     0.0 -0.710938  0.328503  0.000615\n",
       "1     0.0  0.0     0.0  0.0  0.0     0.0 -1.039247  0.423761 -1.207722\n",
       "2     0.0  0.0     0.0  0.0  0.0     0.0 -0.583850  0.804797 -1.357207\n",
       "3     0.0  0.0     0.0  0.0  0.0     0.0 -3.544517  1.519239 -2.204289\n",
       "4     0.0  0.0     0.0  0.0  0.0     0.0 -0.091975  0.566650 -0.796638\n",
       "...   ...  ...     ...  ...  ...     ...       ...       ...       ...\n",
       "3418  0.0  0.0     0.0  2.0  0.0     0.0  0.091671 -0.595750  0.194882\n",
       "3419  0.0  0.0     0.0  3.0  2.0     2.0 -0.231644 -0.405399  0.719328\n",
       "3420  0.0  0.0     0.0  2.0  0.0     0.0  0.211133 -0.909863  0.571714\n",
       "3421  0.0  0.0     0.0  0.0  0.0     0.0 -1.513582  1.708718 -1.097402\n",
       "3422  0.0  0.0     0.0  0.0  0.0     0.0 -0.583376  0.518021 -0.406939\n",
       "\n",
       "[3423 rows x 9 columns]"
      ]
     },
     "execution_count": 117,
     "metadata": {},
     "output_type": "execute_result"
    }
   ],
   "source": [
    "X_train[X_train.columns[(sel.get_support())]]"
   ]
  }
 ],
 "metadata": {
  "kernelspec": {
   "display_name": "Python 3.9.12 ('base')",
   "language": "python",
   "name": "python3"
  },
  "language_info": {
   "codemirror_mode": {
    "name": "ipython",
    "version": 3
   },
   "file_extension": ".py",
   "mimetype": "text/x-python",
   "name": "python",
   "nbconvert_exporter": "python",
   "pygments_lexer": "ipython3",
   "version": "3.9.12"
  },
  "orig_nbformat": 4,
  "vscode": {
   "interpreter": {
    "hash": "055142e5cf66ed8ee87e97d9d29944a505c8696ace08c4c3475747b47f85af0d"
   }
  }
 },
 "nbformat": 4,
 "nbformat_minor": 2
}
