{
 "cells": [
  {
   "cell_type": "code",
   "execution_count": null,
   "metadata": {},
   "outputs": [],
   "source": [
    "import pandas as pd"
   ]
  },
  {
   "cell_type": "code",
   "execution_count": 23,
   "metadata": {},
   "outputs": [
    {
     "name": "stdout",
     "output_type": "stream",
     "text": [
      "(4564, 42)\n",
      "(889, 42)\n"
     ]
    },
    {
     "name": "stderr",
     "output_type": "stream",
     "text": [
      "C:\\Users\\rapos\\AppData\\Local\\Temp\\ipykernel_26972\\3084408616.py:4: FutureWarning: Dropping of nuisance columns in DataFrame reductions (with 'numeric_only=None') is deprecated; in a future version this will raise TypeError.  Select only valid columns before calling the reduction.\n",
      "  total_dataset = initial_dataset.fillna(initial_dataset.mean())\n"
     ]
    }
   ],
   "source": [
    "initial_dataset = pd.read_csv(\"biodegradable_a.csv\")\n",
    "\n",
    "# Total with means\n",
    "total_categorical_dataset = initial_dataset.drop() # TODO \n",
    "total_categorical_dataset = total_categorical_dataset.fillna(total_categorical_dataset.mode())\n",
    "\n",
    "total_numerical_dataset = initial_dataset.drop() # TODO \n",
    "total_numerical_dataset = total_numerical_dataset.fillna(total_numerical_dataset.mean())\n",
    "total_dataset = total_categorical_dataset + total_numerical_dataset\n",
    "\n",
    "total_len, _ = total_dataset.shape\n",
    "model_dataset_len = round(total_len * 0.25)\n",
    "\n",
    "dataset = total_dataset[0:model_dataset_len]\n",
    "dataset_ivs = total_dataset[model_dataset_len:total_len]\n",
    "\n",
    "print(total_dataset.shape)\n",
    "\n",
    "# Removal of None/NaN vals\n",
    "dataset_dropna = initial_dataset.dropna()\n",
    "\n",
    "dropna_len, _ = dataset_dropna.shape\n",
    "model_dropna_len = round(total_len * 0.25)\n",
    "\n",
    "dropna = dataset_dropna[0:model_dropna_len]\n",
    "dropna_ivs = dataset_dropna[model_dropna_len:dropna_len]\n",
    "\n",
    "print(dataset_dropna.shape)"
   ]
  },
  {
   "cell_type": "code",
   "execution_count": 15,
   "metadata": {},
   "outputs": [
    {
     "name": "stdout",
     "output_type": "stream",
     "text": [
      "       SpMax_L   J_Dz(e)          C     SdssC    HyWi_B       LOC     SM6_L  \\\n",
      "0     3.919000  2.690900  31.400000  0.000000  3.106000  2.550000  9.002000   \n",
      "1     4.170000  2.114400  30.800000  0.000000  2.461000  1.393000  8.723000   \n",
      "2     3.932000  3.251200  26.700000  0.000000  3.279000  2.585000  9.110000   \n",
      "3     3.000000  2.709800  20.000000  0.000000       NaN  0.918000  6.594000   \n",
      "4     4.236000  3.394400  29.400000 -0.271000  3.449000  2.753000  9.528000   \n",
      "...        ...       ...        ...       ...       ...       ...       ...   \n",
      "4559  4.175650  3.454649  27.300000 -0.308308  2.568631  1.033666  8.617289   \n",
      "4560  3.853731  2.747142  33.300000  0.000000  2.554222  0.983132  8.099587   \n",
      "4561  4.294771  3.471226  28.422154 -0.249113  3.026879  1.913110  9.225643   \n",
      "4562  4.560376  3.896390        NaN -0.228584  3.115647  1.804976  9.521317   \n",
      "4563  4.045097  2.847185  23.386643  0.000000  2.543924  1.476854  8.499379   \n",
      "\n",
      "            Me        Mi  SpPosA_B   SpMax_A  Psi_i_1d        SdO     TI2_L  \\\n",
      "0     0.960000  1.142000  1.201000  1.932000  0.011000   0.000000  4.489000   \n",
      "1     0.989000  1.144000  1.104000       NaN -0.204000        NaN  1.542000   \n",
      "2     1.009000  1.152000  1.092000       NaN -0.008000   0.000000  4.891000   \n",
      "3     1.108000  1.167000  1.024000  1.414000  1.073000   8.361000  1.333000   \n",
      "4     1.004000  1.147000  1.137000  1.985000 -0.002000  10.348000  5.588000   \n",
      "...        ...       ...       ...       ...       ...        ...       ...   \n",
      "4559  1.031724  1.150358  1.119962       NaN  0.336651   9.589615  1.607491   \n",
      "4560  0.986530  1.139562  1.279367  1.751780 -0.026500   0.000000  1.611027   \n",
      "4561  1.015334  1.148667  1.126555       NaN -0.059892  10.134323  3.182535   \n",
      "4562  1.018762  1.142303  1.150385  2.071213 -0.045804        NaN  2.895892   \n",
      "4563       NaN  1.162866  1.109430  1.853823 -0.045879   0.000000  2.063903   \n",
      "\n",
      "       SpMax_B   Psi_i_A     SM6_B  \n",
      "0     2.949000  1.591000  7.253000  \n",
      "1     3.315000  1.967000  7.257000  \n",
      "2          NaN  2.417000  7.601000  \n",
      "3          NaN  5.000000  6.690000  \n",
      "4     3.351000  2.405000  8.003000  \n",
      "...        ...       ...       ...  \n",
      "4559  3.398382  3.241090  7.406748  \n",
      "4560  3.429148  2.719309  7.511511  \n",
      "4561  3.351666  2.729456  7.699324  \n",
      "4562       NaN  3.059198  7.908802  \n",
      "4563  3.032224  2.613357  6.863314  \n",
      "\n",
      "[4564 rows x 17 columns]\n"
     ]
    },
    {
     "data": {
      "text/plain": [
       "(4564, 17)"
      ]
     },
     "execution_count": 15,
     "metadata": {},
     "output_type": "execute_result"
    }
   ],
   "source": [
    "\n",
    "\n",
    "# https://scikit-learn.org/stable/modules/preprocessing.html\n",
    "\n",
    "Y_bc = dataset[\"Biodegradable\"]\n",
    "X_bc = dataset.drop([\"Biodegradable\", \"nHM\", \"F01\", \"F04\", \"NssssC\",\n",
    "\"nCb\", \"nCp\", \"nO\", \"F03\", \"F03_CO\", \"nN_N\", \"nArNO2\", \"nCRX3\",\n",
    "\"nCIR\", \"B01\", \"B03\", \"N_073\", \"B04\", \"nCrt\", \"C_026\",\n",
    "\"F02_CN\", \"nHDon\", \"nN\", \"nArCOOR\", \"nX\"], axis=1)\n",
    "\n",
    "\n",
    "#X_train = \n",
    "print(X_bc)\n",
    "\n",
    "from sklearn.preprocessing import StandardScaler\n",
    "scaler = StandardScaler()\n",
    "#scaler.fit(X_train)\n",
    "#X_train = scaler.transform(X_train)\n",
    "#X_test = scaler.transform(X_test)\n",
    "\n",
    "X_bc.shape"
   ]
  },
  {
   "cell_type": "code",
   "execution_count": null,
   "metadata": {},
   "outputs": [],
   "source": []
  }
 ],
 "metadata": {
  "kernelspec": {
   "display_name": "Python 3.9.12 ('base')",
   "language": "python",
   "name": "python3"
  },
  "language_info": {
   "codemirror_mode": {
    "name": "ipython",
    "version": 3
   },
   "file_extension": ".py",
   "mimetype": "text/x-python",
   "name": "python",
   "nbconvert_exporter": "python",
   "pygments_lexer": "ipython3",
   "version": "3.9.12"
  },
  "orig_nbformat": 4,
  "vscode": {
   "interpreter": {
    "hash": "055142e5cf66ed8ee87e97d9d29944a505c8696ace08c4c3475747b47f85af0d"
   }
  }
 },
 "nbformat": 4,
 "nbformat_minor": 2
}
