{
 "cells": [
  {
   "cell_type": "code",
   "execution_count": 91,
   "metadata": {},
   "outputs": [],
   "source": [
    "import pandas as pd\n",
    "from sklearn.linear_model import Ridge, Lasso\n",
    "from sklearn.preprocessing import MinMaxScaler, StandardScaler, normalize"
   ]
  },
  {
   "cell_type": "code",
   "execution_count": 101,
   "metadata": {},
   "outputs": [
    {
     "name": "stdout",
     "output_type": "stream",
     "text": [
      "21\n",
      "41\n",
      "         SM6_L        Mi  SpPosA_B\n",
      "0     9.002000  1.142000  1.201000\n",
      "1     8.723000  1.144000  1.104000\n",
      "2     9.110000  1.152000  1.092000\n",
      "3     6.594000  1.167000  1.024000\n",
      "4     9.528000  1.147000  1.137000\n",
      "...        ...       ...       ...\n",
      "4559  8.617289  1.150358  1.119962\n",
      "4560  8.099587  1.139562  1.279367\n",
      "4561  9.225643  1.148667  1.126555\n",
      "4562  9.521317  1.142303  1.150385\n",
      "4563  8.499379  1.162866  1.109430\n",
      "\n",
      "[4564 rows x 3 columns]\n",
      "         SM6_L        Mi  SpPosA_B\n",
      "0    -0.710938  0.328503  0.000615\n",
      "1    -1.039247  0.423761 -1.207722\n",
      "2    -0.583850  0.804797 -1.357207\n",
      "3    -3.544517  1.519239 -2.204289\n",
      "4    -0.091975  0.566650 -0.796638\n",
      "...        ...       ...       ...\n",
      "4559 -1.163640  0.726586 -1.008886\n",
      "4560 -1.772839  0.212358  0.976838\n",
      "4561 -0.447769  0.646039 -0.926756\n",
      "4562 -0.099839  0.342948 -0.629899\n",
      "4563 -1.302390  1.322359 -1.140085\n",
      "\n",
      "[4564 rows x 3 columns]\n",
      "(4564, 22)\n",
      "(889, 42)\n"
     ]
    }
   ],
   "source": [
    "initial_dataset = pd.read_csv(\"biodegradable_a.csv\")\n",
    "total_len, _ = initial_dataset.shape\n",
    "\n",
    "# NOTE - NO INDEPENDENT VALIDATION SET !!!\n",
    "\n",
    "# Total with means\n",
    "#categorical = ['int16', 'int32', 'int64']\n",
    "#biodegradable = ['object']\n",
    "#numerical = ['float16', 'float32', 'float64']\n",
    "\n",
    "class_cols = [col for col in initial_dataset.drop(\"Biodegradable\", axis=1) if initial_dataset[col].apply(lambda x: x % 1 == 0).all()]\n",
    "num_cols = [col for col in initial_dataset.drop(\"Biodegradable\", axis=1) if initial_dataset[col].apply(lambda x: x % 1 != 0).all()]\n",
    "\n",
    "print(len(class_cols) + len(num_cols))\n",
    "print(len(initial_dataset.drop(\"Biodegradable\", axis=1).columns))\n",
    "\n",
    "total_categorical_dataset = initial_dataset[class_cols]\n",
    "#total_categorical_dataset = total_categorical_dataset.fillna(total_categorical_dataset.mode())\n",
    "total_categorical_dataset = total_categorical_dataset.fillna(-1)\n",
    "\n",
    "total_numerical_dataset = initial_dataset[num_cols]\n",
    "total_numerical_dataset = total_numerical_dataset.fillna(total_numerical_dataset.mean())\n",
    "\n",
    "total_biodegradable = initial_dataset[\"Biodegradable\"]\n",
    "#total_biodegradable = initial_dataset.select_dtypes(include=biodegradable)\n",
    "total_biodegradable = total_biodegradable.fillna(\"\")\n",
    "\n",
    "# Scale numerical data\n",
    "# https://scikit-learn.org/stable/modules/preproce\n",
    "print(total_numerical_dataset)\n",
    "\n",
    "scaler = StandardScaler()\n",
    "#scaler = MinMaxScaler(feature_range=(-1, 1))\n",
    "\n",
    "total_numerical_dataset = pd.DataFrame(scaler.fit_transform(total_numerical_dataset),\n",
    "             columns=total_numerical_dataset.columns, index=total_numerical_dataset.index)\n",
    "\n",
    "\n",
    "#total_numerical_dataset = pd.DataFrame(normalize(total_numerical_dataset, norm='l2', axis=1, copy=True, return_norm=False),\n",
    "#             columns=total_numerical_dataset.columns, index=total_numerical_dataset.index)\n",
    "\n",
    "print(total_numerical_dataset)\n",
    "#\n",
    "total_dataset = pd.concat([total_categorical_dataset, total_numerical_dataset,total_biodegradable], axis=1)\n",
    "\n",
    "total_len, _ = total_dataset.shape\n",
    "train_dataset_len = round(total_len * 0.75)\n",
    "\n",
    "dataset_train = total_dataset[0:train_dataset_len]\n",
    "dataset_test = total_dataset[train_dataset_len:total_len]\n",
    "\n",
    "print(total_dataset.shape)\n",
    "\n",
    "# Removal of None/NaN vals\n",
    "dropna_dataset = initial_dataset.dropna()\n",
    "\n",
    "dropna_len, _ = dropna_dataset.shape\n",
    "model_dropna_len = round(total_len * 0.75)\n",
    "\n",
    "dropna_train = dropna_dataset[0:model_dropna_len]\n",
    "dropna_test = dropna_dataset[model_dropna_len:dropna_len]\n",
    "\n",
    "print(dropna_dataset.shape)"
   ]
  },
  {
   "cell_type": "code",
   "execution_count": 93,
   "metadata": {},
   "outputs": [
    {
     "name": "stdout",
     "output_type": "stream",
     "text": [
      "Index(['nHM', 'F04', 'NssssC', 'nCb', 'nO', 'F03', 'nN_N', 'nArNO2', 'nCRX3',\n",
      "       'B01', 'B03', 'N_073', 'B04', 'C_026', 'F02_CN', 'nHDon', 'nN',\n",
      "       'nArCOOR', 'SM6_L', 'Mi', 'SpPosA_B', 'Biodegradable'],\n",
      "      dtype='object')\n",
      "Index(['SpMax_L', 'J_Dz(e)', 'nHM', 'F01', 'F04', 'NssssC', 'nCb', 'C', 'nCp',\n",
      "       'nO', 'F03', 'SdssC', 'HyWi_B', 'LOC', 'SM6_L', 'F03_CO', 'Me', 'Mi',\n",
      "       'nN_N', 'nArNO2', 'nCRX3', 'SpPosA_B', 'nCIR', 'B01', 'B03', 'N_073',\n",
      "       'SpMax_A', 'Psi_i_1d', 'B04', 'SdO', 'TI2_L', 'nCrt', 'C_026', 'F02_CN',\n",
      "       'nHDon', 'SpMax_B', 'Psi_i_A', 'nN', 'SM6_B', 'nArCOOR', 'nX',\n",
      "       'Biodegradable'],\n",
      "      dtype='object')\n"
     ]
    }
   ],
   "source": [
    "print(total_dataset.columns)\n",
    "print(dropna_test.columns)"
   ]
  },
  {
   "cell_type": "markdown",
   "metadata": {},
   "source": [
    "## Using Model with replaced values when NaN, and discarding the dropped NaN values dataset"
   ]
  },
  {
   "cell_type": "code",
   "execution_count": 94,
   "metadata": {},
   "outputs": [
    {
     "name": "stdout",
     "output_type": "stream",
     "text": [
      "      nHM  F04  NssssC  nCb   nO  F03  nN_N  nArNO2  nCRX3  B01  ...  N_073  \\\n",
      "0     0.0  0.0     0.0  0.0  0.0  0.0   0.0     0.0    0.0  0.0  ...    0.0   \n",
      "1     0.0  0.0     0.0  0.0  1.0  0.0   0.0     0.0    0.0  0.0  ...    0.0   \n",
      "2     0.0  0.0     0.0  0.0  4.0  0.0   0.0     0.0    0.0  0.0  ...    0.0   \n",
      "3     0.0  0.0     0.0  0.0  2.0  0.0   0.0     0.0    0.0  0.0  ...    0.0   \n",
      "4     0.0  0.0     0.0  0.0  4.0  0.0   0.0     0.0    0.0  0.0  ...    0.0   \n",
      "...   ...  ...     ...  ...  ...  ...   ...     ...    ...  ...  ...    ...   \n",
      "3418  0.0  0.0     0.0  2.0  2.0  0.0   0.0     0.0    0.0  0.0  ...    0.0   \n",
      "3419  0.0  0.0     0.0  3.0  3.0  2.0   0.0     0.0    0.0  0.0  ...    0.0   \n",
      "3420  0.0  0.0     0.0  2.0  2.0  0.0   0.0     0.0    0.0  0.0  ...    0.0   \n",
      "3421  0.0  0.0     0.0  0.0  2.0  0.0   0.0     0.0    0.0  0.0  ...    0.0   \n",
      "3422  0.0  0.0     0.0  0.0  1.0  0.0   0.0     0.0    0.0  0.0  ...    0.0   \n",
      "\n",
      "      B04  C_026  F02_CN  nHDon   nN  nArCOOR     SM6_L        Mi  SpPosA_B  \n",
      "0     0.0    0.0     0.0    0.0  0.0      0.0 -0.710938  0.328503  0.000615  \n",
      "1     0.0    0.0     0.0    0.0  0.0      0.0 -1.039247  0.423761 -1.207722  \n",
      "2     0.0    0.0     0.0    1.0  0.0      0.0 -0.583850  0.804797 -1.357207  \n",
      "3     0.0    0.0     0.0    1.0  0.0      0.0 -3.544517  1.519239 -2.204289  \n",
      "4     0.0    0.0     0.0    0.0  0.0      0.0 -0.091975  0.566650 -0.796638  \n",
      "...   ...    ...     ...    ...  ...      ...       ...       ...       ...  \n",
      "3418  0.0    2.0     0.0    1.0  0.0      0.0  0.091671 -0.595750  0.194882  \n",
      "3419  0.0    1.0     2.0    1.0  1.0      0.0 -0.231644 -0.405399  0.719328  \n",
      "3420  0.0    0.0     0.0    1.0  0.0      0.0  0.211133 -0.909863  0.571714  \n",
      "3421  0.0    0.0     0.0    2.0  0.0      0.0 -1.513582  1.708718 -1.097402  \n",
      "3422  0.0    0.0     0.0    1.0  0.0      0.0 -0.583376  0.518021 -0.406939  \n",
      "\n",
      "[3423 rows x 21 columns]\n",
      "0       RB\n",
      "1       RB\n",
      "2       RB\n",
      "3       RB\n",
      "4       RB\n",
      "        ..\n",
      "3418    RB\n",
      "3419    RB\n",
      "3420    RB\n",
      "3421    RB\n",
      "3422    RB\n",
      "Name: Biodegradable, Length: 3423, dtype: object\n"
     ]
    }
   ],
   "source": [
    "X_train = dataset_train.drop([\"Biodegradable\"], axis=1)\n",
    "y_train = dataset_train.Biodegradable\n",
    "print(X_train)\n",
    "print(y_train)"
   ]
  },
  {
   "cell_type": "code",
   "execution_count": 95,
   "metadata": {},
   "outputs": [],
   "source": [
    "X_test = dataset_test.drop([\"Biodegradable\"], axis=1)\n",
    "y_test = dataset_test.Biodegradable"
   ]
  },
  {
   "cell_type": "markdown",
   "metadata": {},
   "source": [
    "## Testing Ridge with a Linear Model"
   ]
  },
  {
   "cell_type": "code",
   "execution_count": 96,
   "metadata": {},
   "outputs": [],
   "source": [
    "#ridge = Ridge(alpha=10, max_iter=9999999).fit(X_train, y_train)\n",
    "\n",
    "#print(\"The bias is: \",  ridge.intercept_)\n",
    "#print(\"The other parameters are: \")\n",
    "#for i, beta in enumerate(ridge.coef_):\n",
    "#    print(\"\\t B%02d -> %9.3f\"% (i+1, beta))"
   ]
  },
  {
   "cell_type": "code",
   "execution_count": null,
   "metadata": {},
   "outputs": [],
   "source": []
  },
  {
   "cell_type": "markdown",
   "metadata": {},
   "source": [
    "## Testing lasso with a Linear Model"
   ]
  },
  {
   "cell_type": "code",
   "execution_count": 97,
   "metadata": {},
   "outputs": [],
   "source": [
    "#L = Lasso(alpha=2, max_iter=9999999).fit(X_train, y_train)\n",
    "\n",
    "#print(\"The bias is: \",  L.intercept_)\n",
    "#print(\"The other parameters are: \")\n",
    "#for i, beta in enumerate(L.coef_):\n",
    "#    print(\"\\t B%02d -> %9.3f\"% (i+1, beta))\n",
    "#preds=L.predict(X_test)\n",
    "#printRegStatistics(y_test, preds)"
   ]
  }
 ],
 "metadata": {
  "kernelspec": {
   "display_name": "Python 3.9.12 ('base')",
   "language": "python",
   "name": "python3"
  },
  "language_info": {
   "codemirror_mode": {
    "name": "ipython",
    "version": 3
   },
   "file_extension": ".py",
   "mimetype": "text/x-python",
   "name": "python",
   "nbconvert_exporter": "python",
   "pygments_lexer": "ipython3",
   "version": "3.9.12"
  },
  "orig_nbformat": 4,
  "vscode": {
   "interpreter": {
    "hash": "055142e5cf66ed8ee87e97d9d29944a505c8696ace08c4c3475747b47f85af0d"
   }
  }
 },
 "nbformat": 4,
 "nbformat_minor": 2
}
