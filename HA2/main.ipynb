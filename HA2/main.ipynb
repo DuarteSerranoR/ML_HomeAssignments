{
 "cells": [
  {
   "cell_type": "code",
   "execution_count": 1,
   "metadata": {},
   "outputs": [],
   "source": [
    "import pandas as pd"
   ]
  },
  {
   "cell_type": "code",
   "execution_count": 11,
   "metadata": {},
   "outputs": [
    {
     "name": "stdout",
     "output_type": "stream",
     "text": [
      "(4564, 42)\n",
      "(889, 42)\n"
     ]
    }
   ],
   "source": [
    "initial_dataset = pd.read_csv(\"biodegradable_a.csv\")\n",
    "total_len, _ = initial_dataset.shape\n",
    "\n",
    "# NOTE - NO INDEPENDENT VALIDATION SET !!!\n",
    "\n",
    "# Total with means\n",
    "categorical = ['int16', 'int32', 'int64', \"object\"]\n",
    "numerical = ['float16', 'float32', 'float64']\n",
    "\n",
    "total_categorical_dataset = initial_dataset.select_dtypes(include=categorical)\n",
    "total_categorical_dataset = total_categorical_dataset.fillna(total_categorical_dataset.mode())\n",
    "\n",
    "total_numerical_dataset = initial_dataset.select_dtypes(include=numerical)\n",
    "total_numerical_dataset = total_numerical_dataset.fillna(total_numerical_dataset.mean())\n",
    "\n",
    "# Scale numerical data\n",
    "# Using kernel pca, right now, so this is empty\n",
    "#\n",
    "total_dataset = pd.concat([total_categorical_dataset, total_numerical_dataset], axis=1)\n",
    "\n",
    "total_len, _ = total_dataset.shape\n",
    "train_dataset_len = round(total_len * 0.75)\n",
    "\n",
    "dataset_train = total_dataset[0:train_dataset_len]\n",
    "dataset_test = total_dataset[train_dataset_len:total_len]\n",
    "\n",
    "print(total_dataset.shape)\n",
    "\n",
    "# Removal of None/NaN vals\n",
    "dropna_dataset = initial_dataset.dropna()\n",
    "\n",
    "dropna_len, _ = dropna_dataset.shape\n",
    "model_dropna_len = round(total_len * 0.75)\n",
    "\n",
    "dropna_train = dropna_dataset[0:model_dropna_len]\n",
    "dropna_test = dropna_dataset[model_dropna_len:dropna_len]\n",
    "\n",
    "print(dropna_dataset.shape)"
   ]
  },
  {
   "cell_type": "code",
   "execution_count": 13,
   "metadata": {},
   "outputs": [
    {
     "name": "stdout",
     "output_type": "stream",
     "text": [
      "Index(['Biodegradable', 'SpMax_L', 'J_Dz(e)', 'nHM', 'F01', 'F04', 'NssssC',\n",
      "       'nCb', 'C', 'nCp', 'nO', 'F03', 'SdssC', 'HyWi_B', 'LOC', 'SM6_L',\n",
      "       'F03_CO', 'Me', 'Mi', 'nN_N', 'nArNO2', 'nCRX3', 'SpPosA_B', 'nCIR',\n",
      "       'B01', 'B03', 'N_073', 'SpMax_A', 'Psi_i_1d', 'B04', 'SdO', 'TI2_L',\n",
      "       'nCrt', 'C_026', 'F02_CN', 'nHDon', 'SpMax_B', 'Psi_i_A', 'nN', 'SM6_B',\n",
      "       'nArCOOR', 'nX'],\n",
      "      dtype='object')\n",
      "Index(['SpMax_L', 'J_Dz(e)', 'nHM', 'F01', 'F04', 'NssssC', 'nCb', 'C', 'nCp',\n",
      "       'nO', 'F03', 'SdssC', 'HyWi_B', 'LOC', 'SM6_L', 'F03_CO', 'Me', 'Mi',\n",
      "       'nN_N', 'nArNO2', 'nCRX3', 'SpPosA_B', 'nCIR', 'B01', 'B03', 'N_073',\n",
      "       'SpMax_A', 'Psi_i_1d', 'B04', 'SdO', 'TI2_L', 'nCrt', 'C_026', 'F02_CN',\n",
      "       'nHDon', 'SpMax_B', 'Psi_i_A', 'nN', 'SM6_B', 'nArCOOR', 'nX',\n",
      "       'Biodegradable'],\n",
      "      dtype='object')\n"
     ]
    }
   ],
   "source": [
    "print(total_dataset.columns)\n",
    "print(dropna_test.columns)"
   ]
  },
  {
   "cell_type": "markdown",
   "metadata": {},
   "source": [
    "## Using Model with replaced values when NaN, and discarding the dropped NaN values dataset"
   ]
  },
  {
   "cell_type": "code",
   "execution_count": 20,
   "metadata": {},
   "outputs": [
    {
     "name": "stdout",
     "output_type": "stream",
     "text": [
      "       SpMax_L   J_Dz(e)  nHM  F01  F04  NssssC  nCb          C      nCp   nO  \\\n",
      "0     3.919000  2.690900  0.0  0.0  0.0     0.0  0.0  31.400000  2.00000  0.0   \n",
      "1     4.170000  2.114400  0.0  0.0  0.0     0.0  0.0  30.800000  1.00000  1.0   \n",
      "2     3.932000  3.251200  0.0  0.0  0.0     0.0  0.0  26.700000  2.00000  4.0   \n",
      "3     3.000000  2.709800  0.0  0.0  0.0     0.0  0.0  20.000000  1.22579  2.0   \n",
      "4     4.236000  3.394400  0.0  0.0  0.0     0.0  0.0  29.400000  2.00000  4.0   \n",
      "...        ...       ...  ...  ...  ...     ...  ...        ...      ...  ...   \n",
      "3418  4.791924  3.315191  0.0  0.0  0.0     0.0  2.0  40.962021  0.00000  2.0   \n",
      "3419  4.498044  2.859220  0.0  0.0  0.0     0.0  3.0  41.887807  0.00000  3.0   \n",
      "3420  4.728451  3.169713  0.0  0.0  0.0     0.0  2.0  44.400000  1.00000  2.0   \n",
      "3421  4.000934  3.077859  0.0  0.0  0.0     0.0  0.0  22.203926  1.00000  2.0   \n",
      "3422  4.230456  2.781260  0.0  0.0  0.0     0.0  0.0  35.100603  2.00000  1.0   \n",
      "\n",
      "      ...      nCrt  C_026  F02_CN  nHDon   SpMax_B   Psi_i_A   nN     SM6_B  \\\n",
      "0     ...  0.000000    0.0     0.0    0.0  2.949000  1.591000  0.0  7.253000   \n",
      "1     ...  0.000000    0.0     0.0    0.0  3.315000  1.967000  0.0  7.257000   \n",
      "2     ...  0.000000    0.0     0.0    1.0  3.594392  2.417000  0.0  7.601000   \n",
      "3     ...  0.000000    0.0     0.0    1.0  3.594392  5.000000  0.0  6.690000   \n",
      "4     ...  0.000000    0.0     0.0    0.0  3.351000  2.405000  0.0  8.003000   \n",
      "...   ...       ...    ...     ...    ...       ...       ...  ...       ...   \n",
      "3418  ...  0.031584    2.0     0.0    1.0  3.674595  2.476712  0.0  8.072312   \n",
      "3419  ...  0.000000    1.0     2.0    1.0  3.565049  2.618273  1.0  7.986478   \n",
      "3420  ...  0.000000    0.0     0.0    1.0  3.594392  2.674716  0.0  8.227926   \n",
      "3421  ...  0.000000    0.0     0.0    2.0  3.281205  3.666756  0.0  7.136003   \n",
      "3422  ...  0.000000    0.0     0.0    1.0  3.062080  2.088278  0.0  7.223879   \n",
      "\n",
      "      nArCOOR        nX  \n",
      "0         0.0  0.000000  \n",
      "1         0.0  0.000000  \n",
      "2         0.0  0.000000  \n",
      "3         0.0  0.000000  \n",
      "4         0.0  0.170273  \n",
      "...       ...       ...  \n",
      "3418      0.0  0.000000  \n",
      "3419      0.0  0.000000  \n",
      "3420      0.0  0.000000  \n",
      "3421      0.0  0.000000  \n",
      "3422      0.0  0.170273  \n",
      "\n",
      "[3423 rows x 41 columns]\n",
      "0       RB\n",
      "1       RB\n",
      "2       RB\n",
      "3       RB\n",
      "4       RB\n",
      "        ..\n",
      "3418    RB\n",
      "3419    RB\n",
      "3420    RB\n",
      "3421    RB\n",
      "3422    RB\n",
      "Name: Biodegradable, Length: 3423, dtype: object\n"
     ]
    }
   ],
   "source": [
    "X_train = dataset_train.drop([\"Biodegradable\"], axis=1)\n",
    "y_train = dataset_train.Biodegradable\n",
    "print(X_train)\n",
    "print(y_train)"
   ]
  },
  {
   "cell_type": "code",
   "execution_count": 21,
   "metadata": {},
   "outputs": [],
   "source": [
    "X_test = dataset_test.drop([\"Biodegradable\"], axis=1)\n",
    "y_test = dataset_test.Biodegradable"
   ]
  },
  {
   "cell_type": "code",
   "execution_count": 26,
   "metadata": {},
   "outputs": [],
   "source": [
    "\n",
    "\n",
    "# https://scikit-learn.org/stable/modules/preproce\n",
    "from sklearn.decomposition import KernelPCA\n",
    "\n",
    "kernel_pca = KernelPCA(\n",
    "    n_components=None, kernel=\"rbf\", gamma=10, fit_inverse_transform=True, alpha=0.1\n",
    ")\n",
    "\n",
    "#X_test_pca = pca.fit(X_train).transform(X_test)\n",
    "X_test_kernel_pca = kernel_pca.fit(X_train).transform(X_test)\n"
   ]
  },
  {
   "cell_type": "code",
   "execution_count": 27,
   "metadata": {},
   "outputs": [
    {
     "name": "stdout",
     "output_type": "stream",
     "text": [
      "[[-2.13462188e-03 -1.99119672e-03 -1.42236256e-03 ... -9.56041943e-12\n",
      "  -1.01031285e-04 -1.82178296e-04]\n",
      " [-2.13457106e-03 -1.99120720e-03 -1.42237038e-03 ... -9.56020622e-12\n",
      "  -1.01029052e-04 -1.82174272e-04]\n",
      " [-2.13462187e-03 -1.99119671e-03 -1.42236255e-03 ... -9.56041941e-12\n",
      "  -1.01031285e-04 -1.82178297e-04]\n",
      " ...\n",
      " [-2.49792877e-03 -2.52178016e-03 -1.82107396e-03 ... -4.88599647e-12\n",
      "  -5.17330518e-05 -9.33864693e-05]\n",
      " [-2.13462205e-03 -1.99119695e-03 -1.42236273e-03 ... -9.56041463e-12\n",
      "  -1.01031236e-04 -1.82178209e-04]\n",
      " [-2.13462187e-03 -1.99119671e-03 -1.42236255e-03 ... -9.56042027e-12\n",
      "  -1.01031285e-04 -1.82178297e-04]]\n"
     ]
    }
   ],
   "source": [
    "print(X_test_kernel_pca)"
   ]
  }
 ],
 "metadata": {
  "kernelspec": {
   "display_name": "Python 3.9.12 ('base')",
   "language": "python",
   "name": "python3"
  },
  "language_info": {
   "codemirror_mode": {
    "name": "ipython",
    "version": 3
   },
   "file_extension": ".py",
   "mimetype": "text/x-python",
   "name": "python",
   "nbconvert_exporter": "python",
   "pygments_lexer": "ipython3",
   "version": "3.9.12"
  },
  "orig_nbformat": 4,
  "vscode": {
   "interpreter": {
    "hash": "055142e5cf66ed8ee87e97d9d29944a505c8696ace08c4c3475747b47f85af0d"
   }
  }
 },
 "nbformat": 4,
 "nbformat_minor": 2
}
