{
 "cells": [
  {
   "cell_type": "code",
   "execution_count": 15,
   "metadata": {},
   "outputs": [],
   "source": [
    "import pandas as pd\n",
    "from sklearn.ensemble import RandomForestClassifier\n",
    "from sklearn.feature_selection import SelectFromModel\n",
    "from sklearn.preprocessing import MinMaxScaler, StandardScaler, normalize\n",
    "from sklearn.metrics import precision_score, recall_score, f1_score, matthews_corrcoef, confusion_matrix, accuracy_score\n",
    "def printClassResults(truth, preds):\n",
    "    print(\"The Accuracy is: %7.4f\" % accuracy_score(truth, preds))\n",
    "    print(\"The Precision is: %7.4f\" % precision_score(truth, preds, pos_label='RB'))\n",
    "    print(\"The Recall is: %7.4f\" % recall_score(truth, preds, pos_label='RB'))\n",
    "    print(\"The F1 score is: %7.4f\" % f1_score(truth, preds, pos_label='RB'))\n",
    "    print(\"The Matthews correlation coefficient is: %7.4f\" % matthews_corrcoef(truth, preds))\n",
    "    print()\n",
    "    print(\"This is the Confusion Matrix\")\n",
    "    print(pd.DataFrame(confusion_matrix(truth, preds)))"
   ]
  },
  {
   "cell_type": "code",
   "execution_count": 2,
   "metadata": {},
   "outputs": [
    {
     "name": "stdout",
     "output_type": "stream",
     "text": [
      "41\n",
      "41\n",
      "     nHM F04 NssssC nCb nO F03 nN_N nArNO2 nCRX3 B01  ...       SpMax_A  \\\n",
      "0      0   0      0   0  2   0    0      0     0   0  ... -7.745865e-03   \n",
      "1      0   0      0   2  4   0    0      0     0   0  ...  1.048795e+00   \n",
      "2      0   0      1   0  0   0    0      0     0   0  ... -6.396091e-01   \n",
      "3      0   0      0   0  4   0    0      0     0   0  ... -3.667911e-01   \n",
      "4      0   1      0   1  0   2    0      0     0   0  ...  6.029915e-01   \n",
      "...   ..  ..    ...  .. ..  ..  ...    ...   ...  ..  ...           ...   \n",
      "4559   0   0      0   0  2   0    0      0     0   0  ...  3.867406e-01   \n",
      "4560   0   4      0   4  5   4    0      2     0   0  ...  1.870595e-14   \n",
      "4561   0   0      0   1  0   0    0      0     0   0  ... -1.256225e-01   \n",
      "4562   0   2      0   2  2   3    0      1     0   0  ...  8.767849e-01   \n",
      "4563   0   0      0   2  4   0    0      0     0   0  ...  1.208496e+00   \n",
      "\n",
      "      Psi_i_1d           SdO     TI2_L      nCrt       SpMax_B       Psi_i_A  \\\n",
      "0    -0.447209  7.976115e-02 -0.493791 -0.100618 -3.556173e-01  4.487120e-01   \n",
      "1     0.049670  1.848942e-16 -0.167082 -0.100618  1.800629e-15  2.119236e-01   \n",
      "2     2.118098 -9.836088e-01 -0.899154 -0.100618 -7.509053e-01 -6.578374e-01   \n",
      "3     0.122513  1.200431e+00  0.272124 -0.100618 -3.961816e-01  6.116680e-01   \n",
      "4     0.001571 -9.836088e-01 -0.419353 -0.100618  1.745198e-02 -1.293736e+00   \n",
      "...        ...           ...       ...       ...           ...           ...   \n",
      "4559  0.142143 -9.836088e-01 -0.271873 -0.100618  1.800629e-15 -1.162366e-01   \n",
      "4560  0.052572  3.328161e+00 -0.523935 -0.100618  7.553993e-01  1.688646e+00   \n",
      "4561  0.578193 -9.836088e-01 -0.862732 -0.100618  1.800629e-15 -1.039128e+00   \n",
      "4562 -0.004804  1.178469e+00 -0.579020 -0.100618  1.800629e-15  2.900116e-01   \n",
      "4563  0.046197  1.638738e+00  3.110093 -0.100618  1.800629e-15 -1.522349e-15   \n",
      "\n",
      "         SM6_B            nX  Biodegradable  \n",
      "0    -0.532966 -1.602862e-01             RB  \n",
      "1     0.535403 -1.602862e-01             RB  \n",
      "2    -1.230161 -1.602862e-01            NRB  \n",
      "3    -0.083656 -1.602862e-01             RB  \n",
      "4    -0.078910 -1.602862e-01            NRB  \n",
      "...        ...           ...            ...  \n",
      "4559 -0.359206 -1.602862e-01             RB  \n",
      "4560  0.947520 -1.602862e-01            NRB  \n",
      "4561 -0.370857 -1.602862e-01             RB  \n",
      "4562  0.431519  2.612766e-17            NRB  \n",
      "4563  1.054510 -1.602862e-01            NRB  \n",
      "\n",
      "[4564 rows x 42 columns]\n",
      "(4564, 42)\n",
      "(889, 42)\n"
     ]
    },
    {
     "name": "stderr",
     "output_type": "stream",
     "text": [
      "C:\\Users\\rapos\\AppData\\Local\\Temp\\ipykernel_19508\\1373636091.py:47: FutureWarning: In a future version of pandas all arguments of DataFrame.dropna will be keyword-only.\n",
      "  total_dataset.dropna(0)\n"
     ]
    }
   ],
   "source": [
    "initial_dataset = pd.read_csv(\"biodegradable_a.csv\").sample(frac=1).reset_index(drop=True)\n",
    "total_len, _ = initial_dataset.shape\n",
    "\n",
    "# NOTE - NO INDEPENDENT VALIDATION SET !!!\n",
    "\n",
    "# Total with means\n",
    "#categorical = ['int16', 'int32', 'int64']\n",
    "#biodegradable = ['object']\n",
    "#numerical = ['float16', 'float32', 'float64']\n",
    "\n",
    "class_cols = [col for col in initial_dataset.drop(\"Biodegradable\", axis=1) if initial_dataset[col].apply(lambda x: x % 1 == 0).all()]\n",
    "num_cols = [col for col in initial_dataset.drop(\"Biodegradable\", axis=1) if initial_dataset[col].apply(lambda x: x % 1 != 0).any()]\n",
    "\n",
    "print(len(class_cols) + len(num_cols))\n",
    "print(len(initial_dataset.drop(\"Biodegradable\", axis=1).columns))\n",
    "\n",
    "total_categorical_dataset = initial_dataset[class_cols]\n",
    "#total_categorical_dataset = total_categorical_dataset.fillna(total_categorical_dataset.mode())\n",
    "total_categorical_dataset = total_categorical_dataset.fillna(-1)\n",
    "total_categorical_dataset = total_categorical_dataset.astype(int).astype(object).astype(str)\n",
    "#print(total_categorical_dataset)\n",
    "\n",
    "total_numerical_dataset = initial_dataset[num_cols]\n",
    "total_numerical_dataset = total_numerical_dataset.fillna(total_numerical_dataset.mean())\n",
    "\n",
    "total_biodegradable = initial_dataset[\"Biodegradable\"]\n",
    "#total_biodegradable = initial_dataset.select_dtypes(include=biodegradable)\n",
    "#total_biodegradable = total_biodegradable.fillna(\"\")\n",
    "\n",
    "# Scale numerical data\n",
    "# https://scikit-learn.org/stable/modules/preproce\n",
    "#print(total_numerical_dataset)\n",
    "\n",
    "scaler = StandardScaler()\n",
    "#scaler = MinMaxScaler(feature_range=(-1, 1))\n",
    "\n",
    "total_numerical_dataset = pd.DataFrame(scaler.fit_transform(total_numerical_dataset),\n",
    "             columns=total_numerical_dataset.columns, index=total_numerical_dataset.index)\n",
    "\n",
    "\n",
    "#total_numerical_dataset = pd.DataFrame(normalize(total_numerical_dataset, norm='l2', axis=1, copy=True, return_norm=False),\n",
    "#             columns=total_numerical_dataset.columns, index=total_numerical_dataset.index)\n",
    "\n",
    "#print(total_numerical_dataset)\n",
    "#\n",
    "total_dataset = pd.concat([total_categorical_dataset, total_numerical_dataset,total_biodegradable], axis=1)\n",
    "#total_dataset.dropna(0)\n",
    "print(total_dataset)\n",
    "\n",
    "total_len, _ = total_dataset.shape\n",
    "train_dataset_len = round(total_len * 0.75)\n",
    "\n",
    "dataset_train = total_dataset[0:train_dataset_len]\n",
    "dataset_test = total_dataset[train_dataset_len:total_len]\n",
    "\n",
    "print(total_dataset.shape)\n",
    "\n",
    "# Removal of None/NaN vals\n",
    "dropna_dataset = initial_dataset.dropna()\n",
    "\n",
    "dropna_len, _ = dropna_dataset.shape\n",
    "model_dropna_len = round(total_len * 0.75)\n",
    "\n",
    "dropna_train = dropna_dataset[0:model_dropna_len]\n",
    "dropna_test = dropna_dataset[model_dropna_len:dropna_len]\n",
    "\n",
    "print(dropna_dataset.shape)"
   ]
  },
  {
   "cell_type": "code",
   "execution_count": 3,
   "metadata": {},
   "outputs": [
    {
     "name": "stdout",
     "output_type": "stream",
     "text": [
      "Index(['nHM', 'F04', 'NssssC', 'nCb', 'nO', 'F03', 'nN_N', 'nArNO2', 'nCRX3',\n",
      "       'B01', 'B03', 'N_073', 'B04', 'C_026', 'F02_CN', 'nHDon', 'nN',\n",
      "       'nArCOOR', 'SpMax_L', 'J_Dz(e)', 'F01', 'C', 'nCp', 'SdssC', 'HyWi_B',\n",
      "       'LOC', 'SM6_L', 'F03_CO', 'Me', 'Mi', 'SpPosA_B', 'nCIR', 'SpMax_A',\n",
      "       'Psi_i_1d', 'SdO', 'TI2_L', 'nCrt', 'SpMax_B', 'Psi_i_A', 'SM6_B', 'nX',\n",
      "       'Biodegradable'],\n",
      "      dtype='object')\n",
      "Index(['SpMax_L', 'J_Dz(e)', 'nHM', 'F01', 'F04', 'NssssC', 'nCb', 'C', 'nCp',\n",
      "       'nO', 'F03', 'SdssC', 'HyWi_B', 'LOC', 'SM6_L', 'F03_CO', 'Me', 'Mi',\n",
      "       'nN_N', 'nArNO2', 'nCRX3', 'SpPosA_B', 'nCIR', 'B01', 'B03', 'N_073',\n",
      "       'SpMax_A', 'Psi_i_1d', 'B04', 'SdO', 'TI2_L', 'nCrt', 'C_026', 'F02_CN',\n",
      "       'nHDon', 'SpMax_B', 'Psi_i_A', 'nN', 'SM6_B', 'nArCOOR', 'nX',\n",
      "       'Biodegradable'],\n",
      "      dtype='object')\n"
     ]
    }
   ],
   "source": [
    "print(total_dataset.columns)\n",
    "print(dropna_test.columns)"
   ]
  },
  {
   "cell_type": "markdown",
   "metadata": {},
   "source": [
    "## Using Model with replaced values when NaN, and discarding the dropped NaN values dataset"
   ]
  },
  {
   "cell_type": "code",
   "execution_count": 4,
   "metadata": {},
   "outputs": [
    {
     "name": "stdout",
     "output_type": "stream",
     "text": [
      "     nHM F04 NssssC nCb nO F03 nN_N nArNO2 nCRX3 B01  ...      nCIR  \\\n",
      "0      0   0      0   0  2   0    0      0     0   0  ...  0.000000   \n",
      "1      0   0      0   2  4   0    0      0     0   0  ...  0.117354   \n",
      "2      0   0      1   0  0   0    0      0     0   0  ... -0.302031   \n",
      "3      0   0      0   0  4   0    0      0     0   0  ...  0.000000   \n",
      "4      0   1      0   1  0   2    0      0     0   0  ...  0.117354   \n",
      "...   ..  ..    ...  .. ..  ..  ...    ...   ...  ..  ...       ...   \n",
      "3418   0   0      0   0  4   0    0      0     0   0  ... -0.302031   \n",
      "3419   0   0      0   0  2   0    0      0     0   0  ... -0.302031   \n",
      "3420   0   0      0   1  1   0    0      0     0   0  ...  0.117354   \n",
      "3421   0   0      0   0  1   0    0      0     0   0  ...  0.000000   \n",
      "3422   0   0      0   0  0   0    0      0     0   0  ...  0.000000   \n",
      "\n",
      "           SpMax_A  Psi_i_1d           SdO     TI2_L      nCrt       SpMax_B  \\\n",
      "0    -7.745865e-03 -0.447209  7.976115e-02 -0.493791 -0.100618 -3.556173e-01   \n",
      "1     1.048795e+00  0.049670  1.848942e-16 -0.167082 -0.100618  1.800629e-15   \n",
      "2    -6.396091e-01  2.118098 -9.836088e-01 -0.899154 -0.100618 -7.509053e-01   \n",
      "3    -3.667911e-01  0.122513  1.200431e+00  0.272124 -0.100618 -3.961816e-01   \n",
      "4     6.029915e-01  0.001571 -9.836088e-01 -0.419353 -0.100618  1.745198e-02   \n",
      "...            ...       ...           ...       ...       ...           ...   \n",
      "3418 -1.289033e-01  0.046197  1.428922e+00  2.852071 -0.100618 -3.065507e-01   \n",
      "3419 -1.286108e+00  0.431023  2.764166e-02 -0.492835 -0.100618  1.800629e-15   \n",
      "3420  3.888516e-01 -0.106805 -9.836088e-01 -0.607112 -0.100618  8.621435e-02   \n",
      "3421  1.870595e-14  0.032403  1.139773e-01 -0.827366 -0.100618 -3.886873e-01   \n",
      "3422 -1.070179e+00  0.189507 -9.836088e-01  0.426010 -0.100618  1.800629e-15   \n",
      "\n",
      "           Psi_i_A     SM6_B            nX  \n",
      "0     4.487120e-01 -0.532966 -1.602862e-01  \n",
      "1     2.119236e-01  0.535403 -1.602862e-01  \n",
      "2    -6.578374e-01 -1.230161 -1.602862e-01  \n",
      "3     6.116680e-01 -0.083656 -1.602862e-01  \n",
      "4    -1.293736e+00 -0.078910 -1.602862e-01  \n",
      "...            ...       ...           ...  \n",
      "3418 -7.876701e-01  0.602067 -1.602862e-01  \n",
      "3419  7.590514e-01 -0.882881 -1.602862e-01  \n",
      "3420 -5.456377e-01 -0.136099  2.612766e-17  \n",
      "3421 -1.522349e-15 -0.615503 -1.602862e-01  \n",
      "3422 -1.771630e+00 -1.096266 -1.602862e-01  \n",
      "\n",
      "[3423 rows x 41 columns]\n",
      "0        RB\n",
      "1        RB\n",
      "2       NRB\n",
      "3        RB\n",
      "4       NRB\n",
      "       ... \n",
      "3418     RB\n",
      "3419     RB\n",
      "3420     RB\n",
      "3421     RB\n",
      "3422     RB\n",
      "Name: Biodegradable, Length: 3423, dtype: object\n"
     ]
    }
   ],
   "source": [
    "X_train_total = dataset_train.drop([\"Biodegradable\"], axis=1)\n",
    "y_train_total = dataset_train.Biodegradable\n",
    "print(X_train_total)\n",
    "print(y_train_total)\n",
    "\n",
    "X_test_total = dataset_test.drop([\"Biodegradable\"], axis=1)\n",
    "y_test_total = dataset_test.Biodegradable"
   ]
  },
  {
   "cell_type": "markdown",
   "metadata": {},
   "source": [
    "## Testing Random Forests for Feature Selection"
   ]
  },
  {
   "cell_type": "code",
   "execution_count": 5,
   "metadata": {},
   "outputs": [
    {
     "data": {
      "text/html": [
       "<style>#sk-container-id-1 {color: black;background-color: white;}#sk-container-id-1 pre{padding: 0;}#sk-container-id-1 div.sk-toggleable {background-color: white;}#sk-container-id-1 label.sk-toggleable__label {cursor: pointer;display: block;width: 100%;margin-bottom: 0;padding: 0.3em;box-sizing: border-box;text-align: center;}#sk-container-id-1 label.sk-toggleable__label-arrow:before {content: \"▸\";float: left;margin-right: 0.25em;color: #696969;}#sk-container-id-1 label.sk-toggleable__label-arrow:hover:before {color: black;}#sk-container-id-1 div.sk-estimator:hover label.sk-toggleable__label-arrow:before {color: black;}#sk-container-id-1 div.sk-toggleable__content {max-height: 0;max-width: 0;overflow: hidden;text-align: left;background-color: #f0f8ff;}#sk-container-id-1 div.sk-toggleable__content pre {margin: 0.2em;color: black;border-radius: 0.25em;background-color: #f0f8ff;}#sk-container-id-1 input.sk-toggleable__control:checked~div.sk-toggleable__content {max-height: 200px;max-width: 100%;overflow: auto;}#sk-container-id-1 input.sk-toggleable__control:checked~label.sk-toggleable__label-arrow:before {content: \"▾\";}#sk-container-id-1 div.sk-estimator input.sk-toggleable__control:checked~label.sk-toggleable__label {background-color: #d4ebff;}#sk-container-id-1 div.sk-label input.sk-toggleable__control:checked~label.sk-toggleable__label {background-color: #d4ebff;}#sk-container-id-1 input.sk-hidden--visually {border: 0;clip: rect(1px 1px 1px 1px);clip: rect(1px, 1px, 1px, 1px);height: 1px;margin: -1px;overflow: hidden;padding: 0;position: absolute;width: 1px;}#sk-container-id-1 div.sk-estimator {font-family: monospace;background-color: #f0f8ff;border: 1px dotted black;border-radius: 0.25em;box-sizing: border-box;margin-bottom: 0.5em;}#sk-container-id-1 div.sk-estimator:hover {background-color: #d4ebff;}#sk-container-id-1 div.sk-parallel-item::after {content: \"\";width: 100%;border-bottom: 1px solid gray;flex-grow: 1;}#sk-container-id-1 div.sk-label:hover label.sk-toggleable__label {background-color: #d4ebff;}#sk-container-id-1 div.sk-serial::before {content: \"\";position: absolute;border-left: 1px solid gray;box-sizing: border-box;top: 0;bottom: 0;left: 50%;z-index: 0;}#sk-container-id-1 div.sk-serial {display: flex;flex-direction: column;align-items: center;background-color: white;padding-right: 0.2em;padding-left: 0.2em;position: relative;}#sk-container-id-1 div.sk-item {position: relative;z-index: 1;}#sk-container-id-1 div.sk-parallel {display: flex;align-items: stretch;justify-content: center;background-color: white;position: relative;}#sk-container-id-1 div.sk-item::before, #sk-container-id-1 div.sk-parallel-item::before {content: \"\";position: absolute;border-left: 1px solid gray;box-sizing: border-box;top: 0;bottom: 0;left: 50%;z-index: -1;}#sk-container-id-1 div.sk-parallel-item {display: flex;flex-direction: column;z-index: 1;position: relative;background-color: white;}#sk-container-id-1 div.sk-parallel-item:first-child::after {align-self: flex-end;width: 50%;}#sk-container-id-1 div.sk-parallel-item:last-child::after {align-self: flex-start;width: 50%;}#sk-container-id-1 div.sk-parallel-item:only-child::after {width: 0;}#sk-container-id-1 div.sk-dashed-wrapped {border: 1px dashed gray;margin: 0 0.4em 0.5em 0.4em;box-sizing: border-box;padding-bottom: 0.4em;background-color: white;}#sk-container-id-1 div.sk-label label {font-family: monospace;font-weight: bold;display: inline-block;line-height: 1.2em;}#sk-container-id-1 div.sk-label-container {text-align: center;}#sk-container-id-1 div.sk-container {/* jupyter's `normalize.less` sets `[hidden] { display: none; }` but bootstrap.min.css set `[hidden] { display: none !important; }` so we also need the `!important` here to be able to override the default hidden behavior on the sphinx rendered scikit-learn.org. See: https://github.com/scikit-learn/scikit-learn/issues/21755 */display: inline-block !important;position: relative;}#sk-container-id-1 div.sk-text-repr-fallback {display: none;}</style><div id=\"sk-container-id-1\" class=\"sk-top-container\"><div class=\"sk-text-repr-fallback\"><pre>SelectFromModel(estimator=RandomForestClassifier(), max_features=12)</pre><b>In a Jupyter environment, please rerun this cell to show the HTML representation or trust the notebook. <br />On GitHub, the HTML representation is unable to render, please try loading this page with nbviewer.org.</b></div><div class=\"sk-container\" hidden><div class=\"sk-item sk-dashed-wrapped\"><div class=\"sk-label-container\"><div class=\"sk-label sk-toggleable\"><input class=\"sk-toggleable__control sk-hidden--visually\" id=\"sk-estimator-id-1\" type=\"checkbox\" ><label for=\"sk-estimator-id-1\" class=\"sk-toggleable__label sk-toggleable__label-arrow\">SelectFromModel</label><div class=\"sk-toggleable__content\"><pre>SelectFromModel(estimator=RandomForestClassifier(), max_features=12)</pre></div></div></div><div class=\"sk-parallel\"><div class=\"sk-parallel-item\"><div class=\"sk-item\"><div class=\"sk-label-container\"><div class=\"sk-label sk-toggleable\"><input class=\"sk-toggleable__control sk-hidden--visually\" id=\"sk-estimator-id-2\" type=\"checkbox\" ><label for=\"sk-estimator-id-2\" class=\"sk-toggleable__label sk-toggleable__label-arrow\">estimator: RandomForestClassifier</label><div class=\"sk-toggleable__content\"><pre>RandomForestClassifier()</pre></div></div></div><div class=\"sk-serial\"><div class=\"sk-item\"><div class=\"sk-estimator sk-toggleable\"><input class=\"sk-toggleable__control sk-hidden--visually\" id=\"sk-estimator-id-3\" type=\"checkbox\" ><label for=\"sk-estimator-id-3\" class=\"sk-toggleable__label sk-toggleable__label-arrow\">RandomForestClassifier</label><div class=\"sk-toggleable__content\"><pre>RandomForestClassifier()</pre></div></div></div></div></div></div></div></div></div></div>"
      ],
      "text/plain": [
       "SelectFromModel(estimator=RandomForestClassifier(), max_features=12)"
      ]
     },
     "execution_count": 5,
     "metadata": {},
     "output_type": "execute_result"
    }
   ],
   "source": [
    "# https://towardsdatascience.com/feature-selection-using-random-forest-26d7b747597f\n",
    "sel = SelectFromModel(RandomForestClassifier(n_estimators = 100), max_features=12) # when no max_features are specified, seems to vary between 12 and 15\n",
    "sel.fit(X_train_total, y_train_total)"
   ]
  },
  {
   "cell_type": "code",
   "execution_count": 6,
   "metadata": {},
   "outputs": [
    {
     "name": "stdout",
     "output_type": "stream",
     "text": [
      "[ True  True  True  True False  True False False False False False False\n",
      " False False  True False  True False  True False False False False False\n",
      " False False  True False False False  True False False False False False\n",
      " False False False  True  True]\n",
      "12\n",
      "Index(['nHM', 'F04', 'NssssC', 'nCb', 'F03', 'F02_CN', 'nN', 'SpMax_L',\n",
      "       'SM6_L', 'SpPosA_B', 'SM6_B', 'nX'],\n",
      "      dtype='object')\n"
     ]
    }
   ],
   "source": [
    "\n",
    "print(sel.get_support())\n",
    "selected_feat= X_train_total.columns[(sel.get_support())]\n",
    "print(len(selected_feat))\n",
    "print(selected_feat)"
   ]
  },
  {
   "cell_type": "code",
   "execution_count": 7,
   "metadata": {},
   "outputs": [
    {
     "name": "stdout",
     "output_type": "stream",
     "text": [
      "     nHM F04 NssssC nCb F03 F02_CN nN   SpMax_L     SM6_L  SpPosA_B     SM6_B  \\\n",
      "0      0   0      0   0   0      0  0  0.647035  0.059398 -0.576764 -0.532966   \n",
      "1      0   0      0   2   0      0  0  0.856252  0.786146  0.065220  0.535403   \n",
      "2      0   0      1   0   0      3  1  0.928629  0.059824 -0.310812 -1.230161   \n",
      "3      0   0      0   0   0      0  0 -0.318002 -0.014615 -0.892347 -0.083656   \n",
      "4      0   1      0   1   2      4  1  0.549954  0.229274  0.623469 -0.078910   \n",
      "...   ..  ..    ...  ..  ..    ... ..       ...       ...       ...       ...   \n",
      "3418   0   0      0   0   0      0  0 -0.216163  0.867787 -0.423026  0.602067   \n",
      "3419   0   0      0   0   0      0  0 -0.748765 -1.086930 -0.932843 -0.882881   \n",
      "3420   0   0      0   1   0      0  0  0.121582  0.035307  0.520911 -0.136099   \n",
      "3421   0   0      0   0   0      0  0 -0.173122 -0.291635 -0.237572 -0.615503   \n",
      "3422   0   0      0   0   0      0  0 -1.358747 -0.850887  0.006335 -1.096266   \n",
      "\n",
      "                nX  \n",
      "0    -1.602862e-01  \n",
      "1    -1.602862e-01  \n",
      "2    -1.602862e-01  \n",
      "3    -1.602862e-01  \n",
      "4    -1.602862e-01  \n",
      "...            ...  \n",
      "3418 -1.602862e-01  \n",
      "3419 -1.602862e-01  \n",
      "3420  2.612766e-17  \n",
      "3421 -1.602862e-01  \n",
      "3422 -1.602862e-01  \n",
      "\n",
      "[3423 rows x 12 columns]\n"
     ]
    }
   ],
   "source": [
    "X_train_rf = X_train_total[X_train_total.columns[(sel.get_support())]]\n",
    "X_test_rf = X_test_total[X_test_total.columns[(sel.get_support())]]\n",
    "\n",
    "print(X_train_rf)"
   ]
  },
  {
   "cell_type": "markdown",
   "metadata": {},
   "source": [
    "## Testing a Random Forest Model for Classification"
   ]
  },
  {
   "cell_type": "code",
   "execution_count": 16,
   "metadata": {},
   "outputs": [
    {
     "name": "stdout",
     "output_type": "stream",
     "text": [
      "The Accuracy is:  0.9544\n",
      "The Precision is:  0.9822\n",
      "The Recall is:  0.9641\n",
      "The F1 score is:  0.9731\n",
      "The Matthews correlation coefficient is:  0.8261\n",
      "\n",
      "This is the Confusion Matrix\n",
      "     0    1\n",
      "0  149   17\n",
      "1   35  940\n"
     ]
    }
   ],
   "source": [
    "rf_model = RandomForestClassifier(n_estimators = 100)\n",
    "rf_model.fit(X_train_rf, y_train_total)\n",
    "\n",
    "preds = rf_model.predict(X_test_rf)\n",
    "truths = y_test_total.to_numpy()\n",
    "\n",
    "printClassResults(preds,truths)"
   ]
  }
 ],
 "metadata": {
  "kernelspec": {
   "display_name": "Python 3.9.12 ('base')",
   "language": "python",
   "name": "python3"
  },
  "language_info": {
   "codemirror_mode": {
    "name": "ipython",
    "version": 3
   },
   "file_extension": ".py",
   "mimetype": "text/x-python",
   "name": "python",
   "nbconvert_exporter": "python",
   "pygments_lexer": "ipython3",
   "version": "3.9.12"
  },
  "orig_nbformat": 4,
  "vscode": {
   "interpreter": {
    "hash": "055142e5cf66ed8ee87e97d9d29944a505c8696ace08c4c3475747b47f85af0d"
   }
  }
 },
 "nbformat": 4,
 "nbformat_minor": 2
}
